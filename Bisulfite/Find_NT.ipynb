{
 "cells": [
  {
   "cell_type": "code",
   "execution_count": 19,
   "metadata": {},
   "outputs": [
    {
     "name": "stdout",
     "output_type": "stream",
     "text": [
      "2\t1\t5\tN\n",
      "\n",
      "2\t-1\t5\tN\n",
      "\n",
      "1\t1\t10\tC\n",
      "\n",
      "1\t1\t5\tT\n",
      "\n",
      "1\t-1\t5\tA\n",
      "\n",
      "24.6jsd3.Tut\t1\t6\tG\n",
      "\n",
      "24.6jsd3.Tut\t-1\t6\tC\n",
      "\n"
     ]
    }
   ],
   "source": [
    "### test on small Data\n",
    "from Bio.Seq import Seq\n",
    "from Bio import SeqIO\n",
    "import re\n",
    "\n",
    "def main():\n",
    "    fout = open('sample_chr_strand_loci_allele.txt', 'wt')\n",
    "    for seq_record in SeqIO.parse('sample_genome.fasta', 'fasta'):\n",
    "        get_loci(seq_record.id, seq_record.seq, fout)\n",
    "\n",
    "    fout.close()\n",
    "\n",
    "    \n",
    "def get_loci(chrid, chrseq, fout):\n",
    "    wtoc = {'A':'T', 'T':'A', 'C':'G', 'G':'C', 'N':'N'}\n",
    "    with open('sample_chr_strand_loci.txt', 'rt') as f:\n",
    "        \n",
    "        for line in f:\n",
    "            line = line.rstrip()\n",
    "            lst = line.split()\n",
    "            if lst[0]==chrid:\n",
    "                if lst[1] == '1':\n",
    "                    allele = chrseq[int(lst[2])-1]\n",
    "                elif lst[1] == '-1':\n",
    "                    allele = wtoc[chrseq[int(lst[2])-1]]\n",
    "                fout.write(line+'\\t'+allele+'\\n')\n",
    "                print (line+'\\t'+allele+'\\n')\n",
    "                \n",
    "if __name__ == '__main__':\n",
    "    main()"
   ]
  },
  {
   "cell_type": "code",
   "execution_count": null,
   "metadata": {},
   "outputs": [],
   "source": []
  },
  {
   "cell_type": "code",
   "execution_count": null,
   "metadata": {},
   "outputs": [],
   "source": [
    "# use a BioPython module\n",
    "\n",
    "from Bio.Seq import Seq\n",
    "from Bio import SeqIO\n",
    "import re\n",
    "\n",
    "def main():\n",
    "    wtoc = {'A':'T', 'T':'A', 'C':'G', 'G':'C', 'N':'N'}\n",
    "    fout = open('xiaoxia_chr_strand_loci_allele.txt', 'wt')\n",
    "    for seq_record in SeqIO.parse('HSGRCH3771_final.fa', 'fasta'):\n",
    "        get_loci(seq_record.id, seq_record.seq, fout)\n",
    "\n",
    "    fout.close()\n",
    "\n",
    "    \n",
    "def get_loci(chrid, chrseq, fout):\n",
    "    wtoc = {'A':'T', 'T':'A', 'C':'G', 'G':'C', 'N':'N'}\n",
    "    with open('xiaoxia_chr_strand_loci.txt', 'rt') as f:\n",
    "        for line in f:\n",
    "            line = line.rstrip()\n",
    "            lst = line.split()\n",
    "            if lst[0]==chrid:\n",
    "                if lst[1] == '1':\n",
    "                    allele = chrseq[int(lst[2])-1]\n",
    "                elif lst[1] == '-1':\n",
    "                    allele = wtoc[chrseq[int(lst[2])-1]]\n",
    "                #fout.write(line+'\\t'+allele+'\\n')\n",
    "                \n",
    "if __name__ == '__main__':\n",
    "    main()"
   ]
  },
  {
   "cell_type": "code",
   "execution_count": null,
   "metadata": {},
   "outputs": [],
   "source": []
  },
  {
   "cell_type": "code",
   "execution_count": null,
   "metadata": {},
   "outputs": [],
   "source": [
    "# parse genome manually\n",
    "\n",
    "import re\n",
    "import collections\n",
    "seq = collections.OrderedDict()\n",
    "\n",
    "\n",
    "def main():\n",
    "    fout = open('xiaoxia_chr_strand_loci_allele.txt', 'wt')\n",
    "    for chrid, chrseq in genomeparse('HSGRCH3771_final.fa').items():\n",
    "        get_loci(chrid, chrseq, fout)\n",
    "    \n",
    "    #hs_genome = parse('HSGRCH3771_final.fa')\n",
    "\n",
    "    fout.close()\n",
    "\n",
    "\n",
    "def genomeparse(genome, fmt = 'fasta'):\n",
    "    with open (genome) as f:\n",
    "        chm = ''\n",
    "        sequence = ''\n",
    "        for line in f:\n",
    "            line = line.rstrip().replace(' ', '')\n",
    "            if line.startswith('>'):\n",
    "                seq[chm] = sequence\n",
    "                sequence = ''\n",
    "                chm = re.sub('>', '', line)\n",
    "                #print (chm)\n",
    "                continue\n",
    "            else:\n",
    "                sequence += line\n",
    "        seq[chm] = sequence\n",
    "        del seq['']\n",
    "    return seq\n",
    "\n",
    "\n",
    "def get_loci(chrid, chrseq, fout):\n",
    "    wtoc = {'A':'T', 'T':'A', 'C':'G', 'G':'C', 'N':'N'}\n",
    "    with open('xiaoxia_chr_strand_loci.txt', 'rt') as f:\n",
    "        for line in f:\n",
    "            line = line.rstrip()\n",
    "            lst = line.split()\n",
    "            if lst[0]==chrid:\n",
    "                if lst[1] == '1':\n",
    "                    allele = chrseq[int(lst[2])-1]\n",
    "                elif lst[1] == '-1':\n",
    "                    allele = wtoc[chrseq[int(lst[2])-1]]\n",
    "                #fout.write(line+'\\t'+allele+'\\n')\n",
    "                print (line+'\\t'+allele+'\\n')\n",
    "                \n",
    "if __name__ == '__main__':\n",
    "    main()\n",
    "                \n",
    "                \n",
    "'''\n",
    "def get_loci_s(chrid, chrseq): # for small genome\n",
    "    with open('xiaoxia_chr_strand_loci.txt') as f:\n",
    "        for line in f:\n",
    "            line = line.rstrip()\n",
    "            lst = line.split()\n",
    "            if lst[0] not in seq.keys():\n",
    "                fout.write(line+'\\t'+'NA'+'\\n')\n",
    "                #print (line+'\\t'+'NA'+'\\n')\n",
    "            else:\n",
    "                if lst[1] == '1':\n",
    "                    allele = seq[lst[0]][int(lst[2])-1]\n",
    "                elif lst[1] == '-1':\n",
    "                    allele = wtoc[seq[lst[0]][int(lst[2])-1]]\n",
    "                #print (line+'\\t'+allele+'\\n')\n",
    "                fout.write(line+'\\t'+allele+'\\n')\n",
    "\n",
    "'''"
   ]
  },
  {
   "cell_type": "code",
   "execution_count": null,
   "metadata": {},
   "outputs": [],
   "source": []
  },
  {
   "cell_type": "code",
   "execution_count": 22,
   "metadata": {},
   "outputs": [
    {
     "name": "stdout",
     "output_type": "stream",
     "text": [
      "{'': ''}\n"
     ]
    }
   ],
   "source": [
    "xxx = {'':''}\n",
    "\n",
    "print (xxx)"
   ]
  },
  {
   "cell_type": "code",
   "execution_count": 7,
   "metadata": {},
   "outputs": [
    {
     "name": "stdout",
     "output_type": "stream",
     "text": [
      "OrderedDict()\n",
      "OrderedDict([('a', 1), ('c', 2), ('b', 3)])\n"
     ]
    }
   ],
   "source": [
    "import collections\n",
    "d = collections.OrderedDict()\n",
    "print (d)\n",
    "d['a'] = 1\n",
    "d['c'] = 2\n",
    "d['b'] = 3\n",
    "print (d)\n"
   ]
  },
  {
   "cell_type": "code",
   "execution_count": 8,
   "metadata": {},
   "outputs": [
    {
     "name": "stdout",
     "output_type": "stream",
     "text": [
      "{'c': 2, 'a': 1, 'b': 3}\n"
     ]
    }
   ],
   "source": [
    "e = {}\n",
    "e['a'] = 1\n",
    "e['c'] = 2\n",
    "e['b'] = 3\n",
    "print (e)"
   ]
  },
  {
   "cell_type": "code",
   "execution_count": null,
   "metadata": {
    "collapsed": true
   },
   "outputs": [],
   "source": []
  }
 ],
 "metadata": {
  "kernelspec": {
   "display_name": "Python 3",
   "language": "python",
   "name": "python3"
  },
  "language_info": {
   "codemirror_mode": {
    "name": "ipython",
    "version": 3
   },
   "file_extension": ".py",
   "mimetype": "text/x-python",
   "name": "python",
   "nbconvert_exporter": "python",
   "pygments_lexer": "ipython3",
   "version": "3.6.5"
  }
 },
 "nbformat": 4,
 "nbformat_minor": 1
}
