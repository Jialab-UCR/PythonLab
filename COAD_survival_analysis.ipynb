{
 "cells": [
  {
   "cell_type": "code",
   "execution_count": 1,
   "metadata": {
    "collapsed": true
   },
   "outputs": [],
   "source": [
    "import os\n",
    "import re\n",
    "import glob\n",
    "from collections import OrderedDict\n",
    "\n",
    "os.chdir('/home/ruidong/Documents/Research/share/Cox/miRNA/')"
   ]
  },
  {
   "cell_type": "code",
   "execution_count": 13,
   "metadata": {
    "collapsed": false
   },
   "outputs": [],
   "source": []
  },
  {
   "cell_type": "code",
   "execution_count": 3,
   "metadata": {
    "collapsed": false
   },
   "outputs": [],
   "source": [
    "survFiles = sorted(glob.glob('*s.txt'))"
   ]
  },
  {
   "cell_type": "code",
   "execution_count": 4,
   "metadata": {
    "collapsed": false
   },
   "outputs": [],
   "source": [
    "for fl in survFiles:\n",
    "    fh = open(fl[:-3]+'sig.txt', 'wt')\n",
    "    with open(fl) as f:\n",
    "        for line in f:\n",
    "            line = line.rstrip()\n",
    "            lst = line.split('\\t')\n",
    "            if lst[0] == 'coef':\n",
    "                fh.write(line+'\\n')\n",
    "                \n",
    "            elif float(lst[-2]) < 0.05:\n",
    "                fh.write(line+'\\n')\n",
    "                \n",
    "    fh.close()"
   ]
  },
  {
   "cell_type": "code",
   "execution_count": null,
   "metadata": {
    "collapsed": true
   },
   "outputs": [],
   "source": []
  },
  {
   "cell_type": "code",
   "execution_count": 5,
   "metadata": {
    "collapsed": true
   },
   "outputs": [],
   "source": [
    "GPL570 = OrderedDict()\n",
    "with open('../GPL570-55999.txt') as f:\n",
    "    for line in f:\n",
    "        line = line.rstrip()\n",
    "        lst = line.split('\\t')\n",
    "        if line.startswith('#') or lst[0]=='ID':\n",
    "            continue\n",
    "        if len(lst) < 10:\n",
    "            continue\n",
    "            \n",
    "        GPL570[lst[0]] = lst[10].split(' /// ')"
   ]
  },
  {
   "cell_type": "code",
   "execution_count": 7,
   "metadata": {
    "collapsed": false
   },
   "outputs": [
    {
     "data": {
      "text/plain": [
       "37486"
      ]
     },
     "execution_count": 7,
     "metadata": {},
     "output_type": "execute_result"
    }
   ],
   "source": [
    "survGenes = []\n",
    "\n",
    "sigFiles = sorted(glob.glob('new.TCGA*sig.txt'))\n",
    "for fl in sigFiles:\n",
    "    with open(fl) as f:\n",
    "        for line in f:\n",
    "            line = line.rstrip()\n",
    "            lst = line.split('\\t')\n",
    "            if lst[0] == 'coef':\n",
    "                continue\n",
    "                \n",
    "            else:\n",
    "                gene = lst[0].split('|')[0]\n",
    "                if gene not in survGenes:\n",
    "                    survGenes.append(gene)\n",
    "len(survGenes)"
   ]
  },
  {
   "cell_type": "code",
   "execution_count": 36,
   "metadata": {
    "collapsed": false
   },
   "outputs": [
    {
     "data": {
      "text/plain": [
       "10859"
      ]
     },
     "execution_count": 36,
     "metadata": {},
     "output_type": "execute_result"
    }
   ],
   "source": [
    "sigFiles = sorted(glob.glob('GEO*sig.txt'))\n",
    "for fl in sigFiles:\n",
    "    with open(fl) as f:\n",
    "        for line in f:\n",
    "            line = line.rstrip()\n",
    "            lst = line.split('\\t')\n",
    "            if lst[0] == 'coef':\n",
    "                continue\n",
    "            \n",
    "            elif lst[0] not in GPL570.keys():\n",
    "                #print (lst[0])\n",
    "                continue\n",
    "            else:\n",
    "                genes = GPL570[lst[0]]\n",
    "                for gene in genes:\n",
    "                    if gene not in survGenes:\n",
    "                        survGenes.append(gene)\n",
    "len(survGenes)"
   ]
  },
  {
   "cell_type": "code",
   "execution_count": 59,
   "metadata": {
    "collapsed": false
   },
   "outputs": [],
   "source": [
    "samples = []\n",
    "with open('methy_clinical.csv') as f:\n",
    "    for line in f:\n",
    "        line = line.rstrip()\n",
    "        lst = line.split(',')\n",
    "        if lst[0] == 'ID':\n",
    "            continue\n",
    "        samples.append(lst[0]+'-01A')\n",
    "        "
   ]
  },
  {
   "cell_type": "code",
   "execution_count": null,
   "metadata": {
    "collapsed": true
   },
   "outputs": [],
   "source": []
  },
  {
   "cell_type": "code",
   "execution_count": 67,
   "metadata": {
    "collapsed": false
   },
   "outputs": [],
   "source": [
    "probes = []\n",
    "\n",
    "fh1 = open('methylation.clean.txt', 'wt')\n",
    "\n",
    "with open('methylation.beta_value450_only.symbol.TCGA-COAD.txt') as f:\n",
    "    for line in f:\n",
    "        line = line.rstrip()\n",
    "        lst = line.split('\\t')\n",
    "        if lst[0] == 'Probe':\n",
    "            samIndex = [lst.index(sam) for sam in samples if sam in lst]\n",
    "            fh1.write('\\t'+'\\t'.join([lst[i] for i in samIndex])+'\\n')\n",
    "        elif lst[1] not in survGenes:\n",
    "            continue\n",
    "        elif lst[0] in probes:\n",
    "            continue\n",
    "        else:\n",
    "            probes.append(lst[0])\n",
    "            fh1.write(lst[0]+'\\t'+'\\t'.join([lst[i] for i in samIndex])+'\\n')\n",
    "            \n",
    "fh1.close()"
   ]
  },
  {
   "cell_type": "code",
   "execution_count": null,
   "metadata": {
    "collapsed": true
   },
   "outputs": [],
   "source": []
  },
  {
   "cell_type": "code",
   "execution_count": 69,
   "metadata": {
    "collapsed": false
   },
   "outputs": [],
   "source": [
    "survFiles = sorted(glob.glob('TCGA.Methy*.txt'))\n",
    "\n",
    "for fl in survFiles:\n",
    "    fh = open(fl[:-3]+'sig.txt', 'wt')\n",
    "    with open(fl) as f:\n",
    "        for line in f:\n",
    "            line = line.rstrip()\n",
    "            lst = line.split('\\t')\n",
    "            if lst[0] == 'coef':\n",
    "                fh.write(line+'\\n')\n",
    "            elif lst[-2] == 'NA':\n",
    "                continue\n",
    "            elif float(lst[-2]) < 0.05:\n",
    "                fh.write(line+'\\n')\n",
    "                \n",
    "    fh.close()"
   ]
  },
  {
   "cell_type": "code",
   "execution_count": null,
   "metadata": {
    "collapsed": true
   },
   "outputs": [],
   "source": []
  },
  {
   "cell_type": "code",
   "execution_count": null,
   "metadata": {
    "collapsed": true
   },
   "outputs": [],
   "source": []
  },
  {
   "cell_type": "code",
   "execution_count": 8,
   "metadata": {
    "collapsed": true
   },
   "outputs": [],
   "source": [
    "methy450Anno = OrderedDict()\n",
    "\n",
    "with open('../methylation450_annotation.clean.txt') as f:\n",
    "    for line in f:\n",
    "        line = line.rstrip()\n",
    "        lst = line.split('\\t')\n",
    "        genes = set(lst[4].split(';'))\n",
    "        methy450Anno[lst[0]] = genes\n",
    "        \n",
    "        \n"
   ]
  },
  {
   "cell_type": "code",
   "execution_count": 71,
   "metadata": {
    "collapsed": false
   },
   "outputs": [
    {
     "name": "stdout",
     "output_type": "stream",
     "text": [
      "1\n",
      "2\n",
      "3\n",
      "5\n"
     ]
    }
   ],
   "source": [
    "#############\n",
    "## univariate coxph os ***\n",
    "## multivariate coxph os ***\n",
    "## univariate survdiff os <median, 0.3>\n",
    "## multivariate survdiff os <median, 0.3>\n",
    "\n",
    "## univariate coxph rfs ***\n",
    "## multivariate coxph rfs ***\n",
    "## univariate survdiff rfs <median, 0.3> ***\n",
    "## multivariate survdiff rfs <median, 0.3> ***"
   ]
  },
  {
   "cell_type": "code",
   "execution_count": 106,
   "metadata": {
    "collapsed": false
   },
   "outputs": [],
   "source": [
    "sigFiles = sorted(glob.glob('*univariate.survdiff.rfs.sig.txt'))\n",
    "geneSet1 = OrderedDict()\n",
    "geneSet2 = OrderedDict()\n",
    "ovlp = OrderedDict()\n",
    "\n",
    "fh = open('Univariate.survdiff.median.os.overlap.txt', 'wt')\n",
    "with open('GEO.Expr.univariate.survdiff.os.sig.txt') as f:\n",
    "    for line in f:\n",
    "        line = line.rstrip()\n",
    "        lst = line.split('\\t')\n",
    "        if lst[0] == 'coef':\n",
    "            fh.write('Gene\\tProbe\\t'+line+'\\n')\n",
    "            continue\n",
    "        \n",
    "        if lst[0] in GPL570.keys():\n",
    "            genes = GPL570[lst[0]]\n",
    "            for gene in genes:\n",
    "                geneSet1[gene] = gene+'\\t'+line\n",
    "                #print (gene)\n",
    "                \n",
    "with open('TCGA.Expr.univariate.survdiff.os.sig.txt') as f:\n",
    "    for line in f:\n",
    "        line = line.rstrip()\n",
    "        lst = line.split('\\t')\n",
    "        if lst[0] == 'coef':\n",
    "            continue\n",
    "        \n",
    "        gene = lst[0].split('|')[0]\n",
    "        if gene in geneSet1.keys():\n",
    "            geneSet2[gene] = gene+'\\t'+line\n",
    "            \n",
    "            \n",
    "with open('TCGA.Methy.univariate.survdiff.os.sig.txt') as f:\n",
    "    for line in f:\n",
    "        line = line.rstrip()\n",
    "        lst = line.split('\\t')\n",
    "        if lst[0] == 'coef':\n",
    "            continue\n",
    "        \n",
    "        elif lst[0] not in methy450Anno.keys():\n",
    "            continue\n",
    "            \n",
    "        genes = methy450Anno[lst[0]]\n",
    "        \n",
    "        for gene in genes:\n",
    "            if gene in geneSet2.keys():\n",
    "                fh.write('\\n'.join([geneSet1[gene],geneSet2[gene],gene+'\\t'+line])+'\\n\\n')\n",
    "fh.close()\n",
    "            "
   ]
  },
  {
   "cell_type": "code",
   "execution_count": 89,
   "metadata": {
    "collapsed": false
   },
   "outputs": [
    {
     "data": {
      "text/plain": [
       "['FABP5']"
      ]
     },
     "execution_count": 89,
     "metadata": {},
     "output_type": "execute_result"
    }
   ],
   "source": [
    "GPL570['202345_s_at']"
   ]
  },
  {
   "cell_type": "code",
   "execution_count": 92,
   "metadata": {
    "collapsed": false
   },
   "outputs": [
    {
     "data": {
      "text/plain": [
       "{'FABP5', 'RP11-363E6.3'}"
      ]
     },
     "execution_count": 92,
     "metadata": {},
     "output_type": "execute_result"
    }
   ],
   "source": [
    "methy450Anno['cg07701018']"
   ]
  },
  {
   "cell_type": "code",
   "execution_count": null,
   "metadata": {
    "collapsed": true
   },
   "outputs": [],
   "source": []
  },
  {
   "cell_type": "code",
   "execution_count": 107,
   "metadata": {
    "collapsed": false
   },
   "outputs": [],
   "source": [
    "sigFiles = sorted(glob.glob('*multivariate.survdiff.rfs.sig.txt'))\n",
    "geneSet1 = OrderedDict()\n",
    "geneSet2 = OrderedDict()\n",
    "ovlp = OrderedDict()\n",
    "\n",
    "fh = open('Multivariate.survdiff.median.os.overlap.txt', 'wt')\n",
    "with open('GEO.Expr.multivariate.survdiff.os.sig.txt') as f:\n",
    "    for line in f:\n",
    "        line = line.rstrip()\n",
    "        lst = line.split('\\t')\n",
    "        if lst[0] == 'coef':\n",
    "            fh.write('Gene\\tProbe\\t'+line+'\\n')\n",
    "            continue\n",
    "        \n",
    "        if lst[0] in GPL570.keys():\n",
    "            genes = GPL570[lst[0]]\n",
    "            for gene in genes:\n",
    "                geneSet1[gene] = gene+'\\t'+line\n",
    "                #print (gene)\n",
    "                \n",
    "with open('TCGA.Expr.multivariate.survdiff.os.sig.txt') as f:\n",
    "    for line in f:\n",
    "        line = line.rstrip()\n",
    "        lst = line.split('\\t')\n",
    "        if lst[0] == 'coef':\n",
    "            continue\n",
    "        \n",
    "        gene = lst[0].split('|')[0]\n",
    "        if gene in geneSet1.keys():\n",
    "            geneSet2[gene] = gene+'\\t'+line\n",
    "            \n",
    "            \n",
    "with open('TCGA.Methy.multivariate.survdiff.os.sig.txt') as f:\n",
    "    for line in f:\n",
    "        line = line.rstrip()\n",
    "        lst = line.split('\\t')\n",
    "        if lst[0] == 'coef':\n",
    "            continue\n",
    "        \n",
    "        elif lst[0] not in methy450Anno.keys():\n",
    "            continue\n",
    "            \n",
    "        genes = methy450Anno[lst[0]]\n",
    "        \n",
    "        for gene in genes:\n",
    "            if gene in geneSet2.keys():\n",
    "                fh.write('\\n'.join([geneSet1[gene],geneSet2[gene],gene+'\\t'+line])+'\\n\\n')\n",
    "fh.close()\n",
    "            "
   ]
  },
  {
   "cell_type": "code",
   "execution_count": null,
   "metadata": {
    "collapsed": true
   },
   "outputs": [],
   "source": []
  },
  {
   "cell_type": "code",
   "execution_count": 110,
   "metadata": {
    "collapsed": false
   },
   "outputs": [
    {
     "name": "stdout",
     "output_type": "stream",
     "text": [
      "LMAN2\n",
      "RAPGEF5\n",
      "HIST4H4\n",
      "PBK\n",
      "OXSM\n",
      "PDGFB\n",
      "WHSC1\n",
      "MARCH6\n",
      "DNAH17\n",
      "PPA2\n",
      "DHX15\n",
      "FDFT1\n",
      "PRRX2\n",
      "ESPNL\n",
      "HSPA1L\n",
      "SAMD11\n",
      "RNF4\n",
      "NEK9\n",
      "RAB7A\n",
      "PLEKHM3\n",
      "TACC3\n",
      "COQ2\n",
      "SENP7\n",
      "ASRGL1\n",
      "KCP\n",
      "ALDH3B1\n",
      "ANKRD6\n",
      "ATP5B\n"
     ]
    }
   ],
   "source": [
    "uniGene = []\n",
    "multiGene = []\n",
    "\n",
    "with open('Univariate.coxph.os.overlap.txt') as f:\n",
    "    for line in f:\n",
    "        line = line.rstrip()\n",
    "        lst = line.split('\\t')\n",
    "        if lst[0] == 'Gene' or lst[0]== '':\n",
    "            #fh.write(line+'\\n')\n",
    "            continue\n",
    "            \n",
    "        if lst[0] not in uniGene:\n",
    "            uniGene.append(lst[0])\n",
    "            \n",
    "\n",
    "with open('Multivariate.coxph.os.overlap.txt') as f:\n",
    "    for line in f:\n",
    "        line = line.rstrip()\n",
    "        lst = line.split('\\t')\n",
    "        if lst[0] == 'Gene' or lst[0]== '':\n",
    "            #fh.write(line+'\\n')\n",
    "            continue\n",
    "            \n",
    "        if lst[0] in uniGene and lst[0] not in multiGene:\n",
    "            multiGene.append(lst[0])\n",
    "            print (lst[0])\n",
    "            "
   ]
  },
  {
   "cell_type": "code",
   "execution_count": null,
   "metadata": {
    "collapsed": true
   },
   "outputs": [],
   "source": [
    "\n",
    "with open('Univariate.coxph.os.overlap.txt') as f:\n",
    "    for line in f:\n",
    "        line = line.rstrip()\n",
    "        lst = line.split('\\t')\n",
    "        if lst[0] == 'Gene':\n",
    "            fh.write(line+'\\n')\n",
    "            continue\n",
    "            \n",
    "        if lst[0] not in uniGene:\n",
    "            uniGene.append(lst[0])\n",
    "            \n",
    "\n",
    "with open('Multivariate.coxph.os.overlap.txt') as f:\n",
    "    for line in f:\n",
    "        line = line.rstrip()\n",
    "        lst = line.split('\\t')\n",
    "        if lst[0] == 'Gene' or lst[0]== '':\n",
    "            #fh.write(line+'\\n')\n",
    "            continue\n",
    "            \n",
    "        if lst[0] in uniGene and lst[0] not in multiGene:\n",
    "            multiGene.append(lst[0])\n",
    "            print (lst[0])"
   ]
  },
  {
   "cell_type": "code",
   "execution_count": null,
   "metadata": {
    "collapsed": true
   },
   "outputs": [],
   "source": []
  },
  {
   "cell_type": "code",
   "execution_count": 132,
   "metadata": {
    "collapsed": false
   },
   "outputs": [],
   "source": [
    "sigFiles = sorted(glob.glob('GEO*.sig.txt'))\n",
    "sigFiles\n",
    "\n",
    "for fl in sigFiles:\n",
    "    fh = open(fl[:-3]+'symbol.txt', 'wt')\n",
    "    with open(fl) as f:\n",
    "        for line in f:\n",
    "            line = line.rstrip()\n",
    "            lst = line.split('\\t')\n",
    "            if lst[0] == 'coef':\n",
    "                fh.write('Gene\\tProbe\\t'+line+'\\n')\n",
    "                continue\n",
    "            elif lst[0] not in GPL570.keys():\n",
    "                continue\n",
    "            genes = GPL570[lst[0]]\n",
    "            for gene in genes:\n",
    "                fh.write(gene+'\\t'+line+'\\n')\n",
    "                \n",
    "    fh.close()\n"
   ]
  },
  {
   "cell_type": "code",
   "execution_count": 10,
   "metadata": {
    "collapsed": true
   },
   "outputs": [],
   "source": [
    "sigFiles = sorted(glob.glob('new.TCGA.Methy*.sig.txt'))\n",
    "sigFiles\n",
    "\n",
    "for fl in sigFiles:\n",
    "    fh = open(fl[:-3]+'symbol.txt', 'wt')\n",
    "    with open(fl) as f:\n",
    "        for line in f:\n",
    "            line = line.rstrip()\n",
    "            lst = line.split('\\t')\n",
    "            if lst[0] == 'coef':\n",
    "                fh.write('Gene\\tProbe\\t'+line+'\\n')\n",
    "                continue\n",
    "            elif lst[0] not in methy450Anno.keys():\n",
    "                continue\n",
    "            genes = methy450Anno[lst[0]]\n",
    "            for gene in genes:\n",
    "                fh.write(gene+'\\t'+line+'\\n')\n",
    "                \n",
    "    fh.close()"
   ]
  },
  {
   "cell_type": "code",
   "execution_count": 11,
   "metadata": {
    "collapsed": true
   },
   "outputs": [],
   "source": [
    "sigFiles = sorted(glob.glob('new.TCGA.Expr*.sig.txt'))\n",
    "sigFiles\n",
    "\n",
    "for fl in sigFiles:\n",
    "    fh = open(fl[:-3]+'symbol.txt', 'wt')\n",
    "    with open(fl) as f:\n",
    "        for line in f:\n",
    "            line = line.rstrip()\n",
    "            lst = line.split('\\t')\n",
    "            if lst[0] == 'coef':\n",
    "                fh.write('Gene\\tProbe\\t'+line+'\\n')\n",
    "                continue\n",
    "            else:\n",
    "                gene = lst[0].split('|')[0]\n",
    "                fh.write(gene+'\\t'+line+'\\n')\n",
    "                \n",
    "    fh.close()"
   ]
  },
  {
   "cell_type": "code",
   "execution_count": null,
   "metadata": {
    "collapsed": true
   },
   "outputs": [],
   "source": []
  },
  {
   "cell_type": "code",
   "execution_count": null,
   "metadata": {
    "collapsed": true
   },
   "outputs": [],
   "source": []
  },
  {
   "cell_type": "code",
   "execution_count": null,
   "metadata": {
    "collapsed": true
   },
   "outputs": [],
   "source": []
  },
  {
   "cell_type": "code",
   "execution_count": 15,
   "metadata": {
    "collapsed": false
   },
   "outputs": [],
   "source": [
    "geneSet1 = OrderedDict()\n",
    "geneSet2 = OrderedDict()\n",
    "geneSet3 = OrderedDict()\n",
    "geneSet4 = OrderedDict()\n",
    "geneSet5 = OrderedDict()\n",
    "geneSet6 = OrderedDict()\n",
    "\n",
    "     \n",
    "fh1 = open('new.Survdiff.median.rfs.overlap.all.2.txt', 'wt')\n",
    "#fh2 = open('Coxph.univariate.median.os.overlap.methy.txt', 'wt')\n",
    "#fh3 = open('Coxph.multivariate.median.os.overlap.methy.txt', 'wt')\n",
    "\n",
    "\n",
    "with open('../TCGA.Expr.univariate.survdiff.rfs.sig.symbol.txt') as f:\n",
    "    for line in f:\n",
    "        line = line.rstrip()\n",
    "        lst = line.split('\\t')\n",
    "        if lst[0] == 'Gene':\n",
    "            fh1.write(line+'\\n')\n",
    "            continue\n",
    "        \n",
    "        gene = lst[0].split('|')[0]\n",
    "        geneSet1[gene] = line\n",
    "                \n",
    "with open('new.TCGA.Expr.multivariate.survdiff.rfs.sig.symbol.txt') as f:\n",
    "    for line in f:\n",
    "        line = line.rstrip()\n",
    "        lst = line.split('\\t')\n",
    "        if lst[0] == 'Gene':\n",
    "            continue\n",
    "        \n",
    "        gene = lst[0].split('|')[0]\n",
    "        if gene in geneSet1.keys():\n",
    "            geneSet2[gene] = line\n",
    "\n",
    "\n",
    "with open('../GEO.Expr.univariate.survdiff.rfs.sig.symbol.txt') as f:\n",
    "    for line in f:\n",
    "        line = line.rstrip()\n",
    "        lst = line.split('\\t')\n",
    "        if lst[0] == 'Gene':\n",
    "            continue\n",
    "        \n",
    "        if lst[0] in geneSet2.keys():\n",
    "            if lst[0] not in geneSet3.keys():\n",
    "                geneSet3[lst[0]] = []\n",
    "            geneSet3[lst[0]].append(line)\n",
    "            \n",
    "\n",
    "with open('../GEO.Expr.multivariate.survdiff.rfs.sig.symbol.txt') as f:\n",
    "    for line in f:\n",
    "        line = line.rstrip()\n",
    "        lst = line.split('\\t')\n",
    "        if lst[0] == 'Gene':\n",
    "            continue\n",
    "            \n",
    "        if lst[0] in geneSet3.keys():\n",
    "            if lst[0] not in geneSet4.keys():\n",
    "                geneSet4[lst[0]] = []\n",
    "            geneSet4[lst[0]].append(line)\n",
    "        \n",
    "\n",
    "\n",
    "with open('../TCGA.Methy.univariate.survdiff.rfs.sig.symbol.txt') as f:\n",
    "    for line in f:\n",
    "        line = line.rstrip()\n",
    "        lst = line.split('\\t')\n",
    "        if lst[0] == 'Gene':\n",
    "            continue\n",
    "        \n",
    "        if lst[0] in geneSet4.keys():\n",
    "            if lst[0] not in geneSet5.keys():\n",
    "                geneSet5[lst[0]] = []\n",
    "            geneSet5[lst[0]].append(line)\n",
    "            \n",
    "            \n",
    "with open('new.TCGA.Methy.multivariate.survdiff.rfs.sig.symbol.txt') as f:\n",
    "    for line in f:\n",
    "        line = line.rstrip()\n",
    "        lst = line.split('\\t')\n",
    "        if lst[0] == 'Gene':\n",
    "            continue\n",
    "            \n",
    "        if lst[0] in geneSet4.keys():\n",
    "            if lst[0] not in geneSet6.keys():\n",
    "                geneSet6[lst[0]] = []\n",
    "            geneSet6[lst[0]].append(line)\n",
    "                \n",
    "                \n",
    "for gene in geneSet4.keys():\n",
    "    fh1.write(geneSet1[gene]+'\\n\\n')\n",
    "    fh1.write(geneSet2[gene]+'\\n\\n')\n",
    "    fh1.write('\\n'.join(geneSet3[gene])+'\\n\\n')\n",
    "    fh1.write('\\n'.join(geneSet4[gene])+'\\n\\n')\n",
    "    if gene in geneSet5.keys():\n",
    "        fh1.write('\\n'.join(geneSet5[gene])+'\\n\\n')\n",
    "    else:\n",
    "        fh1.write(gene+'\\tNA\\n\\n')\n",
    "    if gene in geneSet6.keys():\n",
    "        fh1.write('\\n'.join(geneSet6[gene])+'\\n\\n\\n\\n')\n",
    "    else:\n",
    "        fh1.write(gene+'\\tNA\\n\\n\\n\\n')      \n",
    "        \n",
    "        \n",
    "fh1.close()"
   ]
  },
  {
   "cell_type": "code",
   "execution_count": 150,
   "metadata": {
    "collapsed": false
   },
   "outputs": [
    {
     "data": {
      "text/plain": [
       "odict_keys(['C19orf40', 'L1CAM', 'TMEM159', 'SCG2', 'EFNB3', 'NOVA2', 'SSBP2', 'EMILIN1', 'ATP10A', 'CYGB', 'LMNB2', 'CXCL10', 'STMN2', 'RAI2', 'ITGB1', 'RCC1', 'SECISBP2L', 'BTBD19', 'MN1', 'SMARCA1', 'RECK', 'FGF2', 'SCN9A', 'PDE1A', 'PCDHGA10', 'ZBTB20', 'NPR2', 'FAM90A1', 'ANXA6', 'CYBRD1', 'SUSD4', 'STON1', 'CDK14', 'PSMD11', 'STAG2', 'CCNO', 'CALD1', 'FAM198B', 'TUBA8', 'BBS9', 'TYRP1', 'F8', 'SDPR', 'TIMP3', 'SGCD', 'PRKD1', 'NCL', 'E2F1', 'LMO2', 'TAGLN', 'ABCB4', 'AKAP12', 'AKT3', 'FERMT2', 'ICAM1', 'ABCA6', 'TCF7L1', 'IGFBP3', 'SLC2A3', 'GPRC5B', 'MAP1B', 'TMEM35', 'MAB21L2', 'FZD5', 'SFPQ', 'TOMM40', 'CCNF', 'TOP1', 'LAMA4', 'MLH3', 'CSGALNACT2', 'COLEC12', 'PDE3A', 'GLS', 'NOV', 'LDB2', 'PEG3', 'NAP1L3', 'EFEMP1', 'PLN', 'UST', 'GUCY1B3', 'TMEM204', 'ATP8A2', 'DDX28', 'TLR4', 'CNTNAP1', 'GLO1', 'MID2', 'KLHL20', 'TENC1', 'WIPF1', 'GLRB', 'PBXIP1', 'CLCN3', 'POP1', 'GREM1', 'C14orf132', 'HJURP', 'LIG1', 'DIO2', 'CDC37', 'TNS1', 'TACC3', 'MYLK', 'LIMS2', 'ARMCX1'])"
      ]
     },
     "execution_count": 150,
     "metadata": {},
     "output_type": "execute_result"
    }
   ],
   "source": [
    "geneSet4.keys()"
   ]
  },
  {
   "cell_type": "code",
   "execution_count": 155,
   "metadata": {
    "collapsed": false
   },
   "outputs": [
    {
     "data": {
      "text/plain": [
       "odict_keys(['CLCN3', 'ARMCX1', 'TMEM204', 'PDE1A', 'E2F1', 'TNS1', 'MAB21L2', 'PCDHGA10', 'PRKD1', 'LAMA4', 'FZD5', 'CDC37', 'SGCD', 'AKAP12', 'DIO2', 'STAG2', 'MAP1B', 'RCC1', 'CCNF', 'FGF2', 'LDB2', 'SECISBP2L', 'SMARCA1', 'DDX28', 'EFEMP1', 'LMNB2', 'STON1', 'RAI2', 'L1CAM', 'GLRB', 'SCN9A', 'NCL', 'TCF7L1', 'SFPQ', 'ZBTB20', 'AKT3', 'CALD1', 'MID2', 'SLC2A3', 'CYBRD1', 'EFNB3', 'CYGB', 'GUCY1B3', 'ATP10A', 'TAGLN', 'RECK', 'PEG3', 'POP1', 'UST', 'ATP8A2', 'SDPR', 'SSBP2', 'BBS9', 'LIG1', 'IGFBP3', 'MYLK', 'ANXA6', 'CDK14', 'TIMP3', 'SCG2', 'STMN2', 'CXCL10', 'NOVA2', 'COLEC12', 'MN1', 'F8', 'C14orf132', 'FAM198B', 'WIPF1'])"
      ]
     },
     "execution_count": 155,
     "metadata": {},
     "output_type": "execute_result"
    }
   ],
   "source": [
    "geneSet6.keys()"
   ]
  },
  {
   "cell_type": "code",
   "execution_count": null,
   "metadata": {
    "collapsed": true
   },
   "outputs": [],
   "source": []
  },
  {
   "cell_type": "code",
   "execution_count": null,
   "metadata": {
    "collapsed": true
   },
   "outputs": [],
   "source": []
  },
  {
   "cell_type": "code",
   "execution_count": 36,
   "metadata": {
    "collapsed": false
   },
   "outputs": [],
   "source": [
    "########## target prediction\n",
    "\n",
    "### organization\n",
    "fh = open('Nonconserved_Site_Context_Scores.hsa.txt', 'wt')\n",
    "\n",
    "targetscan = OrderedDict()\n",
    "with open('Nonconserved_Site_Context_Scores.txt') as f:\n",
    "    for line in f:\n",
    "        line = line.rstrip()\n",
    "        lst = line.split('\\t')\n",
    "        \n",
    "        if lst[0].startswith('Gene'):\n",
    "            fh.write(line+'\\n')\n",
    "        \n",
    "        \n",
    "        elif lst[3] == '9606':\n",
    "            if lst[4] not in targetscan.keys():\n",
    "                targetscan[lst[4]] = []\n",
    "                \n",
    "            targetscan[lst[4]].append(line)\n",
    "\n",
    "            \n",
    "for ke in sorted(targetscan.keys()):\n",
    "    fh.write('\\n'.join(targetscan[ke])+'\\n')\n",
    "    \n",
    "fh.close()\n",
    "    "
   ]
  },
  {
   "cell_type": "code",
   "execution_count": 39,
   "metadata": {
    "collapsed": false
   },
   "outputs": [],
   "source": [
    "\n",
    "targetscan = OrderedDict()\n",
    "\n",
    "fh = open('Nonconserved_Site_Context_Scores.hsa.clean.txt', 'wt')\n",
    "\n",
    "with open('Nonconserved_Site_Context_Scores.hsa.txt') as f:\n",
    "    for line in f:\n",
    "        line = line.rstrip()\n",
    "        lst = line.split('\\t')\n",
    "        \n",
    "        if lst[0].startswith('Gene'):\n",
    "            fh.write('miRNA\\tgene\\n')\n",
    "            continue\n",
    "        \n",
    "        elif lst[4] not in targetscan.keys():\n",
    "            targetscan[lst[4]] = []\n",
    "        \n",
    "        if lst[1] not in targetscan[lst[4]]:\n",
    "            fh.write(lst[4]+'\\t'+lst[1]+'\\n')\n",
    "            targetscan[lst[4]].append(lst[1])\n",
    "        \n",
    "\n",
    "fh.close()"
   ]
  },
  {
   "cell_type": "code",
   "execution_count": 40,
   "metadata": {
    "collapsed": true
   },
   "outputs": [],
   "source": [
    "fh = open('Nonconserved_Site_Context_Scores.hsa.clean.summary.txt', 'wt')\n",
    "\n",
    "for ke, val in targetscan.items():\n",
    "    fh.write(ke+'\\t'+';'.join(val)+'\\n')\n",
    "    \n",
    "fh.close()"
   ]
  },
  {
   "cell_type": "code",
   "execution_count": null,
   "metadata": {
    "collapsed": true
   },
   "outputs": [],
   "source": []
  },
  {
   "cell_type": "code",
   "execution_count": 41,
   "metadata": {
    "collapsed": true
   },
   "outputs": [],
   "source": [
    "targetscan = OrderedDict()\n",
    "\n",
    "with open('Nonconserved_Site_Context_Scores.hsa.clean.summary.txt') as f:\n",
    "    for line in f:\n",
    "        line = line.rstrip()\n",
    "        lst = line.split('\\t')\n",
    "        \n",
    "        targetscan[lst[0]] = lst[-1].split(';')"
   ]
  },
  {
   "cell_type": "code",
   "execution_count": 42,
   "metadata": {
    "collapsed": false
   },
   "outputs": [
    {
     "data": {
      "text/plain": [
       "2603"
      ]
     },
     "execution_count": 42,
     "metadata": {},
     "output_type": "execute_result"
    }
   ],
   "source": [
    "len(targetscan)"
   ]
  },
  {
   "cell_type": "code",
   "execution_count": null,
   "metadata": {
    "collapsed": true
   },
   "outputs": [],
   "source": []
  },
  {
   "cell_type": "code",
   "execution_count": null,
   "metadata": {
    "collapsed": true
   },
   "outputs": [],
   "source": []
  },
  {
   "cell_type": "code",
   "execution_count": null,
   "metadata": {
    "collapsed": true
   },
   "outputs": [],
   "source": []
  },
  {
   "cell_type": "code",
   "execution_count": null,
   "metadata": {
    "collapsed": true
   },
   "outputs": [],
   "source": []
  },
  {
   "cell_type": "code",
   "execution_count": 52,
   "metadata": {
    "collapsed": false
   },
   "outputs": [],
   "source": [
    "mir = OrderedDict()\n",
    "fh1 = open('miRNA.Survdiff.os.overlap.targets.txt', 'wt')\n",
    "fh2 = open('miRNA.Survdiff.os.overlap.targets.seperate.txt', 'wt')\n",
    "\n",
    "\n",
    "with open('miRNA.Survdiff.os.overlap.txt') as f:\n",
    "    for line in f:\n",
    "        line = line.rstrip()\n",
    "        lst = line.split('\\t')\n",
    "        \n",
    "        if lst[0] == '':\n",
    "            continue\n",
    "            \n",
    "        elif lst[0] not in mir.keys():\n",
    "            mir[lst[0]] = 1\n",
    "            \n",
    "            \n",
    "for ke in mir.keys():\n",
    "    fh1.write(ke+'\\t'+';'.join(targetscan[ke])+'\\n')\n",
    "    \n",
    "    for val in targetscan[ke]:\n",
    "        fh2.write(ke+'\\t'+val+'\\n')\n",
    "    \n",
    "fh1.close()\n",
    "fh2.close()"
   ]
  },
  {
   "cell_type": "code",
   "execution_count": null,
   "metadata": {
    "collapsed": true
   },
   "outputs": [],
   "source": []
  },
  {
   "cell_type": "code",
   "execution_count": 53,
   "metadata": {
    "collapsed": true
   },
   "outputs": [],
   "source": [
    "ovlp = []\n",
    "\n",
    "with open('new2.Survdiff.median.os.overlap.all.txt') as f:\n",
    "    for line in f:\n",
    "        line = line.rstrip()\n",
    "        lst = line.split('\\t')\n",
    "        \n",
    "        if lst[0] == '' or lst[0] == 'Gene':\n",
    "            continue\n",
    "            \n",
    "        elif lst[0] not in ovlp:\n",
    "            ovlp.append(lst[0])"
   ]
  },
  {
   "cell_type": "code",
   "execution_count": 54,
   "metadata": {
    "collapsed": false
   },
   "outputs": [],
   "source": [
    "fh = open('Survdiff.median.os.overlap.all.miRNA.txt', 'wt')\n",
    "\n",
    "with open('miRNA.Survdiff.os.overlap.targets.seperate.txt') as f:\n",
    "    for line in f:\n",
    "        line = line.rstrip()\n",
    "        lst = line.split('\\t')\n",
    "        \n",
    "        if lst[-1] in ovlp:\n",
    "            fh.write(line+'\\n')\n",
    "            \n",
    "fh.close()"
   ]
  },
  {
   "cell_type": "code",
   "execution_count": null,
   "metadata": {
    "collapsed": true
   },
   "outputs": [],
   "source": []
  },
  {
   "cell_type": "code",
   "execution_count": null,
   "metadata": {
    "collapsed": true
   },
   "outputs": [],
   "source": []
  },
  {
   "cell_type": "code",
   "execution_count": 55,
   "metadata": {
    "collapsed": false
   },
   "outputs": [],
   "source": [
    "mir = OrderedDict()\n",
    "fh1 = open('miRNA.Survdiff.rfs.overlap.targets.txt', 'wt')\n",
    "fh2 = open('miRNA.Survdiff.rfs.overlap.targets.seperate.txt', 'wt')\n",
    "\n",
    "with open('miRNA.Survdiff.rfs.overlap.txt') as f:\n",
    "    for line in f:\n",
    "        line = line.rstrip()\n",
    "        lst = line.split('\\t')\n",
    "        \n",
    "        if lst[0] == '':\n",
    "            continue\n",
    "            \n",
    "        elif lst[0] not in mir.keys():\n",
    "            mir[lst[0]] = 1\n",
    "            \n",
    "            \n",
    "for ke in mir.keys():\n",
    "    fh1.write(ke+'\\t'+';'.join(targetscan[ke])+'\\n')\n",
    "    \n",
    "    for val in targetscan[ke]:\n",
    "        fh2.write(ke+'\\t'+val+'\\n')\n",
    "    \n",
    "fh1.close()\n",
    "fh2.close()"
   ]
  },
  {
   "cell_type": "code",
   "execution_count": null,
   "metadata": {
    "collapsed": true
   },
   "outputs": [],
   "source": []
  },
  {
   "cell_type": "code",
   "execution_count": 56,
   "metadata": {
    "collapsed": true
   },
   "outputs": [],
   "source": [
    "ovlp = []\n",
    "\n",
    "with open('new2.Survdiff.median.rfs.overlap.all.txt') as f:\n",
    "    for line in f:\n",
    "        line = line.rstrip()\n",
    "        lst = line.split('\\t')\n",
    "        \n",
    "        if lst[0] == '' or lst[0] == 'Gene':\n",
    "            continue\n",
    "            \n",
    "        elif lst[0] not in ovlp:\n",
    "            ovlp.append(lst[0])"
   ]
  },
  {
   "cell_type": "code",
   "execution_count": 57,
   "metadata": {
    "collapsed": true
   },
   "outputs": [],
   "source": [
    "fh = open('Survdiff.median.rfs.overlap.all.miRNA.txt', 'wt')\n",
    "\n",
    "with open('miRNA.Survdiff.rfs.overlap.targets.seperate.txt') as f:\n",
    "    for line in f:\n",
    "        line = line.rstrip()\n",
    "        lst = line.split('\\t')\n",
    "        \n",
    "        if lst[-1] in ovlp:\n",
    "            fh.write(line+'\\n')\n",
    "            \n",
    "fh.close()"
   ]
  },
  {
   "cell_type": "code",
   "execution_count": null,
   "metadata": {
    "collapsed": true
   },
   "outputs": [],
   "source": []
  },
  {
   "cell_type": "code",
   "execution_count": 19,
   "metadata": {
    "collapsed": false
   },
   "outputs": [
    {
     "data": {
      "text/plain": [
       "['ADCYAP1R1', 'AEBP2', 'AFF3', 'AGO2']"
      ]
     },
     "execution_count": 19,
     "metadata": {},
     "output_type": "execute_result"
    }
   ],
   "source": [
    "targetscan['hsa-miR-139-5p'][1:5]"
   ]
  },
  {
   "cell_type": "code",
   "execution_count": 28,
   "metadata": {
    "collapsed": false
   },
   "outputs": [
    {
     "data": {
      "text/plain": [
       "329"
      ]
     },
     "execution_count": 28,
     "metadata": {},
     "output_type": "execute_result"
    }
   ],
   "source": [
    "len(targetscan)"
   ]
  },
  {
   "cell_type": "code",
   "execution_count": 14,
   "metadata": {
    "collapsed": true
   },
   "outputs": [],
   "source": [
    "targetscan = OrderedDict()\n",
    "\n",
    "with open('summary_Predicted_Targets_Context_Scores.default_predictions_95.txt') as f:\n",
    "    for line in f:\n",
    "        line = line.rstrip()\n",
    "        lst = line.split('\\t')\n",
    "\n",
    "        if lst[1] not in targetscan.keys():\n",
    "            targetscan[lst[1]] = lst[-1].split(',')\n",
    "        \n",
    "        \n",
    "        "
   ]
  }
 ],
 "metadata": {
  "anaconda-cloud": {},
  "kernelspec": {
   "display_name": "Python [Root]",
   "language": "python",
   "name": "Python [Root]"
  },
  "language_info": {
   "codemirror_mode": {
    "name": "ipython",
    "version": 3
   },
   "file_extension": ".py",
   "mimetype": "text/x-python",
   "name": "python",
   "nbconvert_exporter": "python",
   "pygments_lexer": "ipython3",
   "version": "3.5.2"
  }
 },
 "nbformat": 4,
 "nbformat_minor": 0
}
