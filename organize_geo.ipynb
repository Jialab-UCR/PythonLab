{
 "cells": [
  {
   "cell_type": "code",
   "execution_count": 13,
   "metadata": {
    "collapsed": false
   },
   "outputs": [],
   "source": [
    "from collections import OrderedDict\n",
    "\n",
    "anno = 'GPL6244-17930'\n",
    "\n",
    "GPL6884 = OrderedDict()\n",
    "with open(anno+'.txt') as f:\n",
    "    for line in f:\n",
    "        line = line.rstrip()\n",
    "        lst = line.split('\\t')\n",
    "        \n",
    "        if lst[0].startswith('#') or lst[0] == 'ID':\n",
    "            continue\n",
    "        else:\n",
    "            #lst[2] = lst[2].replace(' ','')\n",
    "            gene = lst[-3].split(' // ')\n",
    "            #print (gene)\n",
    "            if len(gene) < 2:\n",
    "                gene = lst[-2].split(' // ')\n",
    "                \n",
    "                if len(gene) < 2:\n",
    "                    GPL6884[lst[0]] = 'NA'\n",
    "                else:\n",
    "                    GPL6884[lst[0]] = gene[0]\n",
    "            else:\n",
    "                GPL6884[lst[0]] = gene[1]"
   ]
  },
  {
   "cell_type": "code",
   "execution_count": null,
   "metadata": {
    "collapsed": true
   },
   "outputs": [],
   "source": []
  },
  {
   "cell_type": "code",
   "execution_count": 14,
   "metadata": {
    "collapsed": true
   },
   "outputs": [],
   "source": [
    "fh = open(anno+'.clean.txt', 'wt')\n",
    "\n",
    "for ke, val in GPL6884.items():\n",
    "    fh.write(ke+'\\t'+val+'\\n')\n",
    "    \n",
    "fh.close()"
   ]
  },
  {
   "cell_type": "code",
   "execution_count": null,
   "metadata": {
    "collapsed": true
   },
   "outputs": [],
   "source": []
  },
  {
   "cell_type": "code",
   "execution_count": null,
   "metadata": {
    "collapsed": true
   },
   "outputs": [],
   "source": []
  },
  {
   "cell_type": "code",
   "execution_count": 2,
   "metadata": {
    "collapsed": false
   },
   "outputs": [],
   "source": [
    "from collections import OrderedDict\n",
    "\n",
    "anno = 'GPL6244-17930'\n",
    "\n",
    "fh = open(anno+'.control.txt', 'wt')\n",
    "\n",
    "GPL6884 = OrderedDict()\n",
    "with open(anno+'.txt') as f:\n",
    "    for line in f:\n",
    "        line = line.rstrip()\n",
    "        lst = line.split('\\t')\n",
    "        if len(lst)<3:\n",
    "            continue\n",
    "        \n",
    "        elif lst[2]=='control':\n",
    "            fh.write('\\t'.join(lst[:3])+'\\n')\n",
    "            \n",
    "fh.close()"
   ]
  },
  {
   "cell_type": "code",
   "execution_count": null,
   "metadata": {
    "collapsed": true
   },
   "outputs": [],
   "source": []
  },
  {
   "cell_type": "code",
   "execution_count": null,
   "metadata": {
    "collapsed": true
   },
   "outputs": [],
   "source": []
  },
  {
   "cell_type": "code",
   "execution_count": 3,
   "metadata": {
    "collapsed": true
   },
   "outputs": [],
   "source": [
    "deg = []\n",
    "\n",
    "with open('DEG.limma.2X.FDR001.txt') as f:\n",
    "    for line in f:\n",
    "        line = line.rstrip()\n",
    "        lst = line.split('\\t')\n",
    "        deg.append(lst[0])\n",
    "        "
   ]
  },
  {
   "cell_type": "code",
   "execution_count": 5,
   "metadata": {
    "collapsed": true
   },
   "outputs": [],
   "source": [
    "from collections import OrderedDict\n",
    "\n",
    "anno = 'GPL6244-17930'\n",
    "\n",
    "fh = open(anno+'.deg.txt', 'wt')\n",
    "\n",
    "GPL6884 = OrderedDict()\n",
    "with open(anno+'.txt') as f:\n",
    "    for line in f:\n",
    "        line = line.rstrip()\n",
    "        lst = line.split('\\t')\n",
    "        \n",
    "        if lst[0] in deg:\n",
    "            fh.write(line+'\\n')\n",
    "            \n",
    "fh.close()"
   ]
  },
  {
   "cell_type": "code",
   "execution_count": null,
   "metadata": {
    "collapsed": true
   },
   "outputs": [],
   "source": []
  },
  {
   "cell_type": "code",
   "execution_count": null,
   "metadata": {
    "collapsed": true
   },
   "outputs": [],
   "source": [
    "from collections import OrderedDict\n",
    "gpl = OrderedDict()\n",
    "\n",
    "fh1 = open('GPL6244-17930.deg.anno.txt', 'wt')\n",
    "fh2 = open('GPL6244-17930.deg.anno2.txt', 'wt')\n",
    "\n",
    "with open('GPL6244-17930.deg.txt') as f:\n",
    "    for line in f:\n",
    "        line = line.rstrip()\n",
    "        lst = line.split('\\t')\n",
    "        \n",
    "        if len(lst)<10 or line.startswith('ID'):\n",
    "            print (line)\n",
    "            continue\n",
    "            \n",
    "        genes = lst[9].split(' /// ')\n",
    "        \n",
    "        gpl[lst[0]] = []\n",
    "        \n",
    "        for gene in genes:\n",
    "            if len(gene.split(' // ')) < 2:\n",
    "                #gpl[lst[0]].append(line)\n",
    "                fh2.write(line+'\\n')\n",
    "                print (line)\n",
    "                print (gene)\n",
    "                continue\n",
    "            gpl[lst[0]].append(gene.split(' // ')[1])\n",
    "        \n",
    "        "
   ]
  },
  {
   "cell_type": "code",
   "execution_count": null,
   "metadata": {
    "collapsed": true
   },
   "outputs": [],
   "source": []
  },
  {
   "cell_type": "code",
   "execution_count": null,
   "metadata": {
    "collapsed": true
   },
   "outputs": [],
   "source": [
    "from collections import OrderedDict\n",
    "gpl = OrderedDict()\n",
    "\n",
    "fh1 = open('GPL6244-17930.deg.anno.txt', 'wt')\n",
    "fh2 = open('GPL6244-17930.deg.anno2.txt', 'wt')\n",
    "\n",
    "with open('GPL6244-17930.deg.txt') as f:\n",
    "    for line in f:\n",
    "        line = line.rstrip()\n",
    "        lst = line.split('\\t')\n",
    "        \n",
    "        if len(lst)<10 or line.startswith('ID'):\n",
    "            print (line)\n",
    "            continue\n",
    "            \n",
    "        genes = lst[9].split(' /// ')\n",
    "        \n",
    "        gpl[lst[0]] = []\n",
    "        \n",
    "        for gene in genes:\n",
    "            if len(gene.split(' // ')) < 2:\n",
    "                #gpl[lst[0]].append(line)\n",
    "                fh2.write(line+'\\n')\n",
    "                print (line)\n",
    "                print (gene)\n",
    "                continue\n",
    "            gpl[lst[0]].append(gene.split(' // ')[1])\n",
    "        \n",
    "for ke, val in gpl.items():\n",
    "    print (ke)\n",
    "    fh1.write(ke+'\\t'+','.join(list(set(val)))+'\\n')\n",
    "    \n",
    "    \n",
    "fh1.close()\n",
    "fh2.close()"
   ]
  },
  {
   "cell_type": "code",
   "execution_count": null,
   "metadata": {
    "collapsed": true
   },
   "outputs": [],
   "source": []
  },
  {
   "cell_type": "code",
   "execution_count": null,
   "metadata": {
    "collapsed": true
   },
   "outputs": [],
   "source": []
  },
  {
   "cell_type": "code",
   "execution_count": 3,
   "metadata": {
    "collapsed": false
   },
   "outputs": [],
   "source": [
    "fh = open('GSE40275_expression.symbol.txt', 'wt')\n",
    "\n",
    "with open('GSE40275_series_matrix.txt') as f:\n",
    "    for line in f:\n",
    "        line = line.rstrip()\n",
    "        line = line.replace('\"','')\n",
    "        \n",
    "        lst = line.split('\\t')\n",
    "        \n",
    "        if lst[0] == 'ID_REF':\n",
    "            fh.write('\\tSymbol\\t'+'\\t'.join(lst[1:])+'\\n')\n",
    "        elif lst[0] not in GPL6884.keys():\n",
    "            continue\n",
    "            \n",
    "        else:\n",
    "            fh.write(lst[0]+'\\t'+GPL6884[lst[0]]+'\\t'+'\\t'.join(lst[1:])+'\\n')\n",
    "            \n",
    "fh.close()"
   ]
  },
  {
   "cell_type": "code",
   "execution_count": 37,
   "metadata": {
    "collapsed": false
   },
   "outputs": [
    {
     "data": {
      "text/plain": [
       "['202482_x_at', '202483_s_at', '221915_s_at']"
      ]
     },
     "execution_count": 37,
     "metadata": {},
     "output_type": "execute_result"
    }
   ],
   "source": []
  },
  {
   "cell_type": "code",
   "execution_count": 35,
   "metadata": {
    "collapsed": false
   },
   "outputs": [],
   "source": [
    "HGU113A = OrderedDict()\n",
    "\n",
    "with open('HGU133A.annotation.txt') as f:\n",
    "    for line in f:\n",
    "        line = line.rstrip()\n",
    "        lst = line.split('\\t')\n",
    "        if lst[0] == 'probe_id':\n",
    "            continue\n",
    "        elif lst[1] not in HGU113A.keys():\n",
    "            HGU113A[lst[1]] = []\n",
    "        HGU113A[lst[1]].append(lst[0])"
   ]
  },
  {
   "cell_type": "code",
   "execution_count": null,
   "metadata": {
    "collapsed": true
   },
   "outputs": [],
   "source": []
  },
  {
   "cell_type": "code",
   "execution_count": null,
   "metadata": {
    "collapsed": true
   },
   "outputs": [],
   "source": [
    "from collections import OrderedDict\n",
    "\n",
    "GPL6884 = OrderedDict()\n",
    "with open('GPL6884-11607.txt') as f:\n",
    "    for line in f:\n",
    "        line = line.rstrip()\n",
    "        lst = line.split('\\t')\n",
    "        \n",
    "        if lst[0].startswith('#') or lst[0] == 'ID':\n",
    "            continue\n",
    "        else:\n",
    "            lst[5] = lst[5].replace(' ','')\n",
    "            GPL6884[lst[5]] = lst[9]"
   ]
  },
  {
   "cell_type": "code",
   "execution_count": null,
   "metadata": {
    "collapsed": true
   },
   "outputs": [],
   "source": []
  },
  {
   "cell_type": "code",
   "execution_count": 29,
   "metadata": {
    "collapsed": true
   },
   "outputs": [],
   "source": [
    "fh = open('GSE60438-GPL6884.DEG.gene.1.2X.005.entrez.txt', 'wt')\n",
    "\n",
    "with open('GSE60438-GPL6884.DEG.gene.1.2X.005.txt') as f:\n",
    "    for line in f:\n",
    "        line = line.rstrip()\n",
    "        lst = line.split()\n",
    "        \n",
    "        if lst[0] == 'logFC':\n",
    "            fh.write('\\tEntrez\\t'+'\\t'.join(lst[1:])+'\\n')\n",
    "            \n",
    "        elif lst[0] not in GPL6884.keys():\n",
    "            fh.write(lst[0]+'\\tNA\\t'+'\\t'.join(lst[1:])+'\\n')\n",
    "            \n",
    "        else:\n",
    "            fh.write(lst[0]+'\\t'+GPL6884[lst[0]]+'\\t'+'\\t'.join(lst[1:])+'\\n')\n",
    "                \n",
    "fh.close()"
   ]
  },
  {
   "cell_type": "code",
   "execution_count": null,
   "metadata": {
    "collapsed": true
   },
   "outputs": [],
   "source": []
  },
  {
   "cell_type": "code",
   "execution_count": 32,
   "metadata": {
    "collapsed": false
   },
   "outputs": [],
   "source": [
    "HGU113A = OrderedDict()\n",
    "\n",
    "with open('HGU133A.annotation.entrez.txt') as f:\n",
    "    for line in f:\n",
    "        line = line.rstrip()\n",
    "        lst = line.split('\\t')\n",
    "        if lst[0] == 'probe_id':\n",
    "            continue\n",
    "        \n",
    "        lst[1] = lst[1].upper()\n",
    "        if lst[1] not in HGU113A.keys():\n",
    "            HGU113A[lst[1]] = []\n",
    "        HGU113A[lst[1]].append(lst[0])"
   ]
  },
  {
   "cell_type": "code",
   "execution_count": 34,
   "metadata": {
    "collapsed": false
   },
   "outputs": [],
   "source": [
    "fh = open('GSE60438-GPL6884.DEG.gene.1.2X.005.entrez.HGU113A.combined.txt', 'wt')\n",
    "\n",
    "with open('GSE60438-GPL6884.DEG.gene.1.2X.005.entrez.txt') as f:\n",
    "    for line in f:\n",
    "        line = line.rstrip()\n",
    "        lst = line.split()\n",
    "        \n",
    "        if lst[0] == 'logFC':\n",
    "            fh.write('\\tHGU113A\\t'+'\\t'.join(lst[1:])+'\\n')\n",
    "            \n",
    "        elif lst[1] not in HGU113A.keys():\n",
    "            fh.write(lst[0]+'\\tNA\\t'+'\\t'.join(lst[1:])+'\\n')\n",
    "            \n",
    "        else:\n",
    "            fh.write(lst[0]+'\\t'+';'.join(HGU113A[lst[1]])+'\\t'+'\\t'.join(lst[1:])+'\\n')\n",
    "                \n",
    "fh.close()"
   ]
  },
  {
   "cell_type": "code",
   "execution_count": 35,
   "metadata": {
    "collapsed": false
   },
   "outputs": [
    {
     "data": {
      "text/plain": [
       "1"
      ]
     },
     "execution_count": 35,
     "metadata": {},
     "output_type": "execute_result"
    }
   ],
   "source": [
    "fh = open('GSE60438-GPL6884.DEG.gene.1.2X.005.NEW.HGU113A.txt', 'wt')\n",
    "\n",
    "with open('GSE60438-GPL6884.DEG.gene.1.2X.005.NEW.txt') as f:\n",
    "    for line in f:\n",
    "        line = line.rstrip()\n",
    "        lst = line.split()\n",
    "        \n",
    "        if lst[0] == '':\n",
    "            fh.write('\\t'.join(lst[0:3])+'\\tHGU113A\\t'+'\\t'.join(lst[3:])+'\\n')\n",
    "            \n",
    "        elif lst[1] not in HGU113A.keys():\n",
    "            print (lst[1])\n",
    "            fh.write('\\t'.join(lst[0:3])+'\\tNA\\t'+'\\t'.join(lst[3:])+'\\n')\n",
    "            \n",
    "        else:\n",
    "            fh.write('\\t'.join(lst[0:3])+'\\t'+';'.join(HGU113A[lst[1]])+'\\t'+'\\t'.join(lst[3:])+'\\n')\n",
    "                \n",
    "fh.close()"
   ]
  },
  {
   "cell_type": "code",
   "execution_count": 43,
   "metadata": {
    "collapsed": false
   },
   "outputs": [],
   "source": [
    "fh = open('GSE60438-GPL6884.DEG.gene.1.2X.005.NEW.HGU113A.separated.txt', 'wt')\n",
    "\n",
    "with open('GSE60438-GPL6884.DEG.gene.1.2X.005.NEW.HGU113A.txt') as f:\n",
    "    for line in f:\n",
    "        line = line.rstrip()\n",
    "        \n",
    "        lst = line.split('\\t')\n",
    "        if lst[0] == '':\n",
    "            fh.write(line+'\\n')\n",
    "            \n",
    "        elif lst[3] == 'NA':\n",
    "            fh.write(line+'\\n')\n",
    "            \n",
    "        else:\n",
    "            probe = lst[3].split(';')\n",
    "            \n",
    "            for pr in probe:\n",
    "                fh.write('\\t'.join(lst[:3]+[pr]+lst[4:])+'\\n')\n",
    "                \n",
    "fh.close()"
   ]
  },
  {
   "cell_type": "code",
   "execution_count": null,
   "metadata": {
    "collapsed": true
   },
   "outputs": [],
   "source": []
  },
  {
   "cell_type": "code",
   "execution_count": 2,
   "metadata": {
    "collapsed": false
   },
   "outputs": [],
   "source": [
    "from collections import OrderedDict\n",
    "\n",
    "symbol2ensembl = OrderedDict()\n",
    "\n",
    "with open('Homo_sapiens.GRCh38.86.biotype.txt') as f:\n",
    "    for line in f:\n",
    "        line = line.rstrip()\n",
    "        lst = line.split('\\t')\n",
    "        symbol2ensembl[lst[1]] = lst[0]\n",
    "        \n",
    "        \n",
    "fh = open('DEG.combined.ensembl.txt', 'wt')\n",
    "with open('DEG.combined.txt') as f:\n",
    "    for line in f:\n",
    "        line = line.rstrip()\n",
    "        lst = line.split('\\t')\n",
    "        \n",
    "        if lst[0] == '':\n",
    "            fh.write('\\tEnsembl\\t'+'\\t'.join(lst[1:])+'\\n')\n",
    "            \n",
    "        elif lst[0] in symbol2ensembl.keys():\n",
    "            fh.write(lst[0]+'\\t'+symbol2ensembl[lst[0]]+'\\t'+'\\t'.join(lst[1:])+'\\n')\n",
    "            \n",
    "        else:\n",
    "            fh.write(lst[0]+'\\tNA\\t'+'\\t'.join(lst[1:])+'\\n')\n",
    "            \n",
    "fh.close()"
   ]
  },
  {
   "cell_type": "code",
   "execution_count": null,
   "metadata": {
    "collapsed": true
   },
   "outputs": [],
   "source": []
  },
  {
   "cell_type": "code",
   "execution_count": null,
   "metadata": {
    "collapsed": true
   },
   "outputs": [],
   "source": []
  },
  {
   "cell_type": "code",
   "execution_count": 28,
   "metadata": {
    "collapsed": false
   },
   "outputs": [],
   "source": [
    "\n",
    "pre2now = OrderedDict()\n",
    "#symbol2ensembl = OrderedDict()\n",
    "\n",
    "with open('HGNC.txt') as f:\n",
    "    for line in f:\n",
    "        line = line.rstrip()\n",
    "        line = line.upper()\n",
    "        lst = line.split('\\t')\n",
    "        \n",
    "        \n",
    "        if len(lst) <8:\n",
    "            continue\n",
    "            \n",
    "        pre2now[lst[2]] = lst[2]+'\\t'+lst[7]\n",
    "        pre2now[lst[4]] = lst[2]+'\\t'+lst[7]\n",
    "        pre2now[lst[6]] = lst[2]+'\\t'+lst[7]"
   ]
  },
  {
   "cell_type": "code",
   "execution_count": 20,
   "metadata": {
    "collapsed": false
   },
   "outputs": [
    {
     "data": {
      "text/plain": [
       "'TPR\\tENSG00000047410'"
      ]
     },
     "execution_count": 20,
     "metadata": {},
     "output_type": "execute_result"
    }
   ],
   "source": [
    "pre2now['C1ORF80']\n",
    "pre2now['TPR']"
   ]
  },
  {
   "cell_type": "code",
   "execution_count": 41,
   "metadata": {
    "collapsed": true
   },
   "outputs": [],
   "source": [
    "fh = open('GSE60438-GPL6884.DEG.gene.1.2X.005.NEW.txt', 'wt')\n",
    "with open('GSE60438-GPL6884.DEG.gene.1.2X.005.txt') as f:\n",
    "    for line in f:\n",
    "        line = line.rstrip()\n",
    "        line = line.upper()\n",
    "        lst = line.split('\\t')\n",
    "        \n",
    "        \n",
    "        \n",
    "        if lst[0] == 'LOGFC':\n",
    "            fh.write('\\tCurrent\\tEnsembl\\t'+'\\t'.join(lst[1:])+'\\n')\n",
    "            \n",
    "        elif lst[0] in pre2now.keys():\n",
    "            fh.write(lst[0]+'\\t'+pre2now[lst[0]]+'\\t'+'\\t'.join(lst[1:])+'\\n')\n",
    "            \n",
    "        else:\n",
    "            fh.write(lst[0]+'\\tNA\\tNA\\t'+'\\t'.join(lst[1:])+'\\n')\n",
    "            \n",
    "fh.close()"
   ]
  },
  {
   "cell_type": "code",
   "execution_count": null,
   "metadata": {
    "collapsed": true
   },
   "outputs": [],
   "source": []
  }
 ],
 "metadata": {
  "anaconda-cloud": {},
  "kernelspec": {
   "display_name": "Python [Root]",
   "language": "python",
   "name": "Python [Root]"
  },
  "language_info": {
   "codemirror_mode": {
    "name": "ipython",
    "version": 3
   },
   "file_extension": ".py",
   "mimetype": "text/x-python",
   "name": "python",
   "nbconvert_exporter": "python",
   "pygments_lexer": "ipython3",
   "version": "3.5.2"
  }
 },
 "nbformat": 4,
 "nbformat_minor": 0
}
