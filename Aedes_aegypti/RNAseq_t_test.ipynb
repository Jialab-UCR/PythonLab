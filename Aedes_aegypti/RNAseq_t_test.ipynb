{
 "cells": [
  {
   "cell_type": "code",
   "execution_count": 24,
   "metadata": {},
   "outputs": [
    {
     "name": "stdout",
     "output_type": "stream",
     "text": [
      "WT samples seperated with comma (3 replicates):032816ctrl1,032816ctrl2,032816ctrl4\n",
      "Mutant samples seperated with comma (3 replicates):032816LC506hr1,032816LC506hr2,032816LC506hr4\n",
      "total 4862074.00\n",
      "sense coding 2554289.00\n",
      "anti coding 75315.00\n",
      "total coding 2629604.00\n",
      "sense struc 803684.00\n",
      "sense pseudo 43.00\n",
      "sense miRNA 93.00\n",
      "\n",
      "Normalization ratio 1.9574918891323574 \n",
      "\n",
      "\n",
      "total 3198519.00\n",
      "sense coding 1715226.00\n",
      "anti coding 48871.00\n",
      "total coding 1764097.00\n",
      "sense struc 535385.00\n",
      "sense pseudo 23.00\n",
      "sense miRNA 44.00\n",
      "\n",
      "Normalization ratio 2.915067752004692 \n",
      "\n",
      "\n",
      "total 2703967.00\n",
      "sense coding 1418332.00\n",
      "anti coding 40953.00\n",
      "total coding 1459285.00\n",
      "sense struc 398667.00\n",
      "sense pseudo 19.00\n",
      "sense miRNA 47.00\n",
      "\n",
      "Normalization ratio 3.5252677088298086 \n",
      "\n",
      "\n",
      "total 3000762.00\n",
      "sense coding 1648936.00\n",
      "anti coding 50196.00\n",
      "total coding 1699132.00\n",
      "sense struc 449717.00\n",
      "sense pseudo 49.00\n",
      "sense miRNA 28.00\n",
      "\n",
      "Normalization ratio 3.0322583775234455 \n",
      "\n",
      "\n",
      "total 4136356.00\n",
      "sense coding 2308214.00\n",
      "anti coding 71519.00\n",
      "total coding 2379733.00\n",
      "sense struc 647492.00\n",
      "sense pseudo 34.00\n",
      "sense miRNA 36.00\n",
      "\n",
      "Normalization ratio 2.166176966260494 \n",
      "\n",
      "\n",
      "total 2891156.00\n",
      "sense coding 1468020.00\n",
      "anti coding 40106.00\n",
      "total coding 1508126.00\n",
      "sense struc 407901.00\n",
      "sense pseudo 38.00\n",
      "sense miRNA 108.00\n",
      "\n",
      "Normalization ratio 3.4059481478453972 \n",
      "\n",
      "\n"
     ]
    }
   ],
   "source": [
    "import re\n",
    "import scipy\n",
    "import numpy as np\n",
    "from scipy import stats\n",
    "from collections import OrderedDict, defaultdict\n",
    "\n",
    "\n",
    "    \n",
    "def norm(sam, stan):\n",
    "    # get the normalization rdefaatio\n",
    "    geex, cose, coan, coto, struc, pseudo, mir = 0, 0, 0, 0, 0, 0, 0\n",
    "    file = sam+'_all/sum_'+sam+'_all.txt'\n",
    "    with open (file) as f:\n",
    "        for line in f:\n",
    "            #line = re.sub(r'\\s+$', r'', line)\n",
    "            line = line.rstrip()\n",
    "            if re.search(r'^geex\\t\\S+\\t\\S+\\t\\S+', line):\n",
    "                mch = re.search(r'^geex\\t\\S+\\t\\S+\\t(\\S+)', line) # all\n",
    "                geex = float(mch.group(1))\n",
    "            if (re.search(r'^protein_coding\\t\\S+\\t\\S+\\t\\S+', line)):\n",
    "                mch = re.search(r'^protein_coding\\t(\\S+)\\t(\\S+)\\t(\\S+)', line)\n",
    "                cose = float(mch.group(1)); coan = float(mch.group(2)); coto = float(mch.group(3))\n",
    "            if (re.search(r'^struc\\t\\S+\\t\\S+\\t\\S+', line)):\n",
    "                mch = re.search(r'^struc\\t(\\S+)\\t\\S+\\t\\S+', line) # sense\n",
    "                struc = float(mch.group(1))            \n",
    "            if (re.search(r'^pseudogene\\t\\S+\\t\\S+\\t\\S+', line)):\n",
    "                mch = re.search(r'pseudogene\\t(\\S+)\\t\\S+\\t\\S+', line) # sense\n",
    "                pseudo = float(mch.group(1))            \n",
    "            if (re.search(r'^miRNA\\t\\S+\\t\\S+\\t\\S+', line)):\n",
    "                mch = re.search(r'miRNA\\t(\\S+)\\t\\S+\\t\\S+', line) # sense\n",
    "                mir = float(mch.group(1))            \n",
    "            if (re.search(r'^premiRNA\\t\\S+\\t\\S+\\t\\S+', line)):\n",
    "                mch = re.search(r'premiRNA\\t(\\S+)\\t\\S+\\t\\S+', line) # sense\n",
    "                premir = float(mch.group(1))\n",
    "            if (re.search(r'^exex', line)):\n",
    "                break\n",
    "\n",
    "    print ('''total %.2f\n",
    "              sense coding %.2f\n",
    "              anti coding %.2f\n",
    "              total coding %.2f\n",
    "              sense struc %.2f\n",
    "              sense pseudo %.2f\n",
    "              sense miRNA %.2f\\n''' % (geex, cose, coan, coto, struc, pseudo, mir))\n",
    "        \n",
    "    if (stan == 'mir'):\n",
    "        ratio = 1000000/mir\n",
    "    elif (stan == 'cose'):\n",
    "        ratio = 5000000/cose\n",
    "    elif (stan == 'coan'):\n",
    "        ratio = 2000000/coan\n",
    "    elif (stan == 'coto'):\n",
    "        ratio = 5000000/coto\n",
    "    elif (stan == 'tot'):\n",
    "        ratio = 5000000/geex\n",
    "    \n",
    "    print ('Normalization ratio', ratio, '\\n\\n')\n",
    "    \n",
    "    return ratio\n",
    "\n",
    "ano = {}\n",
    "\n",
    "with open('Aedes-aegypti-Liverpool_TRANSCRIPTS_AaegL3.3.fa', 'rt') as f:\n",
    "    for line in f:\n",
    "        if line.startswith('>'):\n",
    "            line = line.rstrip()\n",
    "            line = re.sub('>', '', line)\n",
    "            lst = line.split()\n",
    "            gene = lst[0].split('-')\n",
    "            geneid = gene[0]+'\\t'+lst[0]\n",
    "            lst.pop(0)\n",
    "            info = ' '.join(lst)\n",
    "            ano[geneid] = info\n",
    "\n",
    "coding = OrderedDict(defaultdict(list))\n",
    "\n",
    "stan = 'cose'\n",
    "\n",
    "ctrl = '032816ctrl'\n",
    "treat = '032816LC506hr'\n",
    "\n",
    "\n",
    "wt = input('WT samples seperated with comma (3 replicates):')\n",
    "wt = wt.rstrip()\n",
    "mut = input('Mutant samples seperated with comma (3 replicates):')\n",
    "mut = mut.rstrip()\n",
    "\n",
    "samples = re.split(r'\\s*\\,+\\s*', wt) + re.split(r'\\s*\\,+\\s*', mut)\n",
    "\n",
    "for sam in samples:\n",
    "    ra = norm(sam, stan)\n",
    "    in_file = sam+'_all/sum_'+sam+'_all_17_cdna_protein_coding.txt'\n",
    "    with open(in_file, 'rt') as f:\n",
    "        for line in f:\n",
    "            line = line.rstrip()\n",
    "            lst = line.split()\n",
    "            gene = lst[0]+'\\t'+lst[1]\n",
    "            if gene not in coding.keys():\n",
    "                coding[gene] = []\n",
    "            coding[gene].append(float(lst[2])*ra)\n",
    "\n",
    "fh1 = open('T_test_'+ctrl+'_'+treat+'_'+'005.txt', 'wt')\n",
    "fh2 = open('T_test_'+ctrl+'_'+treat+'.txt', 'wt')\n",
    "fh1.write('Gene\\tTranscript\\t')\n",
    "fh2.write('Gene\\tTranscript\\t')\n",
    "\n",
    "for sam in samples:\n",
    "    fh1.write(sam+'\\t')\n",
    "    fh2.write(sam+'\\t')\n",
    "\n",
    "fh1.write('WT mean\\tMUT mean\\tp-value\\n')\n",
    "fh2.write('WT mean\\tMUT mean\\tp-value\\n')\n",
    "\n",
    "for k,v in coding.items():\n",
    "    x = v[0:3]\n",
    "    y = v[3:6]\n",
    "    x_m = round(np.mean(x), 3)\n",
    "    y_m = round(np.mean(y), 3)\n",
    "\n",
    "    v1 = str(v[0])\n",
    "    v2 = str(v[1])\n",
    "    v3 = str(v[2])\n",
    "    v4 = str(v[3])\n",
    "    v5 = str(v[4])\n",
    "    v6 = str(v[5])\n",
    "\n",
    "    \n",
    "    test = stats.ttest_ind(x,y, equal_var=True)\n",
    "    t = round(test[0], 3)\n",
    "    p = round(test[1], 3)\n",
    "    if p < 0.05:\n",
    "        fh1.write(k+'\\t'+v1+'\\t'+v2+'\\t'+v3+'\\t'+v4+'\\t'+v5+'\\t'+v6+'\\t'+str(x_m)+'\\t'+str(y_m)+'\\t'+str(p)+'\\t'+ano[k]+'\\n')\n",
    "    \n",
    "    fh2.write(k+'\\t'+v1+'\\t'+v2+'\\t'+v3+'\\t'+v4+'\\t'+v5+'\\t'+v6+'\\t'+str(x_m)+'\\t'+str(y_m)+'\\t'+str(p)+'\\t'+ano[k]+'\\n')\n",
    "    \n",
    "fh1.close()\n",
    "fh2.close()\n",
    "\n",
    "\n",
    "\n",
    "            \n",
    "            \n"
   ]
  },
  {
   "cell_type": "code",
   "execution_count": null,
   "metadata": {
    "collapsed": true
   },
   "outputs": [],
   "source": [
    "032816ctrl1,032816ctrl2,032816ctrl4\n",
    "032816LC506hr1,032816LC506hr2,032816LC506hr4"
   ]
  },
  {
   "cell_type": "code",
   "execution_count": 20,
   "metadata": {},
   "outputs": [
    {
     "name": "stdout",
     "output_type": "stream",
     "text": [
      "b c\n"
     ]
    }
   ],
   "source": [
    "lst = ['a', 'b', 'c']\n",
    "lst.pop(0)\n",
    "info = ' '.join(lst)\n",
    "print (info)"
   ]
  },
  {
   "cell_type": "code",
   "execution_count": 12,
   "metadata": {},
   "outputs": [
    {
     "name": "stdout",
     "output_type": "stream",
     "text": [
      "0.000899300636929\n"
     ]
    }
   ],
   "source": [
    "from scipy import stats\n",
    "rvs1 = stats.norm.rvs(loc=5,scale=10,size=50)\n",
    "rvs1\n",
    "\n",
    "x = [1,2,3,4,5,6]\n",
    "y = [9,10,11]\n",
    "\n",
    "test = stats.ttest_ind(x,y)\n",
    "p = test[1]\n",
    "print (p)"
   ]
  },
  {
   "cell_type": "code",
   "execution_count": null,
   "metadata": {
    "collapsed": true
   },
   "outputs": [],
   "source": []
  },
  {
   "cell_type": "code",
   "execution_count": 16,
   "metadata": {},
   "outputs": [
    {
     "data": {
      "text/plain": [
       "3.5"
      ]
     },
     "execution_count": 16,
     "metadata": {},
     "output_type": "execute_result"
    }
   ],
   "source": [
    "import numpy as np\n",
    "np.mean(x)"
   ]
  },
  {
   "cell_type": "code",
   "execution_count": 5,
   "metadata": {},
   "outputs": [
    {
     "data": {
      "text/plain": [
       "'/Users/DONG/Documents/Career/Python2/Python_lab/jianwu'"
      ]
     },
     "execution_count": 5,
     "metadata": {},
     "output_type": "execute_result"
    }
   ],
   "source": [
    "import os\n",
    "os.getcwd()"
   ]
  },
  {
   "cell_type": "code",
   "execution_count": 10,
   "metadata": {},
   "outputs": [
    {
     "name": "stdout",
     "output_type": "stream",
     "text": [
      "AAEL000001-RA  bystin|protein_coding|supercont1.1:4290724-4298425:-1|gene:AAEL000001\n",
      "AAEL000002-RA  hypothetical protein|protein_coding|supercont1.1:1151653-1151850:1|gene:AAEL000002\n",
      "AAEL000003-RA  conserved hypothetical protein|protein_coding|supercont1.1:3644561-3668187:1|gene:AAEL000003\n",
      "AAEL000004-RA  glycosyltransferase|protein_coding|supercont1.1:2714033-2718806:-1|gene:AAEL000004\n",
      "AAEL000005-RC  hypothetical protein|protein_coding|supercont1.1:4197253-4221452:1|gene:AAEL000005\n",
      "AAEL000005-RB  hypothetical protein|protein_coding|supercont1.1:4208813-4221459:1|gene:AAEL000005\n",
      "AAEL000006-RA  phosphoenolpyruvate carboxykinase|protein_coding|supercont1.1:4321657-4359569:-1|gene:AAEL000006\n",
      "AAEL000006-RC  phosphoenolpyruvate carboxykinase|protein_coding|supercont1.1:4321517-4323668:-1|gene:AAEL000006\n",
      "AAEL000006-RB  phosphoenolpyruvate carboxykinase|protein_coding|supercont1.1:4357192-4359569:-1|gene:AAEL000006\n",
      "AAEL000007-RA  conserved hypothetical protein|protein_coding|supercont1.1:3849185-3866464:1|gene:AAEL000007\n"
     ]
    }
   ],
   "source": [
    "import re\n",
    "ano = {}\n",
    "\n",
    "i = 0\n",
    "\n",
    "with open('mRNAseq/Aedes-aegypti-Liverpool_TRANSCRIPTS_AaegL3.3.fa', 'rt') as f:\n",
    "    for line in f:\n",
    "        if line.startswith('>'):\n",
    "            i += 1\n",
    "            if i > 10:\n",
    "                break\n",
    "                \n",
    "            line = line.rstrip()\n",
    "            line = re.sub('>', '', line)\n",
    "            lst = line.split()\n",
    "            #gene = lst[0].split('-')\n",
    "            #geneid = gene[0]+'\\t'+lst[0]\n",
    "            #ano[geneid] = lst[1]\n",
    "            print (line)"
   ]
  },
  {
   "cell_type": "code",
   "execution_count": null,
   "metadata": {},
   "outputs": [],
   "source": []
  },
  {
   "cell_type": "code",
   "execution_count": 6,
   "metadata": {},
   "outputs": [
    {
     "name": "stdout",
     "output_type": "stream",
     "text": [
      "T_test_032816ctrl_032816LC5012hr.txt\n",
      "\n",
      "T_test_032816ctrl_032816LC5012hr_005.txt\n",
      "\n",
      "T_test_032816ctrl_032816LC5024hr.txt\n",
      "\n",
      "T_test_032816ctrl_032816LC5024hr_005.txt\n",
      "\n",
      "T_test_032816ctrl_032816LC506hr.txt\n",
      "\n",
      "T_test_032816ctrl_032816LC506hr_005.txt\n",
      "\n",
      "T_test_032816ctrl_032816R44F.txt\n",
      "\n",
      "T_test_032816ctrl_032816R44F_005.txt\n",
      "\n"
     ]
    }
   ],
   "source": [
    "import os\n",
    "fls = os.listdir()\n",
    "for fl in fls:\n",
    "    if fl.endswith('.txt'):\n",
    "        print (fl+'\\n')"
   ]
  },
  {
   "cell_type": "code",
   "execution_count": null,
   "metadata": {
    "collapsed": true
   },
   "outputs": [],
   "source": []
  }
 ],
 "metadata": {
  "kernelspec": {
   "display_name": "Python 3",
   "language": "python",
   "name": "python3"
  },
  "language_info": {
   "codemirror_mode": {
    "name": "ipython",
    "version": 3
   },
   "file_extension": ".py",
   "mimetype": "text/x-python",
   "name": "python",
   "nbconvert_exporter": "python",
   "pygments_lexer": "ipython3",
   "version": "3.6.5"
  }
 },
 "nbformat": 4,
 "nbformat_minor": 1
}
