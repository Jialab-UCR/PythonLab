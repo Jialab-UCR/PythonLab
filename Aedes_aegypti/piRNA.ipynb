{
 "cells": [
  {
   "cell_type": "code",
   "execution_count": 8,
   "metadata": {},
   "outputs": [
    {
     "name": "stdout",
     "output_type": "stream",
     "text": [
      "Sample names separated by comma:Ctrllab2\n"
     ]
    }
   ],
   "source": [
    "import re\n",
    "import operator\n",
    "from collections import OrderedDict\n",
    "\n",
    "struc, coding, premir, mir, exex = 'struc', 'protein_coding', 'premiRNA', 'miRNA', 'exex'\n",
    "samples = input('Sample names separated by comma:')\n",
    "sams = re.split(r'\\s*,+\\s*', samples)\n",
    "stan = 'tot'\n",
    "name = ''\n",
    "\n",
    "folder = ''\n",
    "\n",
    "def main():\n",
    "    global name\n",
    "    global folder\n",
    "    global sam\n",
    "    for sam in sams:\n",
    "        name = ''\n",
    "        folder = sam + '_all/'\n",
    "        geex_minus(struc, coding, premir, mir, exex)\n",
    "        sum_sctg(sam)\n",
    "           \n",
    "def geex_minus(*arg):\n",
    "    global name\n",
    "    global folder\n",
    "    global sam\n",
    "     \n",
    "    nonpi = OrderedDict()\n",
    "\n",
    "    for tp in arg:\n",
    "        name = name+tp+'_'\n",
    "    name = re.sub(r'_$', r'', name)\n",
    "    \n",
    "    fh = open(folder+sam+'_all_17_geex_minus_'+name+'.txt', 'wt')\n",
    "    for tp in arg:\n",
    "        with open(folder+sam+'_all_17_cdna_'+tp+'_normed.txt', 'rt') as f:\n",
    "            for line in f:\n",
    "                if line.startswith('>'):\n",
    "                    continue\n",
    "                else:\n",
    "                    line = line.rstrip()\n",
    "                    nonpi[line] = 1\n",
    "    \n",
    "    with open (folder+sam+'_all_17_geex_normed.txt', 'rt') as f:\n",
    "        for line in f:\n",
    "            line = line.rstrip()\n",
    "            if line not in nonpi.keys():\n",
    "                fh.write(line+'\\n')\n",
    "                       \n",
    "    fh.close()\n",
    "\n",
    "\n",
    "'''\n",
    "def norm(sam, stan):\n",
    "    # get the normalization ratio\n",
    "    geex, struc, cose, coan, coto, mir, u21 = 0, 0, 0, 0, 0, 0, 0\n",
    "    file = sam+'/sum_'+sam+'.txt'\n",
    "    with open (file) as f:\n",
    "        for line in f:\n",
    "            #line = re.sub(r'\\s+$', r'', line)\n",
    "            line = line.rstrip()\n",
    "            if re.search(r'^geex\\t\\S+\\t\\S+\\t\\S+', line):\n",
    "                mch = re.search(r'^geex\\t\\S+\\t\\S+\\t(\\S+)', line) # all\n",
    "                geex = float(mch.group(1))\n",
    "            if (re.search(r'^struc\\t\\S+\\t\\S+\\t\\S+', line)):\n",
    "                mch = re.search(r'^struc\\t(\\S+)\\t\\S+\\t\\S+', line) # sense\n",
    "                struc = float(mch.group(1))\n",
    "            if (re.search(r'^coding\\t\\S+\\t\\S+\\t\\S+', line)):\n",
    "                mch = re.search(r'^coding\\t(\\S+)\\t(\\S+)\\t(\\S+)', line)\n",
    "                cose = float(mch.group(1)); coan = float(mch.group(2)); coto = float(mch.group(3))\n",
    "            if (re.search(r'^miRNA\\t\\S+\\t\\S+\\t\\S+', line)):\n",
    "                mch = re.search(r'miRNA\\t(\\S+)\\t\\S+\\t\\S+', line) # sense\n",
    "                mir = float(mch.group(1))\n",
    "            if (re.search(r'^u21RNA\\t\\S+\\t\\S+\\t\\S+', line)):\n",
    "                mch = re.search(r'u21RNA\\t(\\S+)\\t\\S+\\t\\S+', line) # sense\n",
    "                u21 = float(mch.group(1))\n",
    "            if (re.search(r'^star-miRNA', line)):\n",
    "                break\n",
    "    nons = geex - struc\n",
    "\n",
    "    print (''total %.2f\n",
    "             sense struc %.2f\n",
    "             non-struc %.2f\n",
    "             sense coding %.2f\n",
    "             anti coding %.2f\n",
    "             total coding %.2f\n",
    "             sense miRNA %.2f\n",
    "             sense 21U-RNA %.2f\\n'' % (geex, struc, nons, cose, coan, coto, mir, u21))\n",
    "        \n",
    "    if (stan == 'mir'):\n",
    "        ratio = 1000000/mir\n",
    "    elif (stan == 'cose'):\n",
    "        ratio = 5000000/cose\n",
    "    elif (stan == 'coan'):\n",
    "        ratio = 2000000/coan\n",
    "    elif (stan == 'coto'):\n",
    "        ratio = 5000000/coto\n",
    "    elif (stan == 'nons'):\n",
    "        ratio = 5000000/nons\n",
    "    elif (stan == 'tot'):\n",
    "        ratio = 10000000/geex\n",
    "    elif (stan == '21U'):\n",
    "        ratio = 500000/u21\n",
    "    \n",
    "    print ('Normalization ratio', ratio, '\\n\\n')\n",
    "    \n",
    "    return ratio\n",
    "'''\n",
    "\n",
    "def sum_sctg(sam):\n",
    "    global name\n",
    "    global folder\n",
    "    #ra = norm(sam, 'tot')\n",
    "    smry = OrderedDict()\n",
    "    \n",
    "    with open(folder+sam+'_all_17_geex_minus_'+name+'.txt', 'rt') as f:\n",
    "        for line in f:\n",
    "            line = line.rstrip()\n",
    "            lst = line.split()\n",
    "            sctg = lst[0]+'\\t'+lst[1]\n",
    "            if sctg not in smry.keys():\n",
    "                smry[sctg] = OrderedDict()\n",
    "                for i in range(17, 51):\n",
    "                    smry[sctg][str(i)] = 0\n",
    "                for nt in ['A', 'T', 'C', 'G', 'N']:\n",
    "                    smry[sctg][nt] = 0\n",
    "                \n",
    "                if int(lst[3]) > 50:\n",
    "                    continue\n",
    "                smry[sctg][lst[3]] += 1\n",
    "                smry[sctg][lst[7][0]] += 1\n",
    "\n",
    "            else:\n",
    "                if int(lst[3]) > 50:\n",
    "                    continue\n",
    "                smry[sctg][lst[3]] += 1\n",
    "                smry[sctg][lst[7][0]] += 1\n",
    "\n",
    "    fh = open(folder+'sum_'+sam+'_all_17_geex_minus_'+name+'.txt', 'wt')\n",
    "    fh.write('Supercontig\\tStrand\\t')\n",
    "    for i in range(17, 51):\n",
    "        fh.write(str(i)+'\\t')\n",
    "    for nt in ['A', 'T', 'C', 'G', 'N', 'Total']:\n",
    "        fh.write(nt+'\\t')\n",
    "    fh.write('\\n')\n",
    "    \n",
    "    sorted_smry = sorted(smry.items(), key = operator.itemgetter(0))\n",
    "    for k, v in sorted_smry:\n",
    "        fh.write(k+'\\t')\n",
    "        total = 0\n",
    "        for subk, subv in v.items():\n",
    "            subv = round(subv, 2)\n",
    "            fh.write(str(subv)+'\\t')\n",
    "    \n",
    "        for nt in ['A', 'T', 'C', 'G', 'N']:\n",
    "            total = total + smry[k][nt]\n",
    "        \n",
    "        fh.write(str(total)+ '\\n')\n",
    "        \n",
    "        #if total == 0:\n",
    "        #    T_ratio = 'NA'\n",
    "        #else:\n",
    "        #    T_ratio = round(smry[k]['T']/total, 2)\n",
    "        #fh.write(str(T_ratio)+ '\\n')\n",
    "        \n",
    "    fh.close()\n",
    "    \n",
    "if __name__ == '__main__':\n",
    "    main()"
   ]
  },
  {
   "cell_type": "code",
   "execution_count": 22,
   "metadata": {},
   "outputs": [],
   "source": [
    "import re\n",
    "import operator\n",
    "from collections import OrderedDict\n",
    "\n",
    "struc, coding, premir, mir, exex = 'struc', 'protein_coding', 'premiRNA', 'miRNA', 'exex'\n",
    "samples = input('Sample names separated by comma:')\n",
    "sams = re.split(r'\\s*,+\\s*', samples)\n",
    "stan = 'tot'\n",
    "name = ''\n",
    "\n",
    "folder = ''\n",
    "\n",
    "def main():\n",
    "    global name\n",
    "    for sam in sams:\n",
    "        name = ''\n",
    "        folder = sam + '_all/'\n",
    "        geex_minus(struc, coding, premir, mir, exex)\n",
    "        sum_sctg(sam)\n",
    "            \n",
    "def geex_minus(*arg):\n",
    "    global name\n",
    "    \n",
    "    nonpi = OrderedDict()\n",
    "\n",
    "    for tp in arg:\n",
    "        name = name+tp+'_'\n",
    "    name = re.sub(r'_$', r'', name)\n",
    "    \n",
    "    fh = open(folder+sam+'_all_17_geex_minus_'+name+'.txt', 'wt')\n",
    "    for tp in arg:\n",
    "        with open(folder+sam+'_all_17_cdna_'+tp+'_normed.txt', 'rt') as f:\n",
    "            for line in f:\n",
    "                if line.startswith('>'):\n",
    "                    continue\n",
    "                else:\n",
    "                    line = line.rstrip()\n",
    "                    nonpi[line] = 1\n",
    "    \n",
    "    with open (folder+sam+'_all_17_geex_normed.txt', 'rt') as f:\n",
    "        for line in f:\n",
    "            line = line.rstrip()\n",
    "            if line not in nonpi.keys():\n",
    "                fh.write(line+'\\n')\n",
    "                       \n",
    "    fh.close()\n",
    "    \n",
    "\n",
    "\n",
    "\n",
    "def sum_sctg(sam):\n",
    "    global name\n",
    "    ra = norm(sam, stan)\n",
    "    smry = OrderedDict()\n",
    "    \n",
    "    with open(folder+sam+'_all_17_geex_minus_'+name+'.txt', 'rt') as f:\n",
    "        for line in f:\n",
    "            line = line.rstrip()\n",
    "            lst = line.split()\n",
    "            sctg = lst[0]+'\\t'+lst[1]\n",
    "            if sctg not in smry.keys():\n",
    "                smry[sctg] = OrderedDict()\n",
    "                for i in range(17, 35):\n",
    "                    smry[sctg][str(i)] = 0\n",
    "                for nt in ['A', 'T', 'C', 'G', 'N']:\n",
    "                    smry[sctg][nt] = 0\n",
    "                continue\n",
    "            else:\n",
    "                if int(lst[3]) > 50:\n",
    "                    continue\n",
    "                smry[sctg][lst[3]] += float(lst[4])/float(lst[5])*ra\n",
    "                smry[sctg][lst[7][0]] += float(lst[4])/float(lst[5])*ra\n",
    "\n",
    "    fh = open(folder+'sum_'+sam+'_all_17_geex_minus_'+name+'.txt', 'wt')\n",
    "    fh.write('Supercontig\\tStrand\\t')\n",
    "    for i in range(19, 32):\n",
    "        fh.write(str(i)+'\\t')\n",
    "    for nt in ['A', 'T', 'C', 'G', 'N']:\n",
    "        fh.write(nt+'\\t')\n",
    "        fh.write('\\n')\n",
    "    \n",
    "    sorted_smry = sorted(smry.items(), key = operator.itemgetter(0))\n",
    "    for k, v in sorted_smry:\n",
    "        fh.write(k+'\\t')\n",
    "        total = 0\n",
    "        for subk, subv in v.items():\n",
    "            subv = round(subv, 2)\n",
    "            fh.write(str(subv)+'\\t')\n",
    "    \n",
    "        for nt in ['A', 'T', 'C', 'G', 'N']:\n",
    "            total = total + smry[k][nt]\n",
    "    \n",
    "        if total == 0:\n",
    "            T_ratio = 'NA'\n",
    "        else:\n",
    "            T_ratio = round(smry[k]['T']/total, 2)\n",
    "        fh.write(str(T_ratio)+ '\\n')\n",
    "            \n",
    "    fh.close()\n",
    " \n",
    "    \n",
    "if __name__ == '__main__':\n",
    "    main()"
   ]
  },
  {
   "cell_type": "code",
   "execution_count": 57,
   "metadata": {},
   "outputs": [],
   "source": [
    "\n",
    "\n",
    "def norm(sam, stan):\n",
    "    # get the normalization ratio\n",
    "    geex, struc, cose, coan, coto, mir, u21 = 0, 0, 0, 0, 0, 0, 0\n",
    "    file = sam+'/sum_'+sam+'.txt'\n",
    "    with open (file) as f:\n",
    "        for line in f:\n",
    "            #line = re.sub(r'\\s+$', r'', line)\n",
    "            line = line.rstrip()\n",
    "            if re.search(r'^geex\\t\\S+\\t\\S+\\t\\S+', line):\n",
    "                mch = re.search(r'^geex\\t\\S+\\t\\S+\\t(\\S+)', line) # all\n",
    "                geex = float(mch.group(1))\n",
    "            if (re.search(r'^struc\\t\\S+\\t\\S+\\t\\S+', line)):\n",
    "                mch = re.search(r'^struc\\t(\\S+)\\t\\S+\\t\\S+', line) # sense\n",
    "                struc = float(mch.group(1))\n",
    "            if (re.search(r'^coding\\t\\S+\\t\\S+\\t\\S+', line)):\n",
    "                mch = re.search(r'^coding\\t(\\S+)\\t(\\S+)\\t(\\S+)', line)\n",
    "                cose = float(mch.group(1)); coan = float(mch.group(2)); coto = float(mch.group(3))\n",
    "            if (re.search(r'^miRNA\\t\\S+\\t\\S+\\t\\S+', line)):\n",
    "                mch = re.search(r'miRNA\\t(\\S+)\\t\\S+\\t\\S+', line) # sense\n",
    "                mir = float(mch.group(1))\n",
    "            if (re.search(r'^u21RNA\\t\\S+\\t\\S+\\t\\S+', line)):\n",
    "                mch = re.search(r'u21RNA\\t(\\S+)\\t\\S+\\t\\S+', line) # sense\n",
    "                u21 = float(mch.group(1))\n",
    "            if (re.search(r'^star-miRNA', line)):\n",
    "                break\n",
    "    nons = geex - struc\n",
    "        \n",
    "    print ('''total %.2f\n",
    "              sense struc %.2f\n",
    "              non-struc %.2f\n",
    "              sense coding %.2f\n",
    "              anti coding %.2f\n",
    "              total coding %.2f\n",
    "              sense miRNA %.2f\n",
    "              sense 21U-RNA %.2f\\n''' % (geex, struc, nons, cose, coan, coto, mir, u21))\n",
    "        \n",
    "    if (stan == 'mir'):\n",
    "        ratio = 1000000/mir\n",
    "    elif (stan == 'cose'):\n",
    "        ratio = 5000000/cose\n",
    "    elif (stan == 'coan'):\n",
    "        ratio = 2000000/coan\n",
    "    elif (stan == 'coto'):\n",
    "        ratio = 5000000/coto\n",
    "    elif (stan == 'nons'):\n",
    "        ratio = 5000000/nons\n",
    "    elif (stan == 'tot'):\n",
    "        ratio = 10000000/geex\n",
    "    elif (stan == '21U'):\n",
    "        ratio = 500000/u21\n",
    "    \n",
    "    print ('Normalization ratio', ratio, '\\n\\n')\n",
    "    \n",
    "    return ratio\n",
    "\n",
    "\n",
    "def sum_sctg(sam):\n",
    "    global folder\n",
    "    smry = OrderedDict()\n",
    "    ra = norm(sam, stan)\n",
    "    with open(folder+sam+'_all_17_geex_minus_'+name+'.txt', 'rt') as f:\n",
    "        for line in f:\n",
    "            line = line.rstrip()\n",
    "            lst = line.split()\n",
    "            sctg = lst[0]+'\\t'+lst[1]\n",
    "            if sctg not in smry.keys():\n",
    "                smry[sctg] = OrderedDict()\n",
    "                for i in range(17, 51):\n",
    "                    smry[sctg][str(i)] = 0\n",
    "                for nt in ['A', 'T', 'C', 'G', 'N']:\n",
    "                    smry[sctg][nt] = 0\n",
    "                continue\n",
    "            else:\n",
    "                if int(lst[3]) > 50:\n",
    "                    continue\n",
    "                smry[sctg][lst[3]] += float(lst[4])/float(lst[5])*ra\n",
    "                smry[sctg][lst[7][0]] += float(lst[4])/float(lst[5])*ra\n",
    "\n",
    "    fh = open(folder+'sum_'+sam+'_all_17_geex_minus_'+name+'.txt', 'wt')\n",
    "    fh.write('Supercontig\\tStrand\\t')\n",
    "    for i in range(19, 35):\n",
    "        fh.write(str(i)+'\\t')\n",
    "    for nt in ['A', 'T', 'C', 'G', 'N']:\n",
    "        fh.write(nt+'\\t')\n",
    "    \n",
    "    sorted_smry = sorted(smry.items(), key = operator.itemgetter(0))\n",
    "    for k, v in sorted_smry:\n",
    "        fh.write(k+'\\t')\n",
    "        total = 0\n",
    "        for subk, subv in v.items():\n",
    "            subv = round(subv, 2)\n",
    "            fh.write(str(subv)+'\\t')\n",
    "    \n",
    "        for nt in ['A', 'T', 'C', 'G', 'N']:\n",
    "            total = total + smry[k][nt]\n",
    "    \n",
    "        if total == 0:\n",
    "            T_ratio = 'NA'\n",
    "        else:\n",
    "            T_ratio = round(smry[k]['T']/total, 2)\n",
    "        fh.write(str(T_ratio)+ '\\n')\n",
    "            \n",
    "    fh.close()"
   ]
  },
  {
   "cell_type": "code",
   "execution_count": null,
   "metadata": {},
   "outputs": [],
   "source": []
  },
  {
   "cell_type": "code",
   "execution_count": null,
   "metadata": {},
   "outputs": [],
   "source": []
  },
  {
   "cell_type": "code",
   "execution_count": null,
   "metadata": {},
   "outputs": [],
   "source": []
  },
  {
   "cell_type": "code",
   "execution_count": 64,
   "metadata": {},
   "outputs": [
    {
     "name": "stdout",
     "output_type": "stream",
     "text": [
      "4\n"
     ]
    }
   ],
   "source": [
    "x = 1\n",
    "def plus(a,b):\n",
    "    global x\n",
    "    x = x+a+b\n",
    "    print (x)\n",
    "    \n",
    "plus(1,2)"
   ]
  },
  {
   "cell_type": "code",
   "execution_count": 40,
   "metadata": {},
   "outputs": [
    {
     "name": "stdout",
     "output_type": "stream",
     "text": [
      "A 10\n",
      "T 30\n"
     ]
    }
   ],
   "source": [
    "smry = OrderedDict()\n",
    "\n",
    "spct = 'Scfd1'\n",
    "smry[spct] = OrderedDict()\n",
    "smry[spct]['A'] = 10\n",
    "smry[spct]['T'] = 30\n",
    "\n",
    "for k, v in smry[spct].items():\n",
    "    print (k, v)\n",
    "\n",
    "\n",
    "\n"
   ]
  },
  {
   "cell_type": "code",
   "execution_count": null,
   "metadata": {},
   "outputs": [],
   "source": []
  },
  {
   "cell_type": "code",
   "execution_count": 30,
   "metadata": {},
   "outputs": [
    {
     "name": "stdout",
     "output_type": "stream",
     "text": [
      "mkdir test\n"
     ]
    },
    {
     "data": {
      "text/plain": [
       "0"
      ]
     },
     "execution_count": 30,
     "metadata": {},
     "output_type": "execute_result"
    }
   ],
   "source": [
    "import subprocess as sp\n",
    "from subprocess import call\n",
    "step1 = ('ls -lh')\n",
    "print (step1)\n",
    "call(step1, shell = True)"
   ]
  },
  {
   "cell_type": "code",
   "execution_count": 34,
   "metadata": {},
   "outputs": [
    {
     "data": {
      "text/plain": [
       "0"
      ]
     },
     "execution_count": 34,
     "metadata": {},
     "output_type": "execute_result"
    }
   ],
   "source": [
    "import os\n",
    "from os import system\n",
    "system('mkdir test')"
   ]
  },
  {
   "cell_type": "code",
   "execution_count": 5,
   "metadata": {},
   "outputs": [
    {
     "name": "stdout",
     "output_type": "stream",
     "text": [
      "total:14700299\n",
      "start with T:5501103\n",
      "Ratio of T:0.37\n"
     ]
    }
   ],
   "source": [
    "sam = 'Ctrllab1'\n",
    "folder = sam + '_all/'\n",
    "\n",
    "t = 0\n",
    "total = 0\n",
    "\n",
    "with open(folder+sam+'_all_17_geex_minus_struc_coding_mirna_premir.txt') as f:\n",
    "    for line in f:\n",
    "        total += 1\n",
    "        lst = line.rstrip().split()\n",
    "        if lst[7].startswith('T'):\n",
    "            t += 1\n",
    "\n",
    "\n",
    "ra = round(t/total, 2)\n",
    "\n",
    "print ('total:'+str(total))\n",
    "print ('start with T:'+str(t))\n",
    "print ('Ratio of T:'+str(ra))\n",
    "\n",
    "\n",
    "\n",
    "          \n",
    "          \n",
    "        "
   ]
  },
  {
   "cell_type": "code",
   "execution_count": 13,
   "metadata": {},
   "outputs": [
    {
     "name": "stdout",
     "output_type": "stream",
     "text": [
      "a\n",
      "b\n",
      "c\n"
     ]
    }
   ],
   "source": [
    "def geex_minus(*arg):\n",
    "    for x in arg:\n",
    "        print (x)\n",
    "    \n",
    "geex_minus('a','b','c')"
   ]
  },
  {
   "cell_type": "code",
   "execution_count": 8,
   "metadata": {},
   "outputs": [
    {
     "data": {
      "text/plain": [
       "12"
      ]
     },
     "execution_count": 8,
     "metadata": {},
     "output_type": "execute_result"
    }
   ],
   "source": [
    "m = 0\n",
    "def x(y):\n",
    "    global m\n",
    "    for i in range(y):\n",
    "        m += 1\n",
    "    return m\n",
    "x(5)\n",
    "x(7)\n",
    "        "
   ]
  },
  {
   "cell_type": "code",
   "execution_count": 16,
   "metadata": {},
   "outputs": [
    {
     "name": "stdout",
     "output_type": "stream",
     "text": [
      "['st']\n"
     ]
    }
   ],
   "source": [
    "x = 'st, ms, nl'\n",
    "x= 'st'\n",
    "\n",
    "try:\n",
    "    xx = x.split(',')\n",
    "    print (xx)\n",
    "except:\n",
    "    print (x)"
   ]
  },
  {
   "cell_type": "code",
   "execution_count": 18,
   "metadata": {},
   "outputs": [
    {
     "name": "stdout",
     "output_type": "stream",
     "text": [
      "Sample names separated by comma:a,b,cd, de\n",
      "a\n",
      "b\n",
      "cd\n",
      "de\n"
     ]
    }
   ],
   "source": [
    "import re\n",
    "samples = input('Sample names separated by comma:')\n",
    "sams = re.split(r'\\s*,+\\s*', samples)\n",
    "\n",
    "for sam in sams:\n",
    "    print (sam)"
   ]
  },
  {
   "cell_type": "code",
   "execution_count": 3,
   "metadata": {},
   "outputs": [
    {
     "name": "stdout",
     "output_type": "stream",
     "text": [
      "OrderedDict()\n"
     ]
    }
   ],
   "source": [
    "from collections import OrderedDict\n",
    "x = OrderedDict()\n",
    "x['a'] = 1\n",
    "x['b'] = 2\n",
    "#print (x)\n",
    "\n",
    "x = OrderedDict()\n",
    "print (x)"
   ]
  },
  {
   "cell_type": "code",
   "execution_count": 58,
   "metadata": {},
   "outputs": [
    {
     "name": "stdout",
     "output_type": "stream",
     "text": [
      "x_y_z_\n"
     ]
    }
   ],
   "source": [
    "name = ''\n",
    "arg = ['x','y','z']\n",
    "for tp in arg:\n",
    "    name = name+tp+'_'\n",
    "    \n",
    "print (name)"
   ]
  },
  {
   "cell_type": "code",
   "execution_count": 7,
   "metadata": {},
   "outputs": [
    {
     "name": "stdout",
     "output_type": "stream",
     "text": [
      "[('m', OrderedDict([('17', 0), ('18', 0), ('19', 0), ('20', 0), ('21', 0), ('22', 0), ('23', 0), ('24', 0), ('25', 0), ('26', 0), ('27', 0), ('28', 0), ('29', 0), ('30', 0), ('31', 0), ('32', 0), ('33', 0), ('34', 0), ('35', 0), ('36', 0), ('37', 0), ('38', 0), ('39', 0), ('40', 0), ('41', 0), ('42', 0), ('43', 0), ('44', 0), ('45', 0), ('46', 0), ('47', 0), ('48', 0), ('49', 0), ('50', 0), ('A', 0), ('T', 0), ('C', 0), ('G', 0), ('N', 0)])), ('x', OrderedDict([('17', 0), ('18', 0), ('19', 0), ('20', 0), ('21', 0), ('22', 0), ('23', 0), ('24', 0), ('25', 0), ('26', 0), ('27', 0), ('28', 0), ('29', 0), ('30', 0), ('31', 0), ('32', 0), ('33', 0), ('34', 0), ('35', 0), ('36', 0), ('37', 0), ('38', 0), ('39', 0), ('40', 0), ('41', 0), ('42', 0), ('43', 0), ('44', 0), ('45', 0), ('46', 0), ('47', 0), ('48', 0), ('49', 0), ('50', 0), ('A', 0), ('T', 0), ('C', 0), ('G', 0), ('N', 0)])), ('y', OrderedDict([('17', 0), ('18', 0), ('19', 0), ('20', 0), ('21', 0), ('22', 0), ('23', 0), ('24', 0), ('25', 0), ('26', 0), ('27', 0), ('28', 0), ('29', 0), ('30', 0), ('31', 0), ('32', 0), ('33', 0), ('34', 0), ('35', 0), ('36', 0), ('37', 0), ('38', 0), ('39', 0), ('40', 0), ('41', 0), ('42', 0), ('43', 0), ('44', 0), ('45', 0), ('46', 0), ('47', 0), ('48', 0), ('49', 0), ('50', 0), ('A', 0), ('T', 0), ('C', 0), ('G', 0), ('N', 0)]))]\n"
     ]
    }
   ],
   "source": [
    "x1 = OrderedDict()\n",
    "for x in ['m','y','x']:\n",
    "    x1[x] = OrderedDict()\n",
    "    \n",
    "    for i in range(17, 51):\n",
    "        x1[x][str(i)] = 0\n",
    "    for nt in ['A', 'T', 'C', 'G', 'N']:\n",
    "        x1[x][nt] = 0\n",
    "    \n",
    "sorted_x1 = sorted(x1.items(), key = operator.itemgetter(0))\n",
    "        \n",
    "print (sorted_x1)"
   ]
  },
  {
   "cell_type": "code",
   "execution_count": null,
   "metadata": {
    "collapsed": true
   },
   "outputs": [],
   "source": []
  }
 ],
 "metadata": {
  "kernelspec": {
   "display_name": "Python 3",
   "language": "python",
   "name": "python3"
  },
  "language_info": {
   "codemirror_mode": {
    "name": "ipython",
    "version": 3
   },
   "file_extension": ".py",
   "mimetype": "text/x-python",
   "name": "python",
   "nbconvert_exporter": "python",
   "pygments_lexer": "ipython3",
   "version": "3.6.5"
  }
 },
 "nbformat": 4,
 "nbformat_minor": 1
}
