{
 "cells": [
  {
   "cell_type": "code",
   "execution_count": 20,
   "metadata": {
    "collapsed": false
   },
   "outputs": [],
   "source": [
    "#from Bio.Seq import Seq\n",
    "#from Bio import SeqIO\n",
    "import re\n",
    "import os\n",
    "import operator\n",
    "import collections\n",
    "from collections import OrderedDict\n",
    "from sys import exit\n",
    "\n",
    "def main():\n",
    "    fout = open('snp_reference.txt', 'wt')\n",
    "    #for seq_record in SeqIO.parse('HSGRCH3771_final.fa', 'fasta'):\n",
    "    #    get_loci(seq_record.id, seq_record.seq, fout)\n",
    "    ref_genome = genomeparse('nipponbare7.fa')\n",
    "    \n",
    "    for chrid, chrseq in ref_genome.items():\n",
    "        if not re.search(r'Chr(\\d+)', chrid):\n",
    "            break\n",
    "        else:\n",
    "            get_loci(chrid, chrseq, fout)\n",
    "    \n",
    "    fout.close()\n",
    "    \n",
    "    convert_to_vcf()\n",
    "\n",
    "    \n",
    "## parse reference genome\n",
    "def genomeparse(genome, fmt = 'fasta'):\n",
    "    seq = OrderedDict()\n",
    "    with open (genome) as f:\n",
    "        chm = ''\n",
    "        sequence = ''\n",
    "        for line in f:\n",
    "            line = line.rstrip().replace(' ', '')\n",
    "            if line.startswith('>'):\n",
    "                seq[chm] = sequence\n",
    "                sequence = ''\n",
    "                chm = re.sub('>', '', line)\n",
    "                #print (chm)\n",
    "                continue\n",
    "            sequence += line\n",
    "        seq[chm] = sequence\n",
    "        del seq['']\n",
    "    return seq    \n",
    " \n",
    "    \n",
    "## get the allele in reference    \n",
    "def get_loci(chrid, chrseq, fout):\n",
    "    with open('maf.txt', 'rt') as f:\n",
    "        for line in f:\n",
    "            line = line.rstrip()\n",
    "            lst = line.split()\n",
    "            loci = lst[0].split('-')\n",
    "            if re.search(r'chr0', loci[0]):\n",
    "                ch = re.sub(r'chr0', r'Chr', loci[0])\n",
    "            else: \n",
    "                ch = re.sub(r'c', r'C', loci[0])\n",
    "                     \n",
    "            if ch == chrid:\n",
    "                allele = chrseq[int(loci[1])-1]\n",
    "                #print (ch+'\\t'+loci[1]+'\\t'+allele+'\\n')\n",
    "                fout.write(ch+'\\t'+loci[1]+'\\t'+allele+'\\n')\n",
    "\n",
    "                \n",
    "## convert to vcf             \n",
    "def convert_to_vcf():\n",
    "    nts = ['A', 'T', 'C', 'G']\n",
    "    ref = OrderedDict()\n",
    "\n",
    "    fh = open('converted_snp.vcf', 'wt')\n",
    "    fh.write('##fileformat=VCFv4.2\\n')\n",
    "    fh.write('#CHROM\\tPOS\\tID\\tREF\\tALT\\tQUAL\\tFILTER\\tINFO\\tFORMAT\\t')\n",
    "\n",
    "    with open('nt_order.txt', 'rt') as f:\n",
    "        for line in f:\n",
    "            line = line.rstrip()\n",
    "            fh.write(line+'\\t')\n",
    "\n",
    "    fh.write('\\n')\n",
    "\n",
    "    with open('snp_reference.txt', 'rt') as f:\n",
    "        for line in f:\n",
    "            lst = line.rstrip().split()\n",
    "            loci = lst[0]+'\\t'+lst[1]\n",
    "            ref[loci] = lst[2]\n",
    "        \n",
    "    with open('maf.txt', 'rt') as f:\n",
    "        for line in f:\n",
    "            line = line.rstrip()\n",
    "            lst = line.split()\n",
    "            pos = lst[0].split('-')\n",
    "            if re.search(r'chr0', pos[0]):\n",
    "                pos[0] = re.sub(r'chr0', r'Chr', pos[0])\n",
    "            else: \n",
    "                pos[0] = re.sub(r'c', r'C', pos[0])\n",
    "        \n",
    "            loci = pos[0]+'\\t'+pos[1]\n",
    "            fh.write(pos[0]+'\\t'+pos[1]+'\\t'+'.\\t'+ref[loci]+'\\t') #CHROM POS REF\n",
    "        \n",
    "            nt = ''\n",
    "            for i in range(len(lst[1])):\n",
    "                if lst[1][i] in nts:\n",
    "                    nt = nt+lst[1][i]\n",
    "        \n",
    "            freq = collections.Counter(nt)\n",
    "            sorted_freq = sorted(freq.items(), key = operator.itemgetter(1), reverse = True)\n",
    "        \n",
    "            if sorted_freq[0][0] == ref[loci]:\n",
    "                fh.write(sorted_freq[1][0]+'\\t.\\t.\\t.\\tGT\\t') #ALT\n",
    "            else:\n",
    "                fh.write(sorted_freq[0][0]+'\\t.\\t.\\t.\\tGT\\t') #ALT\n",
    "\n",
    "            for s in lst[1]:\n",
    "                if s == ref[loci]:\n",
    "                    fh.write('0/0\\t')\n",
    "                elif s in nts and s != ref[loci]:\n",
    "                    fh.write('1/1\\t')\n",
    "                elif s == '-':\n",
    "                    fh.write('./.\\t')\n",
    "                else:\n",
    "                    fh.write('0/1\\t')\n",
    "            fh.write('\\n')\n",
    "        \n",
    "    fh.close()      \n",
    "\n",
    "#os.system('tar -czvf converted_snp.vcf.tar.gz converted_snp.vcf')\n",
    "os.system('cp converted_snp.vcf converted_snp.vcf.bkup')\n",
    "os.system('gzip converted_snp.vcf')\n",
    "                \n",
    "if __name__ == '__main__':\n",
    "    main()"
   ]
  },
  {
   "cell_type": "code",
   "execution_count": null,
   "metadata": {
    "collapsed": true
   },
   "outputs": [],
   "source": []
  },
  {
   "cell_type": "code",
   "execution_count": 56,
   "metadata": {
    "collapsed": false
   },
   "outputs": [],
   "source": [
    "### convert to vcf\n",
    "import collections\n",
    "from collections import OrderedDict\n",
    "import operator\n",
    "import os\n",
    "\n",
    "\n",
    "nts = ['A', 'T', 'C', 'G']\n",
    "ref = OrderedDict()\n",
    "\n",
    "fh = open('converted_snp.vcf', 'wt')\n",
    "fh.write('##fileformat=VCFv4.2\\n')\n",
    "fh.write('#CHROM\\tPOS\\tID\\tREF\\tALT\\tQUAL\\tFILTER\\tINFO\\tFORMAT\\t')\n",
    "\n",
    "with open('nt_order.txt', 'rt') as f:\n",
    "    for line in f:\n",
    "        line = line.rstrip()\n",
    "        fh.write(line+'\\t')\n",
    "\n",
    "fh.write('\\n')\n",
    "\n",
    "with open('snp_reference.txt', 'rt') as f:\n",
    "    for line in f:\n",
    "        lst = line.rstrip().split()\n",
    "        loci = lst[0]+'\\t'+lst[1]\n",
    "        ref[loci] = lst[2]\n",
    "        \n",
    "with open('maf.txt', 'rt') as f:\n",
    "    for line in f:\n",
    "        line = line.rstrip()\n",
    "        lst = line.split()\n",
    "        pos = lst[0].split('-')\n",
    "        if re.search(r'chr0', pos[0]):\n",
    "            pos[0] = re.sub(r'chr0', r'Chr', pos[0])\n",
    "        else: \n",
    "            pos[0] = re.sub(r'c', r'C', pos[0])\n",
    "        \n",
    "        loci = pos[0]+'\\t'+pos[1]\n",
    "        fh.write(pos[0]+'\\t'+pos[1]+'\\t'+'.\\t'+ref[loci]+'\\t') #CHROM POS REF\n",
    "        \n",
    "        nt = ''\n",
    "        for i in range(len(lst[1])):\n",
    "            if lst[1][i] in nts:\n",
    "                nt = nt+lst[1][i]\n",
    "        \n",
    "        freq = collections.Counter(nt)\n",
    "        sorted_freq = sorted(freq.items(), key = operator.itemgetter(1), reverse = True)\n",
    "        \n",
    "        if sorted_freq[0][0] == ref[loci]:\n",
    "            fh.write(sorted_freq[1][0]+'\\t.\\t.\\t.\\tGT\\t') #ALT\n",
    "        else:\n",
    "            fh.write(sorted_freq[0][0]+'\\t.\\t.\\t.\\tGT\\t') #ALT\n",
    "\n",
    "        for s in lst[1]:\n",
    "            if s == ref[loci]:\n",
    "                fh.write('0/0\\t')\n",
    "            elif s in nts and s != ref[loci]:\n",
    "                fh.write('1/1\\t')\n",
    "            elif s == '-':\n",
    "                fh.write('./.\\t')\n",
    "            else:\n",
    "                fh.write('0/1\\t')\n",
    "        fh.write('\\n')\n",
    "        \n",
    "fh.close()      \n",
    "\n",
    "#os.system('tar -czvf converted_snp.vcf.tar.gz converted_snp.vcf')\n",
    "os.system('cp converted_snp.vcf converted_snp.vcf.bkup')\n",
    "os.system('gzip converted_snp.vcf')"
   ]
  },
  {
   "cell_type": "code",
   "execution_count": 22,
   "metadata": {
    "collapsed": false
   },
   "outputs": [
    {
     "name": "stdout",
     "output_type": "stream",
     "text": [
      "[1, 3]\n"
     ]
    }
   ],
   "source": [
    "lst = [1,2]\n",
    "if lst[1] < 3:\n",
    "    lst[1] = 3\n",
    "\n",
    "print (lst)"
   ]
  },
  {
   "cell_type": "code",
   "execution_count": 27,
   "metadata": {
    "collapsed": false
   },
   "outputs": [
    {
     "name": "stdout",
     "output_type": "stream",
     "text": [
      "A\n",
      "T\n",
      "T\n",
      "C\n",
      "G\n",
      "T\n",
      "G\n"
     ]
    }
   ],
   "source": [
    "y = 'TTCGTG'\n",
    "nt = ['A', 'T', 'C', 'G']\n",
    "for i in nt:\n",
    "    if i not in y:\n",
    "        print (i)\n",
    "        \n",
    "for j in y:\n",
    "    print (j)"
   ]
  },
  {
   "cell_type": "code",
   "execution_count": 47,
   "metadata": {
    "collapsed": false
   },
   "outputs": [
    {
     "name": "stdout",
     "output_type": "stream",
     "text": [
      "Counter({'b': 3, 'a': 2, 'e': 1, 'd': 1, 'c': 1})\n",
      "b\n"
     ]
    }
   ],
   "source": [
    "import collections\n",
    "import operator\n",
    "loc = 'abcadebb'\n",
    "fre = collections.Counter(loc)\n",
    "print (fre)\n",
    "sorted_fre = sorted(fre.items(), key = operator.itemgetter(1), reverse=True)\n",
    "print (sorted_fre[0][0])"
   ]
  },
  {
   "cell_type": "code",
   "execution_count": 50,
   "metadata": {
    "collapsed": false
   },
   "outputs": [
    {
     "name": "stdout",
     "output_type": "stream",
     "text": [
      "abcd\n",
      "abcde\n",
      "abcdef\n"
     ]
    }
   ],
   "source": [
    "n = 'abc'\n",
    "for x in ['d','e','f']:\n",
    "    n = n+x\n",
    "    print (n)"
   ]
  },
  {
   "cell_type": "code",
   "execution_count": 13,
   "metadata": {
    "collapsed": false
   },
   "outputs": [
    {
     "name": "stdout",
     "output_type": "stream",
     "text": [
      "Chr2\t7\tA\n",
      "\n"
     ]
    }
   ],
   "source": [
    "#### test\n",
    "\n",
    "import re\n",
    "def get_loci(chrid, chrseq):\n",
    "    with open('test.snp', 'rt') as f:\n",
    "        for line in f:\n",
    "            line = line.rstrip()\n",
    "            lst = line.split()\n",
    "            loci = lst[0].split('-')\n",
    "            if re.search(r'chr0', loci[0]):\n",
    "                ch = re.sub(r'chr0', r'Chr', loci[0])\n",
    "            else: \n",
    "                ch = re.sub(r'c', r'C', loci[0])\n",
    "            \n",
    "            if ch == chrid:\n",
    "                allele = chrseq[int(loci[1])-1]\n",
    "                print (ch+'\\t'+loci[1]+'\\t'+allele+'\\n')\n",
    "                #fout.write(ch+'\\t'+loci[1]+'\\t'+allele+'\\n')\n",
    "                \n",
    "chrid = 'Chr2'\n",
    "chrseq = 'ATCGTGACGTGCTGCGTGGGAGCAGCT'\n",
    "get_loci(chrid, chrseq)"
   ]
  },
  {
   "cell_type": "code",
   "execution_count": 14,
   "metadata": {
    "collapsed": false
   },
   "outputs": [
    {
     "name": "stdout",
     "output_type": "stream",
     "text": [
      "0\n",
      "1\n",
      "2\n",
      "3\n",
      "4\n"
     ]
    }
   ],
   "source": [
    "for i in range(6):\n",
    "    if i < 5:\n",
    "        print(i)\n",
    "    else:\n",
    "        break"
   ]
  },
  {
   "cell_type": "code",
   "execution_count": null,
   "metadata": {
    "collapsed": true
   },
   "outputs": [],
   "source": []
  }
 ],
 "metadata": {
  "kernelspec": {
   "display_name": "Python 3",
   "language": "python",
   "name": "python3"
  },
  "language_info": {
   "codemirror_mode": {
    "name": "ipython",
    "version": 3
   },
   "file_extension": ".py",
   "mimetype": "text/x-python",
   "name": "python",
   "nbconvert_exporter": "python",
   "pygments_lexer": "ipython3",
   "version": "3.4.3"
  }
 },
 "nbformat": 4,
 "nbformat_minor": 0
}
