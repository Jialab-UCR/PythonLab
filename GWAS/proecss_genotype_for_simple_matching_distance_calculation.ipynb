{
 "cells": [
  {
   "cell_type": "code",
   "execution_count": 2,
   "metadata": {
    "collapsed": false
   },
   "outputs": [],
   "source": [
    "########## clean genotypes for simple matching distance calculation\n",
    "import os\n",
    "os.chdir('/home/ruidong/Documents/Research/Yanru/')"
   ]
  },
  {
   "cell_type": "code",
   "execution_count": 7,
   "metadata": {
    "collapsed": true
   },
   "outputs": [],
   "source": [
    "fh = open('ERR.smc.input.all.txt', 'wt')\n",
    "with open('ERR.snp.QUAL50.merged.DP8_25.miss25.recode.vcf.share.impute.gt.vcf', 'rt') as f:\n",
    "    for line in f:\n",
    "        line = line.rstrip()\n",
    "        if line.startswith('##'):\n",
    "            continue\n",
    "        elif line.startswith('#CHROM'):\n",
    "            line = line.replace('bwa_out/', '')\n",
    "            line = line.replace('.sorted.bam', '')\n",
    "            lst = line.split('\\t')\n",
    "        \n",
    "            fh.write('\\t'+'\\t'.join(lst[9:])+'\\n')\n",
    "        else:\n",
    "            line = line.replace('0|0', '3')\n",
    "            line = line.replace('2|0', '3')\n",
    "            line = line.replace('0|2', '3')\n",
    "            line = line.replace('2|1', '1')\n",
    "            line = line.replace('1|2', '1')\n",
    "            line = line.replace('1|1', '1')\n",
    "            line = line.replace('0|1', '2')\n",
    "            line = line.replace('1|0', '2')\n",
    "            \n",
    "            lst = line.split('\\t')\n",
    "            coord = lst[0]+':'+lst[1]\n",
    "            fh.write(coord+'\\t'+'\\t'.join(lst[9:])+'\\n')\n",
    "            \n",
    "fh.close()\n",
    "        "
   ]
  },
  {
   "cell_type": "code",
   "execution_count": 3,
   "metadata": {
    "collapsed": false
   },
   "outputs": [
    {
     "data": {
      "text/plain": [
       "0"
      ]
     },
     "execution_count": 3,
     "metadata": {},
     "output_type": "execute_result"
    }
   ],
   "source": [
    "with open('ERR.smc_for_njtree.txt', 'rt') as f:\n",
    "    for line in f:\n",
    "        if line.starswith"
   ]
  },
  {
   "cell_type": "code",
   "execution_count": null,
   "metadata": {
    "collapsed": true
   },
   "outputs": [],
   "source": []
  }
 ],
 "metadata": {
  "anaconda-cloud": {},
  "kernelspec": {
   "display_name": "Python [Root]",
   "language": "python",
   "name": "Python [Root]"
  },
  "language_info": {
   "codemirror_mode": {
    "name": "ipython",
    "version": 3
   },
   "file_extension": ".py",
   "mimetype": "text/x-python",
   "name": "python",
   "nbconvert_exporter": "python",
   "pygments_lexer": "ipython3",
   "version": "3.5.2"
  }
 },
 "nbformat": 4,
 "nbformat_minor": 0
}
