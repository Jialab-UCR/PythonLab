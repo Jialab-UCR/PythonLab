{
 "cells": [
  {
   "cell_type": "code",
   "execution_count": null,
   "metadata": {
    "collapsed": true
   },
   "outputs": [],
   "source": [
    "### reformat the download list\n",
    "\n",
    "out = open('raw.1495.list' 'w')\n",
    "\n",
    "with open('raw.1495.txt') as f:\n",
    "    for line in f:\n",
    "        a = line.strip().split(';')\n",
    "        out.write(a[0] + '\\n' + a[1]')  \n",
    "                  \n",
    "out.close()"
   ]
  }
 ],
 "metadata": {
  "kernelspec": {
   "display_name": "Python 3",
   "language": "python",
   "name": "python3"
  },
  "language_info": {
   "codemirror_mode": {
    "name": "ipython",
    "version": 3
   },
   "file_extension": ".py",
   "mimetype": "text/x-python",
   "name": "python",
   "nbconvert_exporter": "python",
   "pygments_lexer": "ipython3",
   "version": "3.4.3"
  }
 },
 "nbformat": 4,
 "nbformat_minor": 0
}
