{
 "cells": [
  {
   "cell_type": "markdown",
   "metadata": {},
   "source": [
    "### download data\n",
    "\n",
    "* sed -n '201,300p' raw.1495.list > raw.1495.201_300.list\n",
    "* wget -i raw.1495.201_300.list\n",
    "\n",
    "### bwa\n",
    "\n",
    "\n",
    "bwa mem -t 8 -v 1 -M ../nipponbare7.fa ../raw_seq/ERR477443_1.fastq ../raw_seq/ERR477443_2.fastq | samtools view -b - -o ERR477443.bam    ### | samtools1.3 fixmate -O bam - ERR477443.fixmate.bam\n",
    "\n",
    "samtools1.3 fixmate -O bam ERR477443.bam ERR477443.fixmate.bam\n",
    "\n",
    "samtools sort -@ 8 ERR477443.bam ERR477443.sorted && echo && rm ERR477443.bam\n",
    "\n",
    "samtools1.3 sort -@ 8 -T ERRtmp -O bam -o ERR477443.sorted\n",
    "\n",
    "\n",
    "### smatools fixmate\n",
    "### samtools sort\n",
    "### samtools index\n",
    "\n",
    "### samtools merge\n",
    "\n",
    "### samtools mpileup\n",
    "### bcftools call\n",
    "\n",
    "### bcftools filter\n",
    "\n",
    "\n",
    "\n",
    "\n",
    "\n",
    "\n",
    "\n",
    "samtools index nipponbare7.fa\n",
    "\n",
    "samtools mpileup -f nipponbare7.fa -q 40 -Q 10 -v -u -o E3.bcf ERR477443.sorted.bam\n",
    "\n",
    "samtools mpileup -f nipponbare7.fa -q 40 -Q 10 -vo E3.bcf ERR477443.sorted.bam # go doesn't work\n",
    "\n",
    "samtools mpileup -f nipponbare7.fa -q 40 -Q 10 -go E3.bcf -b list\n",
    "\n",
    "samtools mpileup -f nipponbare7.fa -q 40 -Q 10 -g ERR477443.sorted.bam\n",
    "\n",
    "-b list -gu \n",
    "-b list -vu\n",
    "-s, --output-MQ         output mapping quality\n",
    "\n",
    "\n",
    "   <1> samtools mpileup -f nipponbare7.fa -q 40 -Q 10 -gu -o E3.bcf ERR477443.sorted.bam # very big file\n",
    "<2> samtools mpileup -f nipponbare7.fa -q 40 -Q 10 -go E3.bcf ERR477443.sorted.bam # bcf version 1.3 works \n",
    "<3> samtools mpileup -f nipponbare7.fa -q 40 -Q 10 -vo E3.bcf ERR477443.sorted.bam # \n",
    "<4> samtools mpileup -f nipponbare7.fa -q 40 -Q 10 -vu -o E3.bcf ERR477443.sorted.bam # big file\n",
    "\n",
    "<5> samtools mpileup -f nipponbare7.fa -q 40 -Q 10 -v ERR477443.sorted.bam | bcftools call -vmO z -o E.vcf.gz\n",
    "<6> samtools mpileup -f nipponbare7.fa -q 40 -Q 10 -g ERR477443.sorted.bam | bcftools call -vmO z -o E.vcf.gz\n",
    "\n",
    "*** /usr/biobin/samtools-1.3/samtools mpileup -guf nipponbare7.fa -q 40 -Q 10 ERR477442.sorted.bam ERR477443.sorted.bam | /usr/biobin/bcftools-1.3/bcftools call -vmO z -o E.vcf.gz\n",
    "* -V indels/snps: skip indels/snps\n",
    "\n",
    "samtools1.3 tview -p 2:1008 -d T ERR477443.sorted.bam ../nipponbare7.fa\n",
    "\n",
    "-gu z  # 26mins\n",
    "-g b  # 37mins\n",
    "-v z  # 55mins\n",
    "-g z 2 steps # 36min\n",
    "\n",
    "-gu b # 27mins\n",
    "-vu z # 46mins\n",
    "\n",
    "\n",
    "\n",
    "bcftools call\n",
    "b compressed bcf; u uncompressed bcf; z compressed vcf; v uncompressed vcf\n",
    "\n",
    "samtools mpileup -g -f <ref.fa> -b list | bcftools call -vmO z -o <study.vcf.gz>\n",
    "\n",
    "    -Q (base quality) default 13, -q (mapping quality) 0\n",
    "    \n",
    "    another quality\n",
    "    \n",
    "    "
   ]
  },
  {
   "cell_type": "code",
   "execution_count": 4,
   "metadata": {
    "collapsed": false
   },
   "outputs": [
    {
     "data": {
      "text/plain": [
       "0"
      ]
     },
     "execution_count": 4,
     "metadata": {},
     "output_type": "execute_result"
    }
   ],
   "source": [
    "import os\n",
    "os.system('ls -l ')"
   ]
  },
  {
   "cell_type": "code",
   "execution_count": 8,
   "metadata": {
    "collapsed": false
   },
   "outputs": [
    {
     "data": {
      "text/plain": [
       "<subprocess.Popen at 0x104d8ba90>"
      ]
     },
     "execution_count": 8,
     "metadata": {},
     "output_type": "execute_result"
    }
   ],
   "source": [
    "import subprocess\n",
    "subprocess.Popen('ls -l'.split())"
   ]
  },
  {
   "cell_type": "code",
   "execution_count": 7,
   "metadata": {
    "collapsed": false
   },
   "outputs": [
    {
     "name": "stdout",
     "output_type": "stream",
     "text": [
      "/Users/DONG/Documents\n"
     ]
    },
    {
     "data": {
      "text/plain": [
       "0"
      ]
     },
     "execution_count": 7,
     "metadata": {},
     "output_type": "execute_result"
    }
   ],
   "source": [
    "%pwd\n",
    "%cd ..\n",
    "\n",
    "import os\n",
    "os.system('ls -l ')"
   ]
  },
  {
   "cell_type": "code",
   "execution_count": null,
   "metadata": {
    "collapsed": false
   },
   "outputs": [],
   "source": []
  },
  {
   "cell_type": "code",
   "execution_count": 20,
   "metadata": {
    "collapsed": false
   },
   "outputs": [
    {
     "name": "stdout",
     "output_type": "stream",
     "text": [
      "ERR477442 ERR477442_1.fastq ERR477442_2.fastq\n",
      "ERR477443 ERR477443_1.fastq ERR477443_2.fastq\n",
      "ERR477444 ERR477444_1.fastq ERR477444_2.fastq\n",
      "ERR477445 ERR477445_1.fastq ERR477445_2.fastq\n",
      "ERR477446 ERR477446_1.fastq ERR477446_2.fastq\n"
     ]
    }
   ],
   "source": [
    "start = 477442\n",
    "\n",
    "for i in range(5):\n",
    "    num = start + i\n",
    "    sample = 'ERR' + str(num)\n",
    "    seq1 = sample + '_1.fastq'\n",
    "    seq2 = sample + '_2.fastq'\n",
    "    print (sample, seq1, seq2)"
   ]
  },
  {
   "cell_type": "code",
   "execution_count": 23,
   "metadata": {
    "collapsed": false
   },
   "outputs": [
    {
     "data": {
      "text/plain": [
       "'data/x'"
      ]
     },
     "execution_count": 23,
     "metadata": {},
     "output_type": "execute_result"
    }
   ],
   "source": [
    "seq1 = 'x'\n",
    "seq2 = 'y'\n",
    "seq1+ ' '+seq2\n",
    "\n",
    "rawdir = 'data/'\n",
    "rawdir+seq1"
   ]
  },
  {
   "cell_type": "code",
   "execution_count": 30,
   "metadata": {
    "collapsed": false
   },
   "outputs": [
    {
     "data": {
      "text/plain": [
       "'Mon Feb  8 22:57:38 2016'"
      ]
     },
     "execution_count": 30,
     "metadata": {},
     "output_type": "execute_result"
    }
   ],
   "source": [
    "import time\n",
    "localtime = time.asctime(time.localtime(time.time()))\n",
    "localtime"
   ]
  },
  {
   "cell_type": "code",
   "execution_count": 32,
   "metadata": {
    "collapsed": false
   },
   "outputs": [
    {
     "name": "stdout",
     "output_type": "stream",
     "text": [
      "*\n"
     ]
    }
   ],
   "source": [
    "print ('*')"
   ]
  },
  {
   "cell_type": "code",
   "execution_count": null,
   "metadata": {
    "collapsed": true
   },
   "outputs": [],
   "source": [
    "http://www.binarytides.com/linux-mail-command-examples/\n",
    "    \n",
    "apt-get install mailutils\n",
    "\n",
    "echo \"alignment completed.\" | mail -s \"alignment completed\" rli012@ucr.edu\n",
    "\n",
    "mail -s “Hello world” you@youremailid.com\n",
    "\n",
    "mail -s “Hello world” you@youremailid.com < /home/calvin/application.log\n",
    "\n",
    "echo “Welcome to the world of Calvin n Hobbes” | mail -s “Hello world” calvin@cnh.com -c hobbes@cnh.com -b susie.derkins@cnh.com\n",
    "\n",
    "$ mail -s \"This is the subject\" somebody@example.com <<< 'This is the message'\n",
    "\n",
    "echo \"This is the body\" | mail -s \"Subject\" -aFrom:Harry\\<harry@gmail.com\\> someone@example.com\n",
    "\n",
    "$ mail -s \"Hello World\" user@yourmaildomain.com < /home/user/mailcontent.txt\n",
    "\n",
    "$ echo \"This is the message body\" | mail -s \"This is the subject\" mail@example.com"
   ]
  },
  {
   "cell_type": "code",
   "execution_count": null,
   "metadata": {
    "collapsed": true
   },
   "outputs": [],
   "source": []
  },
  {
   "cell_type": "code",
   "execution_count": null,
   "metadata": {
    "collapsed": true
   },
   "outputs": [],
   "source": [
    "bcftools1.3 filter -e'QUAL<=50' -O z -o ERR.nohup.snp.QUAL50.1.vcf.gz ERR.nohup.snp.vcf.1.gz\n",
    "\n",
    "bcftools1.3 filter -e'QUAL<=50' -O z -o ERR.nohup.snp.QUAL50.2.vcf.gz ERR.nohup.snp.vcf.2.gz\n",
    "\n",
    "\n",
    "tabix -p vcf ERR.nohup.snp.QUAL50.1.vcf.gz\n",
    "tabix -p vcf ERR.nohup.snp.QUAL50.2.vcf.gz\n",
    "\n",
    "bcftools1.3 merge -m snps -O z -o ERR.snp.QUAL50.merged.vcf.gz ERR.nohup.snp.QUAL50.1.vcf.gz ERR.nohup.snp.QUAL50.2.vcf.gz\n",
    "\n",
    "vcftools --gzvcf ERR.snp.QUAL50.merged.vcf.gz --recode --recode-INFO-all --out ERR.snp.QUAL50.merged --maf 0.002 --max-missing 0.5\n",
    "\n",
    "bcftools1.3 filter -i'DP>1200 && DP<3750' -O v -o ERR.final.snp.filter.vcf ERR.snp.QUAL50.merged.recode.vcf\n"
   ]
  },
  {
   "cell_type": "code",
   "execution_count": null,
   "metadata": {
    "collapsed": true
   },
   "outputs": [],
   "source": []
  },
  {
   "cell_type": "code",
   "execution_count": null,
   "metadata": {
    "collapsed": true
   },
   "outputs": [],
   "source": []
  }
 ],
 "metadata": {
  "kernelspec": {
   "display_name": "Python 3",
   "language": "python",
   "name": "python3"
  },
  "language_info": {
   "codemirror_mode": {
    "name": "ipython",
    "version": 3
   },
   "file_extension": ".py",
   "mimetype": "text/x-python",
   "name": "python",
   "nbconvert_exporter": "python",
   "pygments_lexer": "ipython3",
   "version": "3.4.3"
  }
 },
 "nbformat": 4,
 "nbformat_minor": 0
}
