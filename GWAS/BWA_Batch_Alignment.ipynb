{
 "cells": [
  {
   "cell_type": "code",
   "execution_count": null,
   "metadata": {
    "collapsed": true
   },
   "outputs": [],
   "source": [
    "### BWA Batch Alignment ###\n",
    "\n",
    "import os\n",
    "from os import system\n",
    "\n",
    "rawSeqFolder = 'raw_seq/' ## assume your raw data are stored in 'raw_seq' folder\n",
    "bwaOutFolder = 'bwa_out/' ## assume the output would be in the 'bwa_out' folder\n",
    "\n",
    "# change to your working directory which is one layer upper on rawSeqFolder and bwaOutFolder\n",
    "os.chdir('~your working directory') \n",
    "\n",
    "seqFiles = os.listdir(rawSeqFolder)\n",
    "seqPairs = {}\n",
    "\n",
    "for fl in seqFiles:\n",
    "    if not fl.endswith('.gz'):\n",
    "        continue\n",
    "    fileName = fl[:-11]\n",
    "    if fileName not in seqPairs.keys():\n",
    "        seq1 = rawSeqFolder+fileName+'_R1.fastq.gz'\n",
    "        seq2 = rawSeqFolder+fileName+'_R2.fastq.gz'\n",
    "        seqPairs[fileName] = seq1+' '+seq2\n",
    "        \n",
    "for pairName,seqData in seqPairs.items():\n",
    "    bwaBam = bwaOutFolder+pairName+'.bam'\n",
    "    sortedBam = bwaOutFolder+pairName+'.sorted.bam'\n",
    "    os.system('bwa mem -t 8 -v 1 -M nipponbare7.fa '+seqData+'|samtools1.3 fixmate -O bam - '+bwaBam)\n",
    "    os.system('samtools1.3 sort -@ 8 -T aligntmp -O bam -o '+sortedBam+' '+bwaBam) "
   ]
  }
 ],
 "metadata": {
  "anaconda-cloud": {},
  "kernelspec": {
   "display_name": "Python [Root]",
   "language": "python",
   "name": "Python [Root]"
  },
  "language_info": {
   "codemirror_mode": {
    "name": "ipython",
    "version": 3
   },
   "file_extension": ".py",
   "mimetype": "text/x-python",
   "name": "python",
   "nbconvert_exporter": "python",
   "pygments_lexer": "ipython3",
   "version": "3.5.2"
  }
 },
 "nbformat": 4,
 "nbformat_minor": 0
}
