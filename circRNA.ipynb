{
 "cells": [
  {
   "cell_type": "code",
   "execution_count": 11,
   "metadata": {
    "collapsed": false
   },
   "outputs": [],
   "source": [
    "import os\n",
    "from collections import OrderedDict\n",
    "os.chdir('/home/ruidong/Documents/Research/share/circRNA/')\n",
    "\n",
    "\n",
    "probe = []\n",
    "\n",
    "fh = open('expr.deg.txt', 'wt')\n",
    "\n",
    "with open('allReg.txt') as f:\n",
    "    for line in f:\n",
    "        line = line.rstrip()\n",
    "        lst = line.split('\\t')\n",
    "        if lst[0] == 'probeID':\n",
    "            continue\n",
    "        elif lst[0] not in probe:\n",
    "            probe.append(lst[0])\n",
    "            \n",
    "            \n",
    "with open('expr.profile.txt') as f:\n",
    "    for line in f:\n",
    "        line = line.rstrip()\n",
    "        lst = line.split('\\t')\n",
    "        if lst[0] == 'probeID':\n",
    "            fh.write('\\t'+'\\t'.join(['AGPS','shagps','control','GeneSymbol'])+'\\n')\n",
    "        elif lst[0] in probe:\n",
    "            if lst[-2] == '':\n",
    "                lst[-2] = 'NA'\n",
    "            \n",
    "            fh.write('\\t'.join([lst[i] for i in [0,4,5,6,-2]])+'\\n')\n",
    "            \n",
    "fh.close()"
   ]
  },
  {
   "cell_type": "code",
   "execution_count": 15,
   "metadata": {
    "collapsed": false
   },
   "outputs": [],
   "source": [
    "fh = open('DEGshagps2conDown.txt', 'wt')\n",
    "\n",
    "fh.write('\\tSig\\n')\n",
    "DEGshagps2conDown = OrderedDict()\n",
    "\n",
    "gene=[]\n",
    "\n",
    "with open('allReg.txt') as f:\n",
    "    for line in f:\n",
    "        line = line.rstrip()\n",
    "        lst = line.split('\\t')\n",
    "        if lst[0] == 'probeID':\n",
    "            continue\n",
    "        elif lst[1]=='shagps2con' and lst[2]=='down':\n",
    "            DEGshagps2conDown[lst[0]] = 'YES'\n",
    "            \n",
    "            \n",
    "with open('expr.profile.txt') as f:\n",
    "    for line in f:\n",
    "        line = line.rstrip()\n",
    "        lst = line.split('\\t')\n",
    "        if lst[0] == 'probeID':\n",
    "            continue\n",
    "        if lst[-2] == '':\n",
    "            continue\n",
    "        elif lst[0] in DEGshagps2conDown.keys():\n",
    "            if lst[-2] not in gene:\n",
    "                gene.append(lst[-2])\n",
    "                fh.write(lst[-2]+'\\tYES\\n')\n",
    "        else:\n",
    "            if lst[-2] not in gene:\n",
    "                gene.append(lst[-2])\n",
    "                fh.write(lst[-2]+'\\tNO\\n')\n",
    "\n",
    "fh.close()"
   ]
  },
  {
   "cell_type": "code",
   "execution_count": 19,
   "metadata": {
    "collapsed": false
   },
   "outputs": [],
   "source": [
    "\n",
    "fh = open('expr.profile.only.txt', 'wt')\n",
    "with open('expr.profile.txt') as f:\n",
    "    for line in f:\n",
    "        line = line.rstrip()\n",
    "        lst = line.split('\\t')\n",
    "        if lst[0] == 'probeID':\n",
    "            fh.write('\\tAGPS\\tshagps\\tcontrol\\n')\n",
    "        else:\n",
    "            fh.write(lst[0]+'\\t'+'\\t'.join(lst[4:7])+'\\n')\n",
    "\n",
    "fh.close()"
   ]
  },
  {
   "cell_type": "code",
   "execution_count": 25,
   "metadata": {
    "collapsed": false
   },
   "outputs": [],
   "source": [
    "AGPS2con = []\n",
    "\n",
    "with open('allReg.txt') as f:\n",
    "    for line in f:\n",
    "        line = line.rstrip()\n",
    "        lst = line.split('\\t')\n",
    "        if lst[0] == 'probeID':\n",
    "            continue\n",
    "        elif lst[1]=='AGPS2shagps':\n",
    "            AGPS2con.append(lst[0])\n",
    "            \n",
    "fh = open('expr.deg.AGPS2shagps.txt', 'wt')\n",
    "fh.write('\\tAGPS\\tshagps\\n')\n",
    "with open('expr.profile.only.txt') as f:\n",
    "    for line in f:\n",
    "        line = line.rstrip()\n",
    "        lst = line.split('\\t')\n",
    "        \n",
    "        if lst[0] in AGPS2con:\n",
    "            fh.write('\\t'.join([lst[i] for i in [0,1,2]])+'\\n')\n",
    "    \n",
    "    \n",
    "fh.close()\n"
   ]
  },
  {
   "cell_type": "code",
   "execution_count": null,
   "metadata": {
    "collapsed": true
   },
   "outputs": [],
   "source": []
  },
  {
   "cell_type": "code",
   "execution_count": null,
   "metadata": {
    "collapsed": true
   },
   "outputs": [],
   "source": [
    "with open('expr.profile.txt') as f:\n",
    "    for line in f:\n",
    "        line = line.rstrip()\n",
    "        lst = line.split('\\t')\n",
    "        if lst[0] == 'probeID':\n",
    "            continue\n",
    "        if lst[-2] == '':\n",
    "            continue\n",
    "        elif lst[-2] not in gene:\n",
    "            gene.append(lst[-2])\n",
    "            fh.write(lst[-2]+'\\tYES\\n')\n",
    "        else:\n",
    "            if lst[-2] not in gene:\n",
    "                gene.append(lst[-2])\n",
    "                fh.write(lst[-2]+'\\tNO\\n')\n",
    "\n",
    "fh.close()"
   ]
  },
  {
   "cell_type": "code",
   "execution_count": null,
   "metadata": {
    "collapsed": true
   },
   "outputs": [],
   "source": []
  }
 ],
 "metadata": {
  "kernelspec": {
   "display_name": "Python [Root]",
   "language": "python",
   "name": "Python [Root]"
  },
  "language_info": {
   "codemirror_mode": {
    "name": "ipython",
    "version": 3
   },
   "file_extension": ".py",
   "mimetype": "text/x-python",
   "name": "python",
   "nbconvert_exporter": "python",
   "pygments_lexer": "ipython3",
   "version": "3.5.2"
  }
 },
 "nbformat": 4,
 "nbformat_minor": 0
}
