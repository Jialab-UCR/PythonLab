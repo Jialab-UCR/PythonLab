{
 "cells": [
  {
   "cell_type": "code",
   "execution_count": null,
   "metadata": {},
   "outputs": [],
   "source": [
    "import re\n",
    "import os\n",
    "import string\n",
    "import operator\n",
    "from collections import OrderedDict, defaultdict\n",
    "from fnmatch import fnmatch\n",
    "\n",
    "sortsize = 100000000\n",
    "min_size = 17\n",
    "char = [i for i in range(10)] + [j for j in string.ascii_lowercase]\n",
    "bar8 = get_default_barcode() # eg, bar['TGCGTGAT']=168\n",
    "\n",
    "def main():\n",
    "    sample = input('Fastq sample name:\\n') # eg, RL032816\n",
    "    barcode = input(\"Barcodes separated by comma (or 'barcode_file'):\")\n",
    "    \n",
    "    if barcode != 'barcode_file':\n",
    "        barcodes = re.split('\\D+', barcode.strip())\n",
    "        samples = input_sam(barcodes) # eg, samples['168'] = wt\n",
    "    else:\n",
    "        barcodes, samples = input_file()\n",
    "    \n",
    "    zp = input('Is the file zipped (compressed)? - yes or no\\n')\n",
    "    zp = zp.strip()\n",
    "    \n",
    "    #unzip if necessary\n",
    "    if re.search(r'yes', zp, re.IGNORECASE):\n",
    "        unzip_fastq(sample)\n",
    "        \n",
    "    # get the largest number of the files\n",
    "    fnum =get_file_no(sample)\n",
    "    \n",
    "    # remove 3' linker\n",
    "    for i in range(1,fum+1):\n",
    "        trim53(sample, i)\n",
    "    bar8.clear()\n",
    "    \n",
    "    #os.system('rm -r fastq/'+sample)\n",
    "    \n",
    "    # make uni file and zip fastq\n",
    "    for bc in samples.keys():\n",
    "        sam = samples[bc]\n",
    "        \n",
    "        if os.path.getsize(sam) > sortsize: # returns size in bytes\n",
    "            sort_uni(sam)\n",
    "        else:\n",
    "            uni(sam)\n",
    "    \n",
    "    # zip individual fastq after barcoding\n",
    "    zip_file(samples)\n",
    "        \n",
    "        \n",
    "def trim53(sam, fn):\n",
    "    s = samples\n",
    "    \n",
    "    # get read size\n",
    "    with open('fastaq/'+sam+'/'+sam+'_pair1_'+str(fn)+'.fastq') as f:\n",
    "        line_num = 0\n",
    "        size = 0\n",
    "        for line in f:\n",
    "            line = line.rstrip()\n",
    "            line_num += 1\n",
    "            if (line_num == 2):\n",
    "                size = len(line)\n",
    "                print ('read size '+ str(size) + '\\n')\n",
    "                break\n",
    "    \n",
    "    # get the index\n",
    "    with open('fastaq/'+sam+'/'+sam+'_pair2_'+str(fn)+'.fastq') as f:\n",
    "        idx = collections.OrderedDict()\n",
    "        line_num = 0\n",
    "        for line in f:\n",
    "            line_num += 1\n",
    "            if line_num % 4 == 2:\n",
    "                line = line.rstrip()\n",
    "                idx[line_num] = line\n",
    "                \n",
    "                \n",
    "    # remove 3' linker\n",
    "    buf = []\n",
    "    count = 61000000\n",
    "    with open('fastaq/'+sam+'/'+sam+'_pair1_'+str(fn)+'.fastq') as f:\n",
    "        line_num = 0\n",
    "        for line in f:\n",
    "            line_num += 1\n",
    "            mod = line_num % 4\n",
    "            line = line.rstrip()\n",
    "            if mod == 2:\n",
    "                buf.append(idx[line_num])\n",
    "                buf.append(line)\n",
    "            elif mod == 0:\n",
    "                buf.append(line)\n",
    "            \n",
    "            if (line_num % 4000000 == 0):\n",
    "                ano = len(buf) - 1\n",
    "                rse = OrderedDict(defaultdict(list))\n",
    "                rfq = OrderedDict(defaultdict(list))\n",
    "                for i in range(0,ano,3):\n",
    "                    bc = buf[i] # barcode\n",
    "                    se = buf[i+1] # read sequence\n",
    "                    qua = buf[i+2] # read quality\n",
    "                    #bar = '?*&%#@!~'\n",
    "                    if bc in bar8.keys():\n",
    "                        bar = bar8[bc] # 168, 169\n",
    "\n",
    "                        rfq[bar].append(se+'\\n+\\n'+qua+'\\n')\n",
    "                        \n",
    "                        # trim 3' end\n",
    "                        if size == 36:\n",
    "                            if (re.search(r'^(.*)AGATCG', se)):\n",
    "                                mch = re.search(r'^(.*)AGATCG', se)\n",
    "                                se = mch.group[1]\n",
    "                            else:\n",
    "                                se = re.sub(r'AGATC|AGAT|AGA|AG$', r'', se)\n",
    "                                \n",
    "                        elif size == 50:\n",
    "                            if (re.search(r'^(.*)AGATCGGAA', se)):\n",
    "                                mch = re.search(r'^(.*)AGATCGGAA', se)\n",
    "                                se = mch.group[1]\n",
    "                            else:\n",
    "                                se = re.sub(r'AGATCGGA|AGATCGG|AGATCG|AGATC|AGAT|AGA|AG$', r'', se)\n",
    "                        if len(se) >= min_size and re.search(r'\\.|N', se) == False:\n",
    "                            rse[bar].append(se)\n",
    "                for bar in rse.keys():\n",
    "                    if bar not in s.keys(): # what is s?\n",
    "                        continue\n",
    "                    sss = s[bar]\n",
    "                    fh = open ('fastq/'+sss+'/'+sss+'_'+min_size+',txt', 'at')\n",
    "                    for se in rse[bar]:\n",
    "                        fh.write(se+'\\n')\n",
    "                    fh.close()\n",
    "        \n",
    "                for bar in rfq.keys():\n",
    "                    if bar not in s.keys(): # what is s?\n",
    "                        continue\n",
    "                    sss = s[bar]\n",
    "                    fh = open ('fastq/'+sss+'/'+sss+'_raw.fastq', 'at')\n",
    "                    for fq in rfq[bar]:\n",
    "                        count += 1\n",
    "                        seqid = convert_to_36(count)\n",
    "                        fh.write('@'+id+'\\n'+fq)\n",
    "                    fh.close()\n",
    "        \n",
    "                buf.clear()\n",
    "                rfq.clear()\n",
    "                rse.clear()\n",
    "\n",
    "        \n",
    "    ### the last < 4000000 reads\n",
    "    ano = len(buf) - 1\n",
    "    rse = OrderedDict(defaultdict(list))\n",
    "    rfq = OrderedDict(defaultdict(list))\n",
    "    for i in range(0,ano,3):\n",
    "        bc = buf[i] # barcode\n",
    "        se = buf[i+1] # read sequence\n",
    "        qua = buf[i+2] # read quality\n",
    "        bar = '?*&%#@!~'\n",
    "        if bc in b.keys():\n",
    "            bar = b[bc] # 168, 169??\n",
    "                        \n",
    "            rfq[bar].append(se+'\\n+\\n'+qua+'\\n')\n",
    "                        \n",
    "            # trim 3' end\n",
    "            #yes = 1\n",
    "            if size == 36:\n",
    "                if (re.search(r'^(.*)AGATCG', se)):\n",
    "                    mch = re.search(r'^(.*)AGATCG', se)\n",
    "                    se = mch.group[1]\n",
    "                else:\n",
    "                    se = re.sub(r'AGATC|AGAT|AGA|AG$', r'', se)\n",
    "                                \n",
    "            elif size == 50:\n",
    "                if (re.search(r'^(.*)AGATCGGAA', se)):\n",
    "                    mch = re.search(r'^(.*)AGATCGGAA', se)\n",
    "                    se = mch.group[1]\n",
    "                else:\n",
    "                    se = re.sub(r'AGATCGGA|AGATCGG|AGATCG|AGATC|AGAT|AGA|AG$', r'', se)\n",
    "            if len(se) >= min_size and re.search(r'\\.|N', se) == False:\n",
    "                rse[bar].append(se)\n",
    "    for bar in rse.keys():\n",
    "        if bar not in s.keys(): # what is s?\n",
    "            continue\n",
    "        sss = s[bar]\n",
    "        fh = open ('fastq/'+sss+'/'+sss+'_'+min_size+',txt', 'at')\n",
    "        for se in rse[bar]:\n",
    "            fh.write(se+'\\n')\n",
    "        fh.close()\n",
    "        \n",
    "    for bar in rfq.keys():\n",
    "        if bar not in s.keys(): # what is s?\n",
    "            continue\n",
    "        sss = s[bar]\n",
    "        fh = open ('fastq/'+sss+'/'+sss+'_raw.fastq', 'at')\n",
    "        for fq in rfq[bar]:\n",
    "            count += 1\n",
    "            seqid = convert_to_36(count)\n",
    "            fh.write('@'+id+'\\n'+fq)\n",
    "        fh.close()\n",
    "        \n",
    "    buf.clear()\n",
    "    rfq.clear()\n",
    "    rse.clear()\n",
    "    s.clear()\n",
    "\n",
    "def uni(sam):\n",
    "    #sample = sam.pop(0)\n",
    "    i = 61000000\n",
    "    u = OrderedDict()\n",
    "    with open('fastq/'+sam+'/'+sam+'_'+min_size+'.txt') as f:\n",
    "        for line in f:\n",
    "            u[line] += 1\n",
    "    os.remove('fastq/'+sam+'/'+sam+'_'+min_size+'.txt')\n",
    "    \n",
    "    fh = open('fastq/'+sam+'/'+sam+'_'+min_size+'_uni.txt', 'wt')\n",
    "    \n",
    "    for k, v in sorted(u.items(), key = operator.itemgetter(1)):\n",
    "        i += 1\n",
    "        seqid = convert_to_36(i)\n",
    "        fh.write('>'+seqid+'_x'+v+'\\n'+k)\n",
    "        \n",
    "    fh.close()\n",
    "    \n",
    "    u.clear()\n",
    "    \n",
    "    \n",
    "def sort_uni(sam):\n",
    "    se = '@#$%^&*'\n",
    "    re = 0\n",
    "    bs = 61000000\n",
    "    os.system('sort -k1,1 fastaq/'+sam+'/'+sam+'_'+min_size+'.txt > fastaq/'+sam+'/'+sam+'_'+min_size+'.sorted')\n",
    "    \n",
    "    fh = open ('fastaq/'+sam+'/'+sam+'_'+min_size+'_uni.tmp')\n",
    "    with open ('fastaq/'+sam+'/'+sam+'_'+min_size+'.sorted') as f:\n",
    "        for line in f:\n",
    "            if (line == se):\n",
    "                re += 1\n",
    "            else:\n",
    "                if (se != '@#$%^&*'):\n",
    "                    fh.write(re+'\\t'+se)\n",
    "                se = line\n",
    "                re = 1\n",
    "        if (se != '@#$%^&*'):\n",
    "            fh.write(re+'\\t'+se)\n",
    "    fh.close()\n",
    "    \n",
    "    os.remove('fastaq/'+sam+'/'+sam+'_'+min_size+'.sorted')\n",
    "    os.remove('fastaq/'+sam+'/'+sam+'_'+min_size+'.txt')\n",
    "    \n",
    "    os.system('sort -k1,1 -r -n fastaq/'+sam+'/'+sam+'_'+min_size+'_uni.tmp > fastaq/'+sam+'/'+sam+'_'+min_size+'_uni.sorted')\n",
    "    \n",
    "    fh = open ('fastaq/'+sam+'/'+sam+'_'+min_size+'_uni.txt')\n",
    "    with open ('fastaq/'+sam+'/'+sam+'_'+min_size+'_uni.sorted') as f:\n",
    "        for line in f:\n",
    "            bs += 1\n",
    "            re, se = split()\n",
    "            seqid = convert_to_36(bs)\n",
    "            fh.write('>'+seqid+'_x'+re+'\\n'+se)\n",
    "    \n",
    "    os.remove('fastaq/'+sam+'/'+sam+'_'+min_size+'_uni.tmp')\n",
    "    os.remove('fastaq/'+sam+'/'+sam+'_'+min_size+'_uni.sorted')\n",
    "    \n",
    "    \n",
    "    \n",
    "### default barcodes\n",
    "def get_default_barcode():\n",
    "    b['TGCGTGAT']=168; b['AGACATCG']=169; b['ACGCCTAA']=170;\n",
    "    b['GGTGGTCA']=171; b['CGCACTGT']=172; b['AAATTGGC']=173;\n",
    "    b['CCGATCTG']=174; b['CATCAAGT']=175; b['AACTGATC']=176;\n",
    "    b['AAAAGCTA']=177; b['CCGTAGCC']=178; b['ATTACAAG']=179;\n",
    "    b['ACTTGACT']=180; b['GTGGAACT']=181; b['TGGGACGG']=182;\n",
    "    b['TGCTCTAC']=183; b['GAGCGGAC']=184; b['AGTTTCAC']=185;\n",
    "    b['CCGGCCAC']=186; b['GGCGAAAC']=187; b['TACGTACG']=188;  \n",
    "    b['CGCCACTC']=189; b['TAGCTACC']=190; b['TCGCTCAT']=191;\n",
    "    b['GCCTTTTG']=192; b['GGTAGTTG']=193; b['ATCCGGTG']=194;\n",
    "    b['TATGAGTG']=195; b['CGAAAATG']=196; b['GCTGTTGG']=197;\n",
    "    b['GAATTCCG']=290; b['GAGTATAG']=291; b['CCTCTGAG']=292;\n",
    "    b['TCGTCGTC']=293; b['TACGATTA']=294; b['TAGCTGTA']=295;\n",
    "    b['CTATTATA']=383; b['CAGAATGA']=384; b['GTTCGGGA']=385;\n",
    "    b['GGCTTCGA']=386; b['CATGCCGA']=387; b['GGCCGAAG']=388;\n",
    "    b['TGTAACAA']=389; b['ATTGGATT']=390; b['TTAAAGGA']=391;\n",
    "    b['GATTGTAC']=392; b['GAGTCAGG']=393; b['GTGTGCTA']=394;\n",
    "    \n",
    "    return b\n",
    "    \n",
    "    \n",
    "### get the barcodes and sample names, copy the script into folders\n",
    "# make directories, save [(barcode,sample)] into smp, and/or barcodes into bc\n",
    "def input_sam(barcodes):\n",
    "    #script = __file__\n",
    "    smp = collections.OrderedDict()\n",
    "    print ('\\nTo skip a sample, type Enter.\\n')\n",
    "    for barcode in barcodes:\n",
    "        sa = input('Barcode', barcode, 'sample name:')\n",
    "        sa = sa.rstrip()\n",
    "        if not re.search(r'\\w', sa):\n",
    "            print ('Barcode', barcode, 'skipped\\n')\n",
    "            next\n",
    "        smp[barcode] = sa\n",
    "        \n",
    "        if os.path.isdir('fastq/'+sa):\n",
    "            print (sa+'exists.\\n')\n",
    "            rmd = input('Delete, yes or no:')\n",
    "            rmd = rmd.rstrip()\n",
    "            if re.search(r'yes', rmd, re.IGNORECASE):\n",
    "                os.system('rm -r fastq/'+sa)\n",
    "            else:\n",
    "                exit()\n",
    "        os.makedirs('fastq/'+sa)\n",
    "        #os.system('cp '+ script + ' fastq/'+sa)\n",
    "    \n",
    "    return smp\n",
    "  \n",
    "# barcode file    \n",
    "def input_file():\n",
    "    #script = __file__\n",
    "    bc = []\n",
    "    smp = collections.OrderedDict()\n",
    "    fl = input('Barcode file name:')\n",
    "    fl = fl.rstrip()\n",
    "    with open (fl) as f:\n",
    "        for line in f:\n",
    "            line = line.rstrip()\n",
    "            b, n = line.split()\n",
    "            bc.append(b)\n",
    "            smp[b] = n\n",
    "            \n",
    "        if os.path.isdir('fastq/'+n):\n",
    "            print (sa+'exists.\\n')\n",
    "            rmd = input('Delete, yes or no:')\n",
    "            rmd = rmd.rstrip()\n",
    "            if re.search(r'yes', rmd, re.IGNORECASE):\n",
    "                os.system('rm -r fastq/'+n)\n",
    "            else:\n",
    "                exit()\n",
    "        os.makedirs('fastq/'+n)\n",
    "        #os.system('cp '+ script + ' fastq/'+n)\n",
    "            \n",
    "        return bc, smp\n",
    "            \n",
    "### get the largest spliting number    \n",
    "def get_file_no(sam):\n",
    "    fno = 0\n",
    "    path = 'fastq/'+sam+'/'\n",
    "    fqfiles = [name for name in os.listdir(path) if fnmatch(name, '*.fastq')]\n",
    "    for f in fqfiles:\n",
    "        ff = re.search(r'_(\\d+).fastq$', f)\n",
    "        mch = int(ff.group[1])\n",
    "        if mch > fno:\n",
    "            fno = mch\n",
    "    return fno\n",
    "    \n",
    "    \n",
    "### unzip raw sequencing data    \n",
    "def unzip_fastq(sam):\n",
    "    path = 'fastq/'+sam+'/'\n",
    "    fqfiles = [name for name in os.listdir(path) if name.endswith('.gz')]\n",
    "    for f in fqfiles:\n",
    "        os.system('gzip -d '+path+f)\n",
    "    \n",
    "    \n",
    "### zip raw data after barcoding\n",
    "import os\n",
    "def zip_fastq(smp):\n",
    "    for bc in smp.keys():\n",
    "        sample = smp[bc]\n",
    "        infile = 'fastq/' + sample + '/' + sample + '_fastq'\n",
    "        outfile = 'fastq/' + sample + '/' + sample + '_fastq.tar.gz'\n",
    "        os.system('tar -cvzf ' + outfile + ' ' + infile)\n",
    "        os.system('rm ' + infile)\n",
    "      \n",
    "    \n",
    "### convert to 36 based number\n",
    "# 6-characters, 36**5 = 60466176 < 61000000    \n",
    "def convert_to_36(n):\n",
    "    out = char[n % 36] # 0 to 35\n",
    "    n = int(n/36)\n",
    "    \n",
    "    while True:\n",
    "        out = str(char[n % 36]) + out\n",
    "        n = int(n/36)\n",
    "        if n < 1:\n",
    "            break\n",
    "    return out\n",
    " \n",
    "    \n",
    "if __name__ == '__main__':\n",
    "    main()"
   ]
  },
  {
   "cell_type": "code",
   "execution_count": null,
   "metadata": {},
   "outputs": [],
   "source": []
  },
  {
   "cell_type": "code",
   "execution_count": 4,
   "metadata": {},
   "outputs": [
    {
     "name": "stdout",
     "output_type": "stream",
     "text": [
      "TGCGTGAT 168\n",
      "AGACATCG 169\n",
      "ACGCCTAA 170\n",
      "GGTGGTCA 171\n",
      "CGCACTGT 172\n",
      "AAATTGGC 173\n",
      "CCGATCTG 174\n",
      "CATCAAGT 175\n",
      "AACTGATC 176\n",
      "AAAAGCTA 177\n",
      "CCGTAGCC 178\n",
      "ATTACAAG 179\n",
      "ACTTGACT 180\n",
      "GTGGAACT 181\n",
      "TGGGACGG 182\n",
      "TGCTCTAC 183\n",
      "GAGCGGAC 184\n",
      "AGTTTCAC 185\n",
      "CCGGCCAC 186\n",
      "GGCGAAAC 187\n",
      "TACGTACG 188\n",
      "CGCCACTC 189\n",
      "TAGCTACC 190\n",
      "TCGCTCAT 191\n",
      "GCCTTTTG 192\n",
      "GGTAGTTG 193\n",
      "ATCCGGTG 194\n",
      "TATGAGTG 195\n",
      "CGAAAATG 196\n",
      "GCTGTTGG 197\n",
      "GAATTCCG 290\n",
      "GAGTATAG 291\n",
      "CCTCTGAG 292\n",
      "TCGTCGTC 293\n",
      "TACGATTA 294\n",
      "TAGCTGTA 295\n",
      "CTATTATA 383\n",
      "CAGAATGA 384\n",
      "GTTCGGGA 385\n",
      "GGCTTCGA 386\n",
      "CATGCCGA 387\n",
      "GGCCGAAG 388\n",
      "TGTAACAA 389\n",
      "ATTGGATT 390\n",
      "TTAAAGGA 391\n",
      "GATTGTAC 392\n",
      "GAGTCAGG 393\n",
      "GTGTGCTA 394\n"
     ]
    }
   ],
   "source": [
    "def get_default_barcode():\n",
    "    b = collections.OrderedDict()\n",
    "    b['TGCGTGAT']=168; b['AGACATCG']=169; b['ACGCCTAA']=170;\n",
    "    b['GGTGGTCA']=171; b['CGCACTGT']=172; b['AAATTGGC']=173;\n",
    "    b['CCGATCTG']=174; b['CATCAAGT']=175; b['AACTGATC']=176;\n",
    "    b['AAAAGCTA']=177; b['CCGTAGCC']=178; b['ATTACAAG']=179;\n",
    "    b['ACTTGACT']=180; b['GTGGAACT']=181; b['TGGGACGG']=182;\n",
    "    b['TGCTCTAC']=183; b['GAGCGGAC']=184; b['AGTTTCAC']=185;\n",
    "    b['CCGGCCAC']=186; b['GGCGAAAC']=187; b['TACGTACG']=188;  \n",
    "    b['CGCCACTC']=189; b['TAGCTACC']=190; b['TCGCTCAT']=191;\n",
    "    b['GCCTTTTG']=192; b['GGTAGTTG']=193; b['ATCCGGTG']=194;\n",
    "    b['TATGAGTG']=195; b['CGAAAATG']=196; b['GCTGTTGG']=197;\n",
    "    b['GAATTCCG']=290; b['GAGTATAG']=291; b['CCTCTGAG']=292;\n",
    "    b['TCGTCGTC']=293; b['TACGATTA']=294; b['TAGCTGTA']=295;\n",
    "    b['CTATTATA']=383; b['CAGAATGA']=384; b['GTTCGGGA']=385;\n",
    "    b['GGCTTCGA']=386; b['CATGCCGA']=387; b['GGCCGAAG']=388;\n",
    "    b['TGTAACAA']=389; b['ATTGGATT']=390; b['TTAAAGGA']=391;\n",
    "    b['GATTGTAC']=392; b['GAGTCAGG']=393; b['GTGTGCTA']=394;\n",
    "    \n",
    "    return b\n",
    "\n",
    "barcodes = get_default_barcode()\n",
    "for k, v in barcodes.items():\n",
    "    print (k, v)"
   ]
  },
  {
   "cell_type": "code",
   "execution_count": 54,
   "metadata": {},
   "outputs": [
    {
     "name": "stdout",
     "output_type": "stream",
     "text": [
      "['test.txt.tar.gz']\n"
     ]
    }
   ],
   "source": [
    "fq = [name for name in os.listdir('.') if name.endswith('.gz')]\n",
    "print (fq)"
   ]
  },
  {
   "cell_type": "code",
   "execution_count": 59,
   "metadata": {},
   "outputs": [
    {
     "name": "stdout",
     "output_type": "stream",
     "text": [
      "['step1.0_linker1_split_sample_fastq_from_fastq_fast_mlcore_080813.pl', 'step1.0_linker2_split_sample_fastq_from_fastq_fast_mlcore_080813.pl', 'step1.1_extract_size_with_1st_060311.pl', 'step1.2_linker1_split_sample_fastq_from_qseq_fast_mlcore_080813.pl', 'step1.3_linker1_split_sample_fastq_from_qseq_fast_mlcore_for_bad_quality_080813.pl', 'step2.0_bowtie_match_mlcore_080813.pl', 'step2.1_bowtie_match_mlcore_080813.pl', 'step3.0_hist_WS215_bowtie_1st_nt_060311.pl', 'step3.1_hist_WS215_bowtie_1st_nt_060311.pl', 'Step4_make_mysql_database.pl', 'step6_extend_match.pl']\n"
     ]
    }
   ],
   "source": [
    "from fnmatch import fnmatch\n",
    "path = 'base script/'\n",
    "fqfiles = [name for name in os.listdir(path) if fnmatch(name, '*.pl')]\n",
    "print (fqfiles)"
   ]
  },
  {
   "cell_type": "code",
   "execution_count": 51,
   "metadata": {},
   "outputs": [],
   "source": [
    "import os\n",
    "def zip_fastq(infile):\n",
    "    outfile = infile+'.tar.gz'\n",
    "    os.system('tar -cvzf '+outfile+' '+infile)\n",
    "    os.system('rm '+infile)\n",
    "    \n",
    "zip_fastq('test.txt')"
   ]
  },
  {
   "cell_type": "code",
   "execution_count": 61,
   "metadata": {},
   "outputs": [
    {
     "name": "stdout",
     "output_type": "stream",
     "text": [
      "s n\n"
     ]
    }
   ],
   "source": [
    "x = 's n'\n",
    "m , z = x.split()\n",
    "print (m,z)"
   ]
  },
  {
   "cell_type": "code",
   "execution_count": 69,
   "metadata": {},
   "outputs": [
    {
     "name": "stdout",
     "output_type": "stream",
     "text": [
      "0\n",
      "1\n",
      "2\n",
      "3\n",
      "4\n",
      "5\n",
      "6\n",
      "7\n",
      "8\n",
      "9\n"
     ]
    }
   ],
   "source": [
    "import re\n",
    "rmd = 'yE2s   '\n",
    "for i in range(10):\n",
    "    print (i)\n",
    "    if re.search(r'yes', rmd, re.IGNORECASE):\n",
    "        print ('match')\n",
    "    else:\n",
    "        exit()"
   ]
  },
  {
   "cell_type": "code",
   "execution_count": 1,
   "metadata": {},
   "outputs": [
    {
     "name": "stdout",
     "output_type": "stream",
     "text": [
      "\n",
      "To skip a sample, type Enter.\n",
      "\n",
      "Barcode 172 sample name:wt\n",
      "Barcode 173 sample name:mut\n",
      "wt\n"
     ]
    }
   ],
   "source": [
    "import collections\n",
    "import re\n",
    "import os\n",
    "def input_sam(barcodes):\n",
    "    smp = collections.OrderedDict()\n",
    "    print ('\\nTo skip a sample, type Enter.\\n')\n",
    "    for barcode in barcodes:\n",
    "        sa = input('Barcode '+barcode+' sample name:')\n",
    "        if not re.search(r'\\w', sa):\n",
    "            print ('Barcode', barcode, 'skipped\\n')\n",
    "            next\n",
    "        smp[barcode] = sa\n",
    "        \n",
    "        \n",
    "        if os.path.isdir('fastq/'+sa):\n",
    "            print (sa+'exists.\\n')\n",
    "            rmd = input('Delete, yes or no:')\n",
    "            rmd = rmd.rstrip()\n",
    "            if re.search(r'yes', rmd, re.IGNORECASE):\n",
    "                os.system('rm -r fastq/'+sa)\n",
    "            else:\n",
    "                exit()\n",
    "        os.makedirs('fastq/'+sa)\n",
    "        #os.system('cp $0 fastq/'+sa)\n",
    "    \n",
    "    return smp\n",
    "\n",
    "barcodes = ['172', '173']\n",
    "samples = input_sam(barcodes)\n",
    "print (samples['172'])"
   ]
  },
  {
   "cell_type": "code",
   "execution_count": 22,
   "metadata": {},
   "outputs": [
    {
     "name": "stdout",
     "output_type": "stream",
     "text": [
      "[1, 2, 3]\n"
     ]
    }
   ],
   "source": [
    "class Song(object):\n",
    "\n",
    "    def __init__(self, lyrics):\n",
    "        self.lyrics = lyrics\n",
    "\n",
    "    def sing_me_a_song(self):\n",
    "        for line in self.lyrics:\n",
    "            print line     "
   ]
  },
  {
   "cell_type": "code",
   "execution_count": null,
   "metadata": {
    "collapsed": true
   },
   "outputs": [],
   "source": []
  },
  {
   "cell_type": "code",
   "execution_count": 32,
   "metadata": {},
   "outputs": [
    {
     "data": {
      "text/plain": [
       "'10bfwg'"
      ]
     },
     "execution_count": 32,
     "metadata": {},
     "output_type": "execute_result"
    }
   ],
   "source": [
    "#### convert to 36 based number\n",
    "# 6-characters, 36**5 = 60466176 < 61000000\n",
    "import string\n",
    "char = [i for i in range(10)] + [j for j in string.ascii_lowercase]\n",
    "\n",
    "def convert_to_36(n):\n",
    "    out = char[n % 36] # 0 to 35\n",
    "    n = int(n/36)\n",
    "    \n",
    "    while True:\n",
    "        out = str(char[n % 36]) + out\n",
    "        n = int(n/36)\n",
    "        if n < 1:\n",
    "            break\n",
    "    return out\n",
    "\n",
    "convert_to_36(61000000)"
   ]
  },
  {
   "cell_type": "code",
   "execution_count": null,
   "metadata": {
    "collapsed": true
   },
   "outputs": [],
   "source": [
    "out = 'x'\n",
    "out = 'x'+out\n",
    "print (out)"
   ]
  },
  {
   "cell_type": "code",
   "execution_count": 40,
   "metadata": {},
   "outputs": [
    {
     "name": "stdout",
     "output_type": "stream",
     "text": [
      "1679616.0\n",
      "46656.0\n",
      "1296.0\n",
      "36.0\n",
      "1.0\n",
      "0.027777777777777776\n"
     ]
    }
   ],
   "source": [
    "for i in range(1,7):\n",
    "    print (60466176/36**i)"
   ]
  },
  {
   "cell_type": "code",
   "execution_count": 37,
   "metadata": {},
   "outputs": [
    {
     "data": {
      "text/plain": [
       "60466176"
      ]
     },
     "execution_count": 37,
     "metadata": {},
     "output_type": "execute_result"
    }
   ],
   "source": [
    "36**5"
   ]
  },
  {
   "cell_type": "code",
   "execution_count": 7,
   "metadata": {},
   "outputs": [
    {
     "data": {
      "text/plain": [
       "100"
      ]
     },
     "execution_count": 7,
     "metadata": {},
     "output_type": "execute_result"
    }
   ],
   "source": [
    "100 % 4000000"
   ]
  },
  {
   "cell_type": "code",
   "execution_count": 15,
   "metadata": {},
   "outputs": [
    {
     "data": {
      "text/plain": [
       "[0,\n",
       " 1,\n",
       " 2,\n",
       " 3,\n",
       " 4,\n",
       " 5,\n",
       " 6,\n",
       " 7,\n",
       " 8,\n",
       " 9,\n",
       " 'a',\n",
       " 'b',\n",
       " 'c',\n",
       " 'd',\n",
       " 'e',\n",
       " 'f',\n",
       " 'g',\n",
       " 'h',\n",
       " 'i',\n",
       " 'j',\n",
       " 'k',\n",
       " 'l',\n",
       " 'm',\n",
       " 'n',\n",
       " 'o',\n",
       " 'p',\n",
       " 'q',\n",
       " 'r',\n",
       " 's',\n",
       " 't',\n",
       " 'u',\n",
       " 'v',\n",
       " 'w',\n",
       " 'x',\n",
       " 'y',\n",
       " 'z']"
      ]
     },
     "execution_count": 15,
     "metadata": {},
     "output_type": "execute_result"
    }
   ],
   "source": [
    "import string\n",
    "n = [i for i in range(10)] + [j for j in string.ascii_lowercase]\n",
    "n"
   ]
  },
  {
   "cell_type": "code",
   "execution_count": 1,
   "metadata": {},
   "outputs": [
    {
     "data": {
      "text/plain": [
       "'172, 173'"
      ]
     },
     "execution_count": 1,
     "metadata": {},
     "output_type": "execute_result"
    }
   ],
   "source": [
    "barcode = '172, 173   '\n",
    "barcode.rstrip()"
   ]
  },
  {
   "cell_type": "code",
   "execution_count": 5,
   "metadata": {},
   "outputs": [
    {
     "data": {
      "text/plain": [
       "['172', '173']"
      ]
     },
     "execution_count": 5,
     "metadata": {},
     "output_type": "execute_result"
    }
   ],
   "source": [
    "import re\n",
    "barcodes = re.split('\\D+', barcode.strip())\n",
    "barcodes"
   ]
  },
  {
   "cell_type": "code",
   "execution_count": 3,
   "metadata": {},
   "outputs": [
    {
     "name": "stdout",
     "output_type": "stream",
     "text": [
      "sequence:TTTGGGCCGGTGGAAGAGAAGGGAAAGAGGTGTGTTGTGGGTAAGATTTTGCAACATCAATCTGCAGACTGCAACTAGTGAGTATTACGACCCACT\n",
      "read size 96\n"
     ]
    }
   ],
   "source": [
    "\n",
    "with open('ERR478129_1.fastq') as f:\n",
    "    line_num = 0\n",
    "    for line in f:\n",
    "        line = line.rstrip()\n",
    "        line_num += 1\n",
    "        if (line_num == 2):\n",
    "            print ('sequence:'+line)\n",
    "            size = len(line)\n",
    "            print ('read size '+ str(size))\n",
    "            break\n",
    "            \n",
    "            \n"
   ]
  },
  {
   "cell_type": "code",
   "execution_count": null,
   "metadata": {
    "collapsed": true
   },
   "outputs": [],
   "source": [
    "with open('ERR478129_1.fastq') as f:\n",
    "    idx = collections.OrderedDict()\n",
    "    line_num = 0\n",
    "    for line in f:\n",
    "        line_num += 1\n",
    "        if line_num % 4 == 2:\n",
    "            line = line.rstrip()\n",
    "            idx[line_num] = line\n",
    "            \n",
    "for k, v in idx.items():\n",
    "    print (k, v)"
   ]
  },
  {
   "cell_type": "code",
   "execution_count": null,
   "metadata": {
    "collapsed": true
   },
   "outputs": [],
   "source": []
  },
  {
   "cell_type": "code",
   "execution_count": 21,
   "metadata": {},
   "outputs": [
    {
     "name": "stdout",
     "output_type": "stream",
     "text": [
      "[1, 2, 3, 4]\n",
      "[1, 5, 3, 4]\n"
     ]
    }
   ],
   "source": [
    "from collections import defaultdict, OrderedDict\n",
    "rse = OrderedDict(defaultdict(list))\n",
    "rse['x'] = [1,2,3,4]\n",
    "rse['y'] = [1,5,3,4]\n",
    "for x in rse.keys():\n",
    "    print (rse[x])"
   ]
  },
  {
   "cell_type": "code",
   "execution_count": 16,
   "metadata": {},
   "outputs": [
    {
     "data": {
      "text/plain": [
       "collections.defaultdict"
      ]
     },
     "execution_count": 16,
     "metadata": {},
     "output_type": "execute_result"
    }
   ],
   "source": [
    "from collections import defaultdict\n",
    "rfq = defaultdict(list)\n",
    "type(rfq)"
   ]
  },
  {
   "cell_type": "code",
   "execution_count": null,
   "metadata": {
    "collapsed": true
   },
   "outputs": [],
   "source": []
  }
 ],
 "metadata": {
  "kernelspec": {
   "display_name": "Python 3",
   "language": "python",
   "name": "python3"
  },
  "language_info": {
   "codemirror_mode": {
    "name": "ipython",
    "version": 3
   },
   "file_extension": ".py",
   "mimetype": "text/x-python",
   "name": "python",
   "nbconvert_exporter": "python",
   "pygments_lexer": "ipython3",
   "version": "3.6.5"
  }
 },
 "nbformat": 4,
 "nbformat_minor": 1
}
