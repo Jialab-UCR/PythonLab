{
 "cells": [
  {
   "cell_type": "code",
   "execution_count": 1,
   "metadata": {},
   "outputs": [
    {
     "name": "stdout",
     "output_type": "stream",
     "text": [
      "Sample names (with _all) seperated with a comma:\n",
      "0320tocsr1om_all,0320toom_all\n",
      "Normalization standard:\n",
      "mir\n",
      "5utr, 3utr, or CDS\n",
      "3utr\n",
      "total 10310921.00\n",
      "sense struc 972969.38\n",
      "non-struc 9337951.62\n",
      "sense coding 215111.03\n",
      "anti coding 4064389.66\n",
      "total coding 4279500.69\n",
      "sense miRNA 1264368.17\n",
      "sense 21U-RNA 1171800.61\n",
      "\n",
      "Normalization ratio 0.7909088695265083 \n",
      "\n",
      "\n",
      "total 6762488.00\n",
      "sense struc 336050.82\n",
      "non-struc 6426437.18\n",
      "sense coding 100989.96\n",
      "anti coding 3382585.06\n",
      "total coding 3483575.02\n",
      "sense miRNA 1015206.00\n",
      "sense 21U-RNA 205742.87\n",
      "\n",
      "Normalization ratio 0.9850217591306591 \n",
      "\n",
      "\n"
     ]
    }
   ],
   "source": [
    "#!/usr/bin/env pyton\n",
    "#import sys\n",
    "#import subprocess as sp\n",
    "import re\n",
    "\n",
    "######### works, but some genes are not included\n",
    "sam_in = input('Sample names (with _all) seperated with a comma:\\n').strip()\n",
    "sam = re.split(r'\\s*\\,+\\s*', sam_in)\n",
    "stan = input('Normalization standard:\\n')\n",
    "utr = input('5utr, 3utr, or CDS\\n')\n",
    "\n",
    "def main():\n",
    "    for ss in sam:\n",
    "        cdna_sum(ss)\n",
    "\n",
    "\n",
    "def norm(sam, stan):\n",
    "    # get the normalization ratio\n",
    "    geex, struc, cose, coan, coto, mir, u21 = 0, 0, 0, 0, 0, 0, 0\n",
    "    file = sam+'/sum_'+sam+'.txt'\n",
    "    with open (file) as f:\n",
    "        for line in f:\n",
    "            #line = re.sub(r'\\s+$', r'', line)\n",
    "            line = line.rstrip()\n",
    "            if re.search(r'^geex\\t\\S+\\t\\S+\\t\\S+', line):\n",
    "                mch = re.search(r'^geex\\t\\S+\\t\\S+\\t(\\S+)', line) # all\n",
    "                geex = float(mch.group(1))\n",
    "            if (re.search(r'^struc\\t\\S+\\t\\S+\\t\\S+', line)):\n",
    "                mch = re.search(r'^struc\\t(\\S+)\\t\\S+\\t\\S+', line) # sense\n",
    "                struc = float(mch.group(1))\n",
    "            if (re.search(r'^coding\\t\\S+\\t\\S+\\t\\S+', line)):\n",
    "                mch = re.search(r'^coding\\t(\\S+)\\t(\\S+)\\t(\\S+)', line)\n",
    "                cose = float(mch.group(1)); coan = float(mch.group(2)); coto = float(mch.group(3))\n",
    "            if (re.search(r'^miRNA\\t\\S+\\t\\S+\\t\\S+', line)):\n",
    "                mch = re.search(r'miRNA\\t(\\S+)\\t\\S+\\t\\S+', line) # sense\n",
    "                mir = float(mch.group(1))\n",
    "            if (re.search(r'^u21RNA\\t\\S+\\t\\S+\\t\\S+', line)):\n",
    "                mch = re.search(r'u21RNA\\t(\\S+)\\t\\S+\\t\\S+', line) # sense\n",
    "                u21 = float(mch.group(1))\n",
    "            if (re.search(r'^star-miRNA', line)):\n",
    "                break\n",
    "    nons = geex - struc\n",
    "        \n",
    "    print ('''total %.2f\n",
    "sense struc %.2f\n",
    "non-struc %.2f\n",
    "sense coding %.2f\n",
    "anti coding %.2f\n",
    "total coding %.2f\n",
    "sense miRNA %.2f\n",
    "sense 21U-RNA %.2f\\n''' % (geex, struc, nons, cose, coan, coto, mir, u21))\n",
    "        \n",
    "    if (stan == 'mir'):\n",
    "        ratio = 1000000/mir\n",
    "    elif (stan == 'cose'):\n",
    "        ratio = 5000000/cose\n",
    "    elif (stan == 'coan'):\n",
    "        ratio = 2000000/coan\n",
    "    elif (stan == 'coto'):\n",
    "        ratio = 5000000/coto\n",
    "    elif (stan == 'nons'):\n",
    "        ratio = 5000000/nons\n",
    "    elif (stan == 'tot'):\n",
    "        ratio = 5000000/geex\n",
    "    elif (stan == '21U'):\n",
    "        ratio = 500000/u21\n",
    "    \n",
    "    print ('Normalization ratio', ratio, '\\n\\n')\n",
    "    \n",
    "    return ratio\n",
    "\n",
    "\n",
    "\n",
    "def cdna_sum(sam):\n",
    "    csrge = {}; csrtr = {}\n",
    "    ra = norm(sam, stan)\n",
    "    #### sometimes may not need csrge\n",
    "    with open('csr1_targets_at_least_three_overlap.txt', 'rt') as f:\n",
    "        for line in f:\n",
    "            n1, n2, n3 = line.rstrip().split('\\t')\n",
    "            csrge[n1+'\\t'+n2] = 1\n",
    "    \n",
    "    if (utr == 'CDS'):\n",
    "        fh = 'ceWS215_CDS_pos.txt'\n",
    "    else:\n",
    "        fh = 'ceWS215_CDS_' + utr + '_filtered.txt'\n",
    "        \n",
    "    with open(fh, 'rt') as f:\n",
    "        for line in f:\n",
    "            line = line.rstrip()\n",
    "            if line == '':\n",
    "                break\n",
    "            ids, pos = line.split('|')\n",
    "            idl = ids.split('\\t') # id list\n",
    "            idx = idl[1]+'\\t'+idl[3]\n",
    "            po = sorted(pos.split())\n",
    "            #if (idx not in csrge.keys()): # only consider csr-1 targets\n",
    "                #continue\n",
    "            csrtr[idx] = po[0]+'\\t'+po[-1]\n",
    "\n",
    "    csrge.clear()\n",
    "    \n",
    "    with open(sam+'/'+sam+'_17_cdna_coding_normed.txt', 'rt') as f:\n",
    "        s = {}; a = {}; se = {}; an = {}\n",
    "        for line in f:\n",
    "            line = line.rstrip()\n",
    "            a1 = line.split('\\t')\n",
    "            if line.startswith('>'):\n",
    "                on = 0\n",
    "                sr = a1[6]\n",
    "                idx = a1[1]+'\\t'+a1[3]\n",
    "                if (idx in csrtr.keys()):\n",
    "                    l, r = csrtr[idx].split('\\t')\n",
    "                    l = float(l)\n",
    "                    r = float(r)\n",
    "                    se[idx] = {}\n",
    "                    an[idx] = {}\n",
    "                    on = 1\n",
    "                continue\n",
    "            if (on != 1):\n",
    "                continue\n",
    "            if (int(a1[2]) < l or int(a1[2]) > r):\n",
    "                continue\n",
    "            if (int(a1[2])+int(a1[3]) < l or int(a1[2])+int(a1[3]) > r):\n",
    "                continue\n",
    "            if (a1[1] == sr):\n",
    "                s[line] = int(a1[4])/int(a1[5])\n",
    "                se[idx][line] = int(a1[4])/int(a1[5])\n",
    "            else:\n",
    "                a[line] = int(a1[4])/int(a1[5])\n",
    "                an[idx][line] = int(a1[4])/int(a1[5])\n",
    "\n",
    "    fh1 = open(sam+'/sum_'+sam+'_all_'+utr+'_17_cdna_coding_'+stan+'.txt', 'wt')\n",
    "        \n",
    "    #for idx in sorted(se.keys(),key=lambda s: s.lower()):\n",
    "    for idx in sorted(se.keys()):\n",
    "        al_n = 0; se_n = 0; an_n = 0\n",
    "        for fe in se[idx].keys():\n",
    "            sh = 1\n",
    "            if fe in an[idx].keys():\n",
    "                sh = 0.5\n",
    "            se_n+= se[idx][fe]*ra*sh\n",
    "            al_n+= se[idx][fe]*ra*sh\n",
    "        for fe in an[idx].keys():\n",
    "            sh = 1\n",
    "            if fe in se[idx].keys():\n",
    "                sh = 0.5\n",
    "            an_n+= an[idx][fe]*ra*sh\n",
    "            al_n+= an[idx][fe]*ra*sh\n",
    "        se_n = str(round(se_n, 3))\n",
    "        an_n = str(round(an_n, 3))\n",
    "        al_n = str(round(al_n, 3))\n",
    "            \n",
    "        fh1.write(idx+'\\t'+se_n+'\\t'+an_n+'\\t'+al_n+'\\n')\n",
    "        #print >> fh1, idx+'\\t'+se_n+'\\t'+an_n+'\\t'+al\n",
    "    fh1.close()\n",
    "    \n",
    "    fh2 = open('sum_'+utr+'_read_CSR1_targets_'+stan+'.txt', 'at')\n",
    "    al_n = 0; se_n = 0; an_n = 0\n",
    "    for fe in s.keys():\n",
    "        sh = 1\n",
    "        if fe in a.keys():\n",
    "            sh = 0.5\n",
    "        se_n+= s[fe]*ra*sh\n",
    "        al_n+= s[fe]*ra*sh\n",
    "    for fe in a.keys():\n",
    "        sh = 1\n",
    "        if fe in s.keys():\n",
    "            sh = 0.5\n",
    "        an_n+= a[fe]*ra*sh\n",
    "        al_n+= a[fe]*ra*sh\n",
    "    se_n = str(round(se_n, 3))\n",
    "    an_n = str(round(an_n, 3))\n",
    "    al_n = str(round(al_n, 3))\n",
    "    fh2.write(sam+'\\t'+se_n+'\\t'+an_n+'\\t'+al_n+'\\n')\n",
    "    fh2.close()\n",
    "    \n",
    "if __name__ == '__main__':\n",
    "    main()"
   ]
  },
  {
   "cell_type": "code",
   "execution_count": 48,
   "metadata": {},
   "outputs": [
    {
     "name": "stdout",
     "output_type": "stream",
     "text": [
      "CDS\n",
      "gene\n"
     ]
    }
   ],
   "source": [
    "utr = 'CDS'; gene = 'gene'\n",
    "if (utr == 'CDS'):\n",
    "    print utr\n",
    "print gene"
   ]
  },
  {
   "cell_type": "code",
   "execution_count": 25,
   "metadata": {},
   "outputs": [
    {
     "name": "stdout",
     "output_type": "stream",
     "text": [
      "h\n"
     ]
    }
   ],
   "source": [
    "utr = 'h|x'\n",
    "id, po = utr.split('|')\n",
    "print id"
   ]
  },
  {
   "cell_type": "code",
   "execution_count": 29,
   "metadata": {},
   "outputs": [
    {
     "name": "stdout",
     "output_type": "stream",
     "text": [
      "h\tx\n"
     ]
    }
   ],
   "source": [
    "utr = 'h\\tx'\n",
    "print utr"
   ]
  },
  {
   "cell_type": "code",
   "execution_count": 35,
   "metadata": {},
   "outputs": [
    {
     "name": "stdout",
     "output_type": "stream",
     "text": [
      "['t', 'g', 5, 3, 1]\n"
     ]
    }
   ],
   "source": [
    "po = [1,3,5,'t', 'g']\n",
    "po = sorted(po, reverse = True)\n",
    "print po"
   ]
  },
  {
   "cell_type": "code",
   "execution_count": 78,
   "metadata": {},
   "outputs": [
    {
     "name": "stdout",
     "output_type": "stream",
     "text": [
      "['csr1', 'F04', 'FFFF']\n",
      "5\n",
      "5\n",
      "csr1\tF04\n",
      "csr1\tF04\n",
      "cool\n",
      "{}\n"
     ]
    },
    {
     "ename": "TypeError",
     "evalue": "'dict' object is not callable",
     "output_type": "error",
     "traceback": [
      "\u001b[0;31m---------------------------------------------------------------------------\u001b[0m\n\u001b[0;31mTypeError\u001b[0m                                 Traceback (most recent call last)",
      "\u001b[0;32m<ipython-input-78-90502b264c9d>\u001b[0m in \u001b[0;36m<module>\u001b[0;34m()\u001b[0m\n\u001b[1;32m     26\u001b[0m \u001b[0;34m\u001b[0m\u001b[0m\n\u001b[1;32m     27\u001b[0m \u001b[0;34m\u001b[0m\u001b[0m\n\u001b[0;32m---> 28\u001b[0;31m \u001b[0mcsrge\u001b[0m\u001b[0;34m(\u001b[0m\u001b[0;34m)\u001b[0m\u001b[0;34m.\u001b[0m\u001b[0mis_dict\u001b[0m\u001b[0;34m\u001b[0m\u001b[0m\n\u001b[0m",
      "\u001b[0;31mTypeError\u001b[0m: 'dict' object is not callable"
     ]
    }
   ],
   "source": [
    "ids = 'csr1\\tF04\\tFFFF'\n",
    "id = ids.split('\\t')\n",
    "print id\n",
    "csrge = {}\n",
    "csrge['csr1\\tF04'] = 5\n",
    "print csrge['csr1\\tF04']\n",
    "print csrge[id[0]+'\\t'+id[1]]\n",
    "x = id[0]+'\\t'+id[1]\n",
    "print x\n",
    "\n",
    "\n",
    "if (x not in csrge.keys()):\n",
    "    print 'no'\n",
    "       \n",
    "\n",
    "for x in sorted(csrge.keys()):\n",
    "    print x\n",
    "\n",
    "    \n",
    "if (type(csrge) is dict):\n",
    "    print 'cool'\n",
    "    \n",
    "       \n",
    "csrge.clear()        \n",
    "print csrge\n",
    "\n",
    "\n"
   ]
  },
  {
   "cell_type": "code",
   "execution_count": 50,
   "metadata": {},
   "outputs": [
    {
     "name": "stdout",
     "output_type": "stream",
     "text": [
      "FFFF\n"
     ]
    }
   ],
   "source": [
    "ids = 'csr1\\tF04\\tFFFF'\n",
    "id = ids.split('\\t')\n",
    "print id[-1]"
   ]
  },
  {
   "cell_type": "code",
   "execution_count": 86,
   "metadata": {},
   "outputs": [
    {
     "name": "stdout",
     "output_type": "stream",
     "text": [
      "{}\n"
     ]
    },
    {
     "ename": "KeyError",
     "evalue": "'a'",
     "output_type": "error",
     "traceback": [
      "\u001b[0;31m---------------------------------------------------------------------------\u001b[0m\n\u001b[0;31mKeyError\u001b[0m                                  Traceback (most recent call last)",
      "\u001b[0;32m<ipython-input-86-680a7602378a>\u001b[0m in \u001b[0;36m<module>\u001b[0;34m()\u001b[0m\n\u001b[1;32m      8\u001b[0m \u001b[0;34m\u001b[0m\u001b[0m\n\u001b[1;32m      9\u001b[0m \u001b[0;31m# and each dictionary is full of definitions\u001b[0m\u001b[0;34m\u001b[0m\u001b[0;34m\u001b[0m\u001b[0m\n\u001b[0;32m---> 10\u001b[0;31m \u001b[0;32mif\u001b[0m \u001b[0;34m(\u001b[0m\u001b[0mtype\u001b[0m\u001b[0;34m(\u001b[0m\u001b[0mdefinitions\u001b[0m\u001b[0;34m[\u001b[0m\u001b[0;34m'a'\u001b[0m\u001b[0;34m]\u001b[0m\u001b[0;34m)\u001b[0m \u001b[0;32mis\u001b[0m \u001b[0mdict\u001b[0m\u001b[0;34m)\u001b[0m\u001b[0;34m:\u001b[0m\u001b[0;34m\u001b[0m\u001b[0m\n\u001b[0m\u001b[1;32m     11\u001b[0m     \u001b[0;32mprint\u001b[0m \u001b[0;34m'yes'\u001b[0m\u001b[0;34m\u001b[0m\u001b[0m\n\u001b[1;32m     12\u001b[0m \u001b[0;32melse\u001b[0m\u001b[0;34m:\u001b[0m\u001b[0;34m\u001b[0m\u001b[0m\n",
      "\u001b[0;31mKeyError\u001b[0m: 'a'"
     ]
    }
   ],
   "source": [
    "definitions = {}\n",
    " \n",
    "# and, as above, we have several dictionaries in this dictionary\n",
    "#definitions['a'] = {}\n",
    "#definitions['aTableAlphabeticall'] = {}\n",
    " \n",
    "print definitions\n",
    " \n",
    "# and each dictionary is full of definitions\n",
    "if (type(definitions['a']) is dict):\n",
    "    print 'yes'\n",
    "else:\n",
    "    print 'no'\n",
    "#definitions['aTableAlphabeticall']['statue'] = 'interesting'\n",
    "#definitions['aTableAlphabeticall']['vapor'] = 'moisture, ayre, hote breath, or reaking'\n",
    "\n",
    "\n",
    "#print definitions"
   ]
  },
  {
   "cell_type": "code",
   "execution_count": 66,
   "metadata": {},
   "outputs": [
    {
     "name": "stdout",
     "output_type": "stream",
     "text": [
      "3\n"
     ]
    }
   ],
   "source": [
    "se = 2\n",
    "se+=1\n",
    "print se"
   ]
  },
  {
   "cell_type": "code",
   "execution_count": 2,
   "metadata": {},
   "outputs": [
    {
     "name": "stdout",
     "output_type": "stream",
     "text": [
      "3.142\n"
     ]
    }
   ],
   "source": [
    "m = 3.1415926\n",
    "y = round(m,3)\n",
    "print y"
   ]
  },
  {
   "cell_type": "code",
   "execution_count": 4,
   "metadata": {},
   "outputs": [
    {
     "name": "stdout",
     "output_type": "stream",
     "text": [
      "sum_omcsr1to_all.txt\n"
     ]
    }
   ],
   "source": [
    "sam = 'omcsr1to'\n",
    "print ('sum_'+sam+'_all.txt')"
   ]
  },
  {
   "cell_type": "code",
   "execution_count": 6,
   "metadata": {},
   "outputs": [
    {
     "data": {
      "text/plain": [
       "'/Users/DONG/Documents/Python/Python_world/LABDATA/python_rewriting'"
      ]
     },
     "execution_count": 6,
     "metadata": {},
     "output_type": "execute_result"
    }
   ],
   "source": [
    "import os\n",
    "os.getcwd()"
   ]
  },
  {
   "cell_type": "code",
   "execution_count": 12,
   "metadata": {},
   "outputs": [
    {
     "name": "stdout",
     "output_type": "stream",
     "text": [
      "puf-11\tY73B6BL.38\t323.443\t153.8368\t0.6777\tNot\tcsr\tNot\tNot\n",
      "ced-4\tC35D10.9a\t320.7128\t116.7556\t0.7331\tNot\tcsr\tNot\talg\n",
      "F22D6.2\tF22D6.2.2\t320.5878\t163.9756\t0.6616\tNot\tcsr\tNot\tNot\n",
      "F08F8.2\tF08F8.2\t320.4834\t131.4709\t0.7091\tNot\tcsr\tNot\tNot\n",
      "R02F2.1\tR02F2.1a.1\t319.6229\t155.4857\t0.6727\tNot\tcsr\tNot\tNot\n"
     ]
    }
   ],
   "source": [
    "direc = 'folder'\n",
    "sam = 'test'\n",
    "fh1 = open(direc+'/'+sam+'.txt', 'r')\n",
    "for line in fh1:\n",
    "    print line.strip()\n",
    "\n",
    "fh1.close()"
   ]
  },
  {
   "cell_type": "code",
   "execution_count": 14,
   "metadata": {},
   "outputs": [
    {
     "name": "stdout",
     "output_type": "stream",
     "text": [
      "1\n"
     ]
    }
   ],
   "source": [
    "su = 0\n",
    "su+=1\n",
    "print su"
   ]
  },
  {
   "cell_type": "code",
   "execution_count": 3,
   "metadata": {},
   "outputs": [
    {
     "name": "stdout",
     "output_type": "stream",
     "text": [
      "<_sre.SRE_Pattern object at 0x1038e0a08>\n",
      "<_sre.SRE_Match object at 0x10446f5e0>\n"
     ]
    },
    {
     "data": {
      "text/plain": [
       "'PAD'"
      ]
     },
     "execution_count": 3,
     "metadata": {},
     "output_type": "execute_result"
    }
   ],
   "source": [
    "import re\n",
    "expression = '[AP]{1,2}D'\n",
    "pattern = re.compile(expression)\n",
    "print pattern\n",
    "\n",
    "seq = \"RPAD\"\n",
    "match = pattern.search(seq)\n",
    "print match\n",
    "\n",
    "seq[match.start():match.end()]"
   ]
  },
  {
   "cell_type": "code",
   "execution_count": 2,
   "metadata": {},
   "outputs": [
    {
     "name": "stdout",
     "output_type": "stream",
     "text": [
      "stop\n",
      "\n",
      "stop\n"
     ]
    }
   ],
   "source": [
    "line = 'stop\\n'\n",
    "print line\n",
    "\n",
    "import re\n",
    "line = re.sub(r'\\s+$', r'', line)\n",
    "print line"
   ]
  },
  {
   "cell_type": "code",
   "execution_count": 25,
   "metadata": {},
   "outputs": [
    {
     "name": "stdout",
     "output_type": "stream",
     "text": [
      "5137800.0\n"
     ]
    }
   ],
   "source": [
    "import re\n",
    "geex = 0\n",
    "line = 'geex 5173121 5137800 10310921'\n",
    "if (re.search(r'^geex\\s\\d+\\s\\d+\\s(\\d+)', line)):\n",
    "    m = re.search(r'^geex\\s\\d+\\s(\\d+)\\s(\\d+)', line)\n",
    "    x = float(m.group(1))\n",
    "    print x"
   ]
  },
  {
   "cell_type": "code",
   "execution_count": 27,
   "metadata": {},
   "outputs": [
    {
     "name": "stdout",
     "output_type": "stream",
     "text": [
      "total geex\n",
      "sense struc struc\n",
      "non-struc nons\n",
      "sense coding cose\n",
      "anti coding coan\n",
      "total coding coto\n",
      "sense miRNA mir\n",
      "sense 21U-RNA u21\n",
      "\n",
      "50\n"
     ]
    }
   ],
   "source": [
    "print '''total geex\n",
    "sense struc struc\n",
    "non-struc nons\n",
    "sense coding cose\n",
    "anti coding coan\n",
    "total coding coto\n",
    "sense miRNA mir\n",
    "sense 21U-RNA u21\\n'''\n",
    "\n",
    "stan = 'mir'\n",
    "mir = 20000\n",
    "if (stan == 'mir'):\n",
    "        ratio = 1000000/mir\n",
    "        print ratio"
   ]
  },
  {
   "cell_type": "code",
   "execution_count": 26,
   "metadata": {},
   "outputs": [
    {
     "name": "stdout",
     "output_type": "stream",
     "text": [
      "50\n"
     ]
    }
   ],
   "source": [
    "stan = 'mir'\n",
    "mir = 20000\n",
    "if (stan == 'mir'):\n",
    "        ratio = 1000000/mir\n",
    "        print ratio"
   ]
  },
  {
   "cell_type": "code",
   "execution_count": 54,
   "metadata": {},
   "outputs": [
    {
     "name": "stdout",
     "output_type": "stream",
     "text": [
      "total 10310921.000000\n",
      "sense struc            972969.38\n",
      "non-struc 9337951.62\n",
      "sense coding 215111.03\n",
      "anti coding 4064389.66\n",
      "total coding 4279500.69\n",
      "sense miRNA 1264368.17\n",
      "sense 21U-RNA 1171800.61\n",
      "\n",
      "Normalization ratio 1.1684 \n",
      "\n",
      "\n",
      "3.5050818043\n"
     ]
    }
   ],
   "source": [
    "def norm(stan):\n",
    "    geex = 10310921\n",
    "    struc = 972969.38\n",
    "    nons = geex - struc\n",
    "    cose = 215111.03\n",
    "    coan = 4064389.66\n",
    "    coto = 4279500.69\n",
    "    mir = 1264368.17\n",
    "    u21 = 1171800.61\n",
    "    print '''total %f\n",
    "sense struc %20.2f\n",
    "non-struc %s\n",
    "sense coding %.2f\n",
    "anti coding %.2f\n",
    "total coding %.2f\n",
    "sense miRNA %.2f\n",
    "sense 21U-RNA %.2f\\n''' % (geex, struc, nons, cose, coan, coto, mir, u21)\n",
    "    \n",
    "    if (stan == 'mir'):\n",
    "        ratio = 1000000/mir\n",
    "    elif (stan == 'cose'):\n",
    "        ratio = 5000000/cose\n",
    "    elif (stan == 'coan'):\n",
    "        ratio = 2000000/coan\n",
    "    elif (stan == 'coto'):\n",
    "        ratio = 5000000/coto\n",
    "    elif (stan == 'nons'):\n",
    "        ratio = 5000000/nons\n",
    "    elif (stan == 'tot'):\n",
    "        ratio = 5000000/geex\n",
    "    elif (stan == '21U'):\n",
    "        ratio = 500000/u21\n",
    "    \n",
    "    print 'Normalization ratio', round(ratio,4), '\\n\\n'\n",
    "    return ratio\n",
    "\n",
    "\n",
    "stan = 'coto'\n",
    "print norm(stan)*3"
   ]
  },
  {
   "cell_type": "code",
   "execution_count": 1,
   "metadata": {},
   "outputs": [
    {
     "name": "stdout",
     "output_type": "stream",
     "text": [
      "Sample names (no _all) seperated with a comma:\n"
     ]
    }
   ],
   "source": [
    "print 'Sample names (no _all) seperated with a comma:'"
   ]
  },
  {
   "cell_type": "code",
   "execution_count": 3,
   "metadata": {},
   "outputs": [
    {
     "ename": "NameError",
     "evalue": "name 'm' is not defined",
     "output_type": "error",
     "traceback": [
      "\u001b[0;31m---------------------------------------------------------------------------\u001b[0m\n\u001b[0;31mNameError\u001b[0m                                 Traceback (most recent call last)",
      "\u001b[0;32m<ipython-input-3-f8d44b214e54>\u001b[0m in \u001b[0;36m<module>\u001b[0;34m()\u001b[0m\n\u001b[0;32m----> 1\u001b[0;31m \u001b[0msam\u001b[0m \u001b[0;34m=\u001b[0m \u001b[0mint\u001b[0m\u001b[0;34m(\u001b[0m\u001b[0mraw_input\u001b[0m\u001b[0;34m(\u001b[0m\u001b[0mm\u001b[0m\u001b[0;34m)\u001b[0m\u001b[0;34m)\u001b[0m\u001b[0;34m\u001b[0m\u001b[0m\n\u001b[0m\u001b[1;32m      2\u001b[0m \u001b[0mx\u001b[0m \u001b[0;34m=\u001b[0m \u001b[0msam\u001b[0m\u001b[0;34m*\u001b[0m\u001b[0;36m3\u001b[0m\u001b[0;34m\u001b[0m\u001b[0m\n\u001b[1;32m      3\u001b[0m \u001b[0;32mprint\u001b[0m \u001b[0mx\u001b[0m\u001b[0;34m\u001b[0m\u001b[0m\n",
      "\u001b[0;31mNameError\u001b[0m: name 'm' is not defined"
     ]
    }
   ],
   "source": [
    "sam = int(raw_input(m))\n",
    "x = sam*3\n",
    "print x"
   ]
  },
  {
   "cell_type": "code",
   "execution_count": null,
   "metadata": {},
   "outputs": [],
   "source": [
    "sam = raw_input()"
   ]
  },
  {
   "cell_type": "code",
   "execution_count": 9,
   "metadata": {},
   "outputs": [
    {
     "name": "stdout",
     "output_type": "stream",
     "text": [
      "Sample names (no _all) seperated with a comma:\n",
      "34\n"
     ]
    },
    {
     "data": {
      "text/plain": [
       "2"
      ]
     },
     "execution_count": 9,
     "metadata": {},
     "output_type": "execute_result"
    }
   ],
   "source": [
    "sam = raw_input('Sample names (no _all) seperated with a comma:\\n')\n",
    "len(sam)"
   ]
  },
  {
   "cell_type": "code",
   "execution_count": 11,
   "metadata": {},
   "outputs": [
    {
     "data": {
      "text/plain": [
       "3"
      ]
     },
     "execution_count": 11,
     "metadata": {},
     "output_type": "execute_result"
    }
   ],
   "source": [
    "len('34\\t')"
   ]
  },
  {
   "cell_type": "code",
   "execution_count": 12,
   "metadata": {},
   "outputs": [
    {
     "name": "stdout",
     "output_type": "stream",
     "text": [
      "['x', 'y', 'z']\n",
      "y\tz\n"
     ]
    }
   ],
   "source": [
    "ids = 'x y z'\n",
    "ids = ids.split(' ')\n",
    "print ids\n",
    "ids = ids[1]+'\\t'+ids[2]\n",
    "print ids"
   ]
  },
  {
   "cell_type": "code",
   "execution_count": 35,
   "metadata": {},
   "outputs": [
    {
     "name": "stdout",
     "output_type": "stream",
     "text": [
      "['x']\n"
     ]
    }
   ],
   "source": [
    "sam = 'x'\n",
    "sam = re.split(r'\\s*\\,+\\s*', sam)\n",
    "print sam"
   ]
  },
  {
   "cell_type": "code",
   "execution_count": 47,
   "metadata": {},
   "outputs": [
    {
     "ename": "TypeError",
     "evalue": "cannot concatenate 'str' and 'float' objects",
     "output_type": "error",
     "traceback": [
      "\u001b[0;31m---------------------------------------------------------------------------\u001b[0m\n\u001b[0;31mTypeError\u001b[0m                                 Traceback (most recent call last)",
      "\u001b[0;32m<ipython-input-47-51b20a2d43ff>\u001b[0m in \u001b[0;36m<module>\u001b[0;34m()\u001b[0m\n\u001b[1;32m      1\u001b[0m \u001b[0ma\u001b[0m \u001b[0;34m=\u001b[0m \u001b[0;34m'm'\u001b[0m\u001b[0;34m\u001b[0m\u001b[0m\n\u001b[0;32m----> 2\u001b[0;31m \u001b[0;32mprint\u001b[0m \u001b[0ma\u001b[0m\u001b[0;34m+\u001b[0m\u001b[0;34m'\\t'\u001b[0m\u001b[0;34m+\u001b[0m\u001b[0;36m11.5\u001b[0m\u001b[0;34m\u001b[0m\u001b[0m\n\u001b[0m",
      "\u001b[0;31mTypeError\u001b[0m: cannot concatenate 'str' and 'float' objects"
     ]
    }
   ],
   "source": [
    "a = 'm'\n",
    "print a+'\\t'+11.5"
   ]
  },
  {
   "cell_type": "code",
   "execution_count": 2,
   "metadata": {},
   "outputs": [
    {
     "name": "stdout",
     "output_type": "stream",
     "text": [
      "['1', '2', '4', '5', '7']\n"
     ]
    }
   ],
   "source": [
    "m = ['1','2','7','4','5']\n",
    "m = sorted(m)\n",
    "print (m)"
   ]
  },
  {
   "cell_type": "code",
   "execution_count": 3,
   "metadata": {},
   "outputs": [
    {
     "name": "stdout",
     "output_type": "stream",
     "text": [
      "5 10\n",
      "no\n"
     ]
    }
   ],
   "source": [
    "m = '5\\t10'\n",
    "l,r = m.split('\\t')\n",
    "print l, r\n",
    "if (l < 10):\n",
    "    print 'yes'\n",
    "else:\n",
    "    print 'no'"
   ]
  },
  {
   "cell_type": "code",
   "execution_count": 3,
   "metadata": {},
   "outputs": [
    {
     "data": {
      "text/plain": [
       "0.75"
      ]
     },
     "execution_count": 3,
     "metadata": {},
     "output_type": "execute_result"
    }
   ],
   "source": [
    "int(3)/int(4)"
   ]
  },
  {
   "cell_type": "code",
   "execution_count": 8,
   "metadata": {},
   "outputs": [
    {
     "name": "stdout",
     "output_type": "stream",
     "text": [
      "b\n",
      "x\n",
      "y\n",
      "a\n"
     ]
    }
   ],
   "source": [
    "hs = {'a':{'x':1, 'y':7}, 'b': 11}\n",
    "\n",
    "for x in hs.keys():\n",
    "    if isinstance(hs[x],dict):\n",
    "        for z in hs[x].keys():\n",
    "            print (z)\n",
    "    print (x)\n",
    "    "
   ]
  },
  {
   "cell_type": "code",
   "execution_count": 19,
   "metadata": {},
   "outputs": [
    {
     "name": "stdout",
     "output_type": "stream",
     "text": [
      "a\n",
      "B\n",
      "c\n",
      "B\n",
      "a\n",
      "c\n"
     ]
    }
   ],
   "source": [
    "hs = {'a':1, 'B': 11, 'c':3}\n",
    "\n",
    "for x in sorted(hs.keys(), key=lambda s: s.lower()):\n",
    "    print (x)\n",
    "    \n",
    "for x in sorted(hs.keys()):\n",
    "    print (x)"
   ]
  },
  {
   "cell_type": "code",
   "execution_count": 29,
   "metadata": {},
   "outputs": [
    {
     "name": "stdout",
     "output_type": "stream",
     "text": [
      "a\n",
      "b\n",
      "c\n"
     ]
    }
   ],
   "source": [
    "x = 'a b c'\n",
    "m = x.split()\n",
    "for z in m:\n",
    "    print (z)"
   ]
  },
  {
   "cell_type": "code",
   "execution_count": null,
   "metadata": {
    "collapsed": true
   },
   "outputs": [],
   "source": []
  }
 ],
 "metadata": {
  "kernelspec": {
   "display_name": "Python 3",
   "language": "python",
   "name": "python3"
  },
  "language_info": {
   "codemirror_mode": {
    "name": "ipython",
    "version": 3
   },
   "file_extension": ".py",
   "mimetype": "text/x-python",
   "name": "python",
   "nbconvert_exporter": "python",
   "pygments_lexer": "ipython3",
   "version": "3.6.5"
  }
 },
 "nbformat": 4,
 "nbformat_minor": 1
}
